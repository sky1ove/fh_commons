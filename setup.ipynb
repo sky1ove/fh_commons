{
 "cells": [
  {
   "cell_type": "code",
   "execution_count": 3,
   "id": "824ce073-28e1-4109-b349-e99e05f39086",
   "metadata": {},
   "outputs": [],
   "source": [
    "# install our package fh_commons\n",
    "!pip install -Uq ."
   ]
  },
  {
   "cell_type": "code",
   "execution_count": 1,
   "id": "71b777ed-e440-43f5-876d-92e77c7bfa1b",
   "metadata": {},
   "outputs": [],
   "source": [
    "# update fasthtml from source\n",
    "!pip install -Uq git+https://github.com/AnswerDotAI/fasthtml.git"
   ]
  },
  {
   "cell_type": "code",
   "execution_count": null,
   "id": "ff5a2a47-87c9-4a5e-b99c-9c592fbb3225",
   "metadata": {},
   "outputs": [],
   "source": []
  }
 ],
 "metadata": {
  "kernelspec": {
   "display_name": "Python 3",
   "language": "python",
   "name": "python3"
  },
  "language_info": {
   "codemirror_mode": {
    "name": "ipython",
    "version": 3
   },
   "file_extension": ".py",
   "mimetype": "text/x-python",
   "name": "python",
   "nbconvert_exporter": "python",
   "pygments_lexer": "ipython3",
   "version": "3.10.10"
  }
 },
 "nbformat": 4,
 "nbformat_minor": 5
}
