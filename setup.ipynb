{
 "cells": [
  {
   "cell_type": "code",
   "execution_count": 2,
   "id": "824ce073-28e1-4109-b349-e99e05f39086",
   "metadata": {
    "collapsed": true,
    "jupyter": {
     "outputs_hidden": true
    }
   },
   "outputs": [
    {
     "name": "stdout",
     "output_type": "stream",
     "text": [
      "Processing /teamspace/studios/this_studio/fh_commons\n",
      "  Installing build dependencies ... \u001b[?25ldone\n",
      "\u001b[?25h  Getting requirements to build wheel ... \u001b[?25ldone\n",
      "\u001b[?25h  Preparing metadata (pyproject.toml) ... \u001b[?25ldone\n",
      "\u001b[?25hRequirement already satisfied: python-fasthtml in /system/conda/miniconda3/envs/cloudspace/lib/python3.10/site-packages (from fh_commons==0.0.1) (0.9.1)\n",
      "Requirement already satisfied: pandas in /system/conda/miniconda3/envs/cloudspace/lib/python3.10/site-packages (from fh_commons==0.0.1) (2.1.4)\n",
      "Requirement already satisfied: pyngrok in /system/conda/miniconda3/envs/cloudspace/lib/python3.10/site-packages (from fh_commons==0.0.1) (7.2.0)\n",
      "Requirement already satisfied: numpy<2,>=1.22.4 in /system/conda/miniconda3/envs/cloudspace/lib/python3.10/site-packages (from pandas->fh_commons==0.0.1) (1.26.4)\n",
      "Requirement already satisfied: python-dateutil>=2.8.2 in /system/conda/miniconda3/envs/cloudspace/lib/python3.10/site-packages (from pandas->fh_commons==0.0.1) (2.9.0.post0)\n",
      "Requirement already satisfied: pytz>=2020.1 in /system/conda/miniconda3/envs/cloudspace/lib/python3.10/site-packages (from pandas->fh_commons==0.0.1) (2024.1)\n",
      "Requirement already satisfied: tzdata>=2022.1 in /system/conda/miniconda3/envs/cloudspace/lib/python3.10/site-packages (from pandas->fh_commons==0.0.1) (2024.1)\n",
      "Requirement already satisfied: PyYAML>=5.1 in /system/conda/miniconda3/envs/cloudspace/lib/python3.10/site-packages (from pyngrok->fh_commons==0.0.1) (6.0.1)\n",
      "Requirement already satisfied: fastcore>=1.7.18 in /system/conda/miniconda3/envs/cloudspace/lib/python3.10/site-packages (from python-fasthtml->fh_commons==0.0.1) (1.7.19)\n",
      "Requirement already satisfied: starlette>0.33 in /system/conda/miniconda3/envs/cloudspace/lib/python3.10/site-packages (from python-fasthtml->fh_commons==0.0.1) (0.37.2)\n",
      "Requirement already satisfied: oauthlib in /system/conda/miniconda3/envs/cloudspace/lib/python3.10/site-packages (from python-fasthtml->fh_commons==0.0.1) (3.2.2)\n",
      "Requirement already satisfied: itsdangerous in /system/conda/miniconda3/envs/cloudspace/lib/python3.10/site-packages (from python-fasthtml->fh_commons==0.0.1) (2.2.0)\n",
      "Requirement already satisfied: uvicorn>=0.30 in /system/conda/miniconda3/envs/cloudspace/lib/python3.10/site-packages (from uvicorn[standard]>=0.30->python-fasthtml->fh_commons==0.0.1) (0.30.1)\n",
      "Requirement already satisfied: httpx in /system/conda/miniconda3/envs/cloudspace/lib/python3.10/site-packages (from python-fasthtml->fh_commons==0.0.1) (0.27.0)\n",
      "Requirement already satisfied: fastlite>=0.0.9 in /system/conda/miniconda3/envs/cloudspace/lib/python3.10/site-packages (from python-fasthtml->fh_commons==0.0.1) (0.0.11)\n",
      "Requirement already satisfied: python-multipart in /system/conda/miniconda3/envs/cloudspace/lib/python3.10/site-packages (from python-fasthtml->fh_commons==0.0.1) (0.0.9)\n",
      "Requirement already satisfied: beautifulsoup4 in /system/conda/miniconda3/envs/cloudspace/lib/python3.10/site-packages (from python-fasthtml->fh_commons==0.0.1) (4.12.3)\n",
      "Requirement already satisfied: packaging in /system/conda/miniconda3/envs/cloudspace/lib/python3.10/site-packages (from fastcore>=1.7.18->python-fasthtml->fh_commons==0.0.1) (24.1)\n",
      "Requirement already satisfied: sqlite-minutils>=3.37 in /system/conda/miniconda3/envs/cloudspace/lib/python3.10/site-packages (from fastlite>=0.0.9->python-fasthtml->fh_commons==0.0.1) (3.37.0.post3)\n",
      "Requirement already satisfied: six>=1.5 in /system/conda/miniconda3/envs/cloudspace/lib/python3.10/site-packages (from python-dateutil>=2.8.2->pandas->fh_commons==0.0.1) (1.16.0)\n",
      "Requirement already satisfied: anyio<5,>=3.4.0 in /system/conda/miniconda3/envs/cloudspace/lib/python3.10/site-packages (from starlette>0.33->python-fasthtml->fh_commons==0.0.1) (4.4.0)\n",
      "Requirement already satisfied: click>=7.0 in /system/conda/miniconda3/envs/cloudspace/lib/python3.10/site-packages (from uvicorn>=0.30->uvicorn[standard]>=0.30->python-fasthtml->fh_commons==0.0.1) (8.1.7)\n",
      "Requirement already satisfied: h11>=0.8 in /system/conda/miniconda3/envs/cloudspace/lib/python3.10/site-packages (from uvicorn>=0.30->uvicorn[standard]>=0.30->python-fasthtml->fh_commons==0.0.1) (0.14.0)\n",
      "Requirement already satisfied: typing-extensions>=4.0 in /system/conda/miniconda3/envs/cloudspace/lib/python3.10/site-packages (from uvicorn>=0.30->uvicorn[standard]>=0.30->python-fasthtml->fh_commons==0.0.1) (4.12.2)\n",
      "Requirement already satisfied: httptools>=0.5.0 in /system/conda/miniconda3/envs/cloudspace/lib/python3.10/site-packages (from uvicorn[standard]>=0.30->python-fasthtml->fh_commons==0.0.1) (0.6.1)\n",
      "Requirement already satisfied: python-dotenv>=0.13 in /system/conda/miniconda3/envs/cloudspace/lib/python3.10/site-packages (from uvicorn[standard]>=0.30->python-fasthtml->fh_commons==0.0.1) (1.0.1)\n",
      "Requirement already satisfied: uvloop!=0.15.0,!=0.15.1,>=0.14.0 in /system/conda/miniconda3/envs/cloudspace/lib/python3.10/site-packages (from uvicorn[standard]>=0.30->python-fasthtml->fh_commons==0.0.1) (0.19.0)\n",
      "Requirement already satisfied: watchfiles>=0.13 in /system/conda/miniconda3/envs/cloudspace/lib/python3.10/site-packages (from uvicorn[standard]>=0.30->python-fasthtml->fh_commons==0.0.1) (0.22.0)\n",
      "Requirement already satisfied: websockets>=10.4 in /system/conda/miniconda3/envs/cloudspace/lib/python3.10/site-packages (from uvicorn[standard]>=0.30->python-fasthtml->fh_commons==0.0.1) (12.0)\n",
      "Requirement already satisfied: soupsieve>1.2 in /system/conda/miniconda3/envs/cloudspace/lib/python3.10/site-packages (from beautifulsoup4->python-fasthtml->fh_commons==0.0.1) (2.5)\n",
      "Requirement already satisfied: certifi in /system/conda/miniconda3/envs/cloudspace/lib/python3.10/site-packages (from httpx->python-fasthtml->fh_commons==0.0.1) (2024.7.4)\n",
      "Requirement already satisfied: httpcore==1.* in /system/conda/miniconda3/envs/cloudspace/lib/python3.10/site-packages (from httpx->python-fasthtml->fh_commons==0.0.1) (1.0.5)\n",
      "Requirement already satisfied: idna in /system/conda/miniconda3/envs/cloudspace/lib/python3.10/site-packages (from httpx->python-fasthtml->fh_commons==0.0.1) (3.7)\n",
      "Requirement already satisfied: sniffio in /system/conda/miniconda3/envs/cloudspace/lib/python3.10/site-packages (from httpx->python-fasthtml->fh_commons==0.0.1) (1.3.1)\n",
      "Requirement already satisfied: exceptiongroup>=1.0.2 in /system/conda/miniconda3/envs/cloudspace/lib/python3.10/site-packages (from anyio<5,>=3.4.0->starlette>0.33->python-fasthtml->fh_commons==0.0.1) (1.2.1)\n",
      "Building wheels for collected packages: fh_commons\n",
      "  Building wheel for fh_commons (pyproject.toml) ... \u001b[?25ldone\n",
      "\u001b[?25h  Created wheel for fh_commons: filename=fh_commons-0.0.1-py3-none-any.whl size=16470 sha256=0ede9ad7dadf1653ca28279733aedc4a0da380446e948505f75388fcdbb4df80\n",
      "  Stored in directory: /tmp/pip-ephem-wheel-cache-b6dx5yj0/wheels/7e/85/8b/6776231a09ad5e64f9252a4fdaad3343f28a71c018bdd3c36b\n",
      "Successfully built fh_commons\n",
      "Installing collected packages: fh_commons\n",
      "  Attempting uninstall: fh_commons\n",
      "    Found existing installation: fh_commons 0.0.1\n",
      "    Uninstalling fh_commons-0.0.1:\n",
      "      Successfully uninstalled fh_commons-0.0.1\n",
      "Successfully installed fh_commons-0.0.1\n",
      "\n",
      "\u001b[1m[\u001b[0m\u001b[34;49mnotice\u001b[0m\u001b[1;39;49m]\u001b[0m\u001b[39;49m A new release of pip is available: \u001b[0m\u001b[31;49m24.2\u001b[0m\u001b[39;49m -> \u001b[0m\u001b[32;49m24.3.1\u001b[0m\n",
      "\u001b[1m[\u001b[0m\u001b[34;49mnotice\u001b[0m\u001b[1;39;49m]\u001b[0m\u001b[39;49m To update, run: \u001b[0m\u001b[32;49mpip install --upgrade pip\u001b[0m\n"
     ]
    }
   ],
   "source": [
    "# install our package fh_commons\n",
    "!pip install -U ."
   ]
  },
  {
   "cell_type": "code",
   "execution_count": 1,
   "id": "71b777ed-e440-43f5-876d-92e77c7bfa1b",
   "metadata": {},
   "outputs": [
    {
     "name": "stdout",
     "output_type": "stream",
     "text": [
      "Collecting git+https://github.com/AnswerDotAI/fasthtml.git\n",
      "  Cloning https://github.com/AnswerDotAI/fasthtml.git to /tmp/pip-req-build-ldx3iuyj\n",
      "  Running command git clone --filter=blob:none --quiet https://github.com/AnswerDotAI/fasthtml.git /tmp/pip-req-build-ldx3iuyj\n",
      "\n",
      "  Resolved https://github.com/AnswerDotAI/fasthtml.git to commit 3b6c7000df01bf10329214f4ff13918317f1fd20\n",
      "  Installing build dependencies ... \u001b[?25ldone\n",
      "\u001b[?25h  Getting requirements to build wheel ... \u001b[?25ldone\n",
      "\u001b[?25h  Preparing metadata (pyproject.toml) ... \u001b[?25ldone\n",
      "\u001b[?25hRequirement already satisfied: fastcore>=1.7.18 in /system/conda/miniconda3/envs/cloudspace/lib/python3.10/site-packages (from python-fasthtml==0.9.1) (1.7.19)\n",
      "Requirement already satisfied: python-dateutil in /system/conda/miniconda3/envs/cloudspace/lib/python3.10/site-packages (from python-fasthtml==0.9.1) (2.9.0.post0)\n",
      "Requirement already satisfied: starlette>0.33 in /system/conda/miniconda3/envs/cloudspace/lib/python3.10/site-packages (from python-fasthtml==0.9.1) (0.37.2)\n",
      "Requirement already satisfied: oauthlib in /system/conda/miniconda3/envs/cloudspace/lib/python3.10/site-packages (from python-fasthtml==0.9.1) (3.2.2)\n",
      "Requirement already satisfied: itsdangerous in /system/conda/miniconda3/envs/cloudspace/lib/python3.10/site-packages (from python-fasthtml==0.9.1) (2.2.0)\n",
      "Requirement already satisfied: uvicorn>=0.30 in /system/conda/miniconda3/envs/cloudspace/lib/python3.10/site-packages (from uvicorn[standard]>=0.30->python-fasthtml==0.9.1) (0.30.1)\n",
      "Requirement already satisfied: httpx in /system/conda/miniconda3/envs/cloudspace/lib/python3.10/site-packages (from python-fasthtml==0.9.1) (0.27.0)\n",
      "Requirement already satisfied: fastlite>=0.0.9 in /system/conda/miniconda3/envs/cloudspace/lib/python3.10/site-packages (from python-fasthtml==0.9.1) (0.0.11)\n",
      "Requirement already satisfied: python-multipart in /system/conda/miniconda3/envs/cloudspace/lib/python3.10/site-packages (from python-fasthtml==0.9.1) (0.0.9)\n",
      "Requirement already satisfied: beautifulsoup4 in /system/conda/miniconda3/envs/cloudspace/lib/python3.10/site-packages (from python-fasthtml==0.9.1) (4.12.3)\n",
      "Requirement already satisfied: packaging in /system/conda/miniconda3/envs/cloudspace/lib/python3.10/site-packages (from fastcore>=1.7.18->python-fasthtml==0.9.1) (24.1)\n",
      "Requirement already satisfied: sqlite-minutils>=3.37 in /system/conda/miniconda3/envs/cloudspace/lib/python3.10/site-packages (from fastlite>=0.0.9->python-fasthtml==0.9.1) (3.37.0.post3)\n",
      "Requirement already satisfied: anyio<5,>=3.4.0 in /system/conda/miniconda3/envs/cloudspace/lib/python3.10/site-packages (from starlette>0.33->python-fasthtml==0.9.1) (4.4.0)\n",
      "Requirement already satisfied: click>=7.0 in /system/conda/miniconda3/envs/cloudspace/lib/python3.10/site-packages (from uvicorn>=0.30->uvicorn[standard]>=0.30->python-fasthtml==0.9.1) (8.1.7)\n",
      "Requirement already satisfied: h11>=0.8 in /system/conda/miniconda3/envs/cloudspace/lib/python3.10/site-packages (from uvicorn>=0.30->uvicorn[standard]>=0.30->python-fasthtml==0.9.1) (0.14.0)\n",
      "Requirement already satisfied: typing-extensions>=4.0 in /system/conda/miniconda3/envs/cloudspace/lib/python3.10/site-packages (from uvicorn>=0.30->uvicorn[standard]>=0.30->python-fasthtml==0.9.1) (4.12.2)\n",
      "Requirement already satisfied: httptools>=0.5.0 in /system/conda/miniconda3/envs/cloudspace/lib/python3.10/site-packages (from uvicorn[standard]>=0.30->python-fasthtml==0.9.1) (0.6.1)\n",
      "Requirement already satisfied: python-dotenv>=0.13 in /system/conda/miniconda3/envs/cloudspace/lib/python3.10/site-packages (from uvicorn[standard]>=0.30->python-fasthtml==0.9.1) (1.0.1)\n",
      "Requirement already satisfied: pyyaml>=5.1 in /system/conda/miniconda3/envs/cloudspace/lib/python3.10/site-packages (from uvicorn[standard]>=0.30->python-fasthtml==0.9.1) (6.0.1)\n",
      "Requirement already satisfied: uvloop!=0.15.0,!=0.15.1,>=0.14.0 in /system/conda/miniconda3/envs/cloudspace/lib/python3.10/site-packages (from uvicorn[standard]>=0.30->python-fasthtml==0.9.1) (0.19.0)\n",
      "Requirement already satisfied: watchfiles>=0.13 in /system/conda/miniconda3/envs/cloudspace/lib/python3.10/site-packages (from uvicorn[standard]>=0.30->python-fasthtml==0.9.1) (0.22.0)\n",
      "Requirement already satisfied: websockets>=10.4 in /system/conda/miniconda3/envs/cloudspace/lib/python3.10/site-packages (from uvicorn[standard]>=0.30->python-fasthtml==0.9.1) (12.0)\n",
      "Requirement already satisfied: soupsieve>1.2 in /system/conda/miniconda3/envs/cloudspace/lib/python3.10/site-packages (from beautifulsoup4->python-fasthtml==0.9.1) (2.5)\n",
      "Requirement already satisfied: certifi in /system/conda/miniconda3/envs/cloudspace/lib/python3.10/site-packages (from httpx->python-fasthtml==0.9.1) (2024.7.4)\n",
      "Requirement already satisfied: httpcore==1.* in /system/conda/miniconda3/envs/cloudspace/lib/python3.10/site-packages (from httpx->python-fasthtml==0.9.1) (1.0.5)\n",
      "Requirement already satisfied: idna in /system/conda/miniconda3/envs/cloudspace/lib/python3.10/site-packages (from httpx->python-fasthtml==0.9.1) (3.7)\n",
      "Requirement already satisfied: sniffio in /system/conda/miniconda3/envs/cloudspace/lib/python3.10/site-packages (from httpx->python-fasthtml==0.9.1) (1.3.1)\n",
      "Requirement already satisfied: six>=1.5 in /system/conda/miniconda3/envs/cloudspace/lib/python3.10/site-packages (from python-dateutil->python-fasthtml==0.9.1) (1.16.0)\n",
      "Requirement already satisfied: exceptiongroup>=1.0.2 in /system/conda/miniconda3/envs/cloudspace/lib/python3.10/site-packages (from anyio<5,>=3.4.0->starlette>0.33->python-fasthtml==0.9.1) (1.2.1)\n",
      "\n",
      "\u001b[1m[\u001b[0m\u001b[34;49mnotice\u001b[0m\u001b[1;39;49m]\u001b[0m\u001b[39;49m A new release of pip is available: \u001b[0m\u001b[31;49m24.2\u001b[0m\u001b[39;49m -> \u001b[0m\u001b[32;49m24.3.1\u001b[0m\n",
      "\u001b[1m[\u001b[0m\u001b[34;49mnotice\u001b[0m\u001b[1;39;49m]\u001b[0m\u001b[39;49m To update, run: \u001b[0m\u001b[32;49mpip install --upgrade pip\u001b[0m\n"
     ]
    }
   ],
   "source": [
    "# update fasthtml from source\n",
    "!pip install -U git+https://github.com/AnswerDotAI/fasthtml.git"
   ]
  },
  {
   "cell_type": "code",
   "execution_count": null,
   "id": "555a23a9-9327-4661-89b8-a2ed53467902",
   "metadata": {},
   "outputs": [],
   "source": []
  }
 ],
 "metadata": {
  "kernelspec": {
   "display_name": "Python 3",
   "language": "python",
   "name": "python3"
  },
  "language_info": {
   "codemirror_mode": {
    "name": "ipython",
    "version": 3
   },
   "file_extension": ".py",
   "mimetype": "text/x-python",
   "name": "python",
   "nbconvert_exporter": "python",
   "pygments_lexer": "ipython3",
   "version": "3.10.10"
  }
 },
 "nbformat": 4,
 "nbformat_minor": 5
}
