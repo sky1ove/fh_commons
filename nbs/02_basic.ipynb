{
 "cells": [
  {
   "cell_type": "markdown",
   "id": "43e3762c-d51c-427b-a43f-fcdfdc5ee468",
   "metadata": {},
   "source": [
    "# Basic"
   ]
  },
  {
   "cell_type": "markdown",
   "id": "9a0e6f0d-a489-4ba8-80ea-25ff4e10eace",
   "metadata": {},
   "source": [
    "## Setup"
   ]
  },
  {
   "cell_type": "code",
   "execution_count": 1,
   "id": "a7035ce1-7b0a-47b7-beb0-ee1c4b12f4fa",
   "metadata": {},
   "outputs": [],
   "source": [
    "#| default_exp basic"
   ]
  },
  {
   "cell_type": "code",
   "execution_count": 3,
   "id": "12b8e553-87f5-47fb-89ab-7b1d57cbb63d",
   "metadata": {},
   "outputs": [],
   "source": [
    "#| export\n",
    "from fasthtml.common import *\n",
    "from fasthtml.jupyter import *\n",
    "\n",
    "from fh_commons.core import *\n",
    "from fh_commons.static import *\n",
    "\n",
    "import json\n",
    "import pandas as pd\n",
    "from math import ceil"
   ]
  },
  {
   "cell_type": "code",
   "execution_count": 4,
   "id": "67e380e6-f435-4141-8ac2-1b0f07d631b1",
   "metadata": {},
   "outputs": [],
   "source": [
    "hdrs = bootstrap_hdrs()+download_js()+datatable_hdrs()"
   ]
  },
  {
   "cell_type": "code",
   "execution_count": 5,
   "id": "e3d12176-49bb-4a87-b3c8-f70be1a141a8",
   "metadata": {},
   "outputs": [
    {
     "data": {
      "text/html": [
       "<link href=\"https://cdn.jsdelivr.net/npm/bootstrap@5.3.3/dist/css/bootstrap.min.css\" rel=\"stylesheet\">\n",
       "<script src=\"https://cdn.jsdelivr.net/npm/bootstrap@5.3.3/dist/js/bootstrap.bundle.min.js\"></script><link href=\"https://cdn.jsdelivr.net/npm/bootstrap-icons@1.11.3/font/bootstrap-icons.min.css\" rel=\"stylesheet\">\n",
       "<script>\n",
       "            document.addEventListener('htmx:load', function() {\n",
       "                var tooltipTriggerList = document.querySelectorAll('[data-bs-toggle=\"tooltip\"]');\n",
       "                var tooltipList = [...tooltipTriggerList].map(tooltipTriggerEl => new bootstrap.Tooltip(tooltipTriggerEl));\n",
       "            });\n",
       "        </script><script src=\"./imports/download_csv_svg.js\"></script><script src=\"https://code.jquery.com/jquery-3.7.1.js\"></script><script src=\"https://cdn.datatables.net/2.1.5/js/dataTables.js\"></script><script src=\"https://cdn.datatables.net/2.1.5/js/dataTables.bootstrap5.js\"></script><link rel=\"stylesheet\" href=\"https://cdnjs.cloudflare.com/ajax/libs/twitter-bootstrap/5.3.0/css/bootstrap.min.css\">\n",
       "<link rel=\"stylesheet\" href=\"https://cdn.datatables.net/2.1.5/css/dataTables.bootstrap5.css\">\n",
       "<script>if (window.htmx) htmx.process(document.body)</script>"
      ],
      "text/plain": [
       "<IPython.core.display.HTML object>"
      ]
     },
     "metadata": {},
     "output_type": "display_data"
    }
   ],
   "source": [
    "show(*hdrs)"
   ]
  },
  {
   "cell_type": "code",
   "execution_count": 6,
   "id": "e8c6b509-b0f4-4a0f-bcb9-5d00ab37d095",
   "metadata": {},
   "outputs": [
    {
     "name": "stdout",
     "output_type": "stream",
     "text": [
      "ngrok tunnel opened at: https://a223-3-238-95-91.ngrok-free.app\n"
     ]
    }
   ],
   "source": [
    "#| eval: False\n",
    "from ngrok_token import *\n",
    "url = start_ngrok(token)"
   ]
  },
  {
   "cell_type": "code",
   "execution_count": 7,
   "id": "ec7cadbe-26cb-4945-85b6-3672c501ff36",
   "metadata": {},
   "outputs": [
    {
     "data": {
      "text/html": [
       "\n",
       "<script>\n",
       "document.body.addEventListener('htmx:configRequest', (event) => {\n",
       "    if(event.detail.path.includes('://')) return;\n",
       "    htmx.config.selfRequestsOnly=false;\n",
       "    event.detail.path = `${location.protocol}//${location.hostname}:8000${event.detail.path}`;\n",
       "});\n",
       "</script>"
      ],
      "text/plain": [
       "<IPython.core.display.HTML object>"
      ]
     },
     "metadata": {},
     "output_type": "display_data"
    }
   ],
   "source": [
    "app,rt = fast_app(pico=False,hdrs=hdrs)\n",
    "server = JupyUvi(app)"
   ]
  },
  {
   "cell_type": "markdown",
   "id": "cf87f245-26d2-40ee-b76f-1c94b4507b2d",
   "metadata": {
    "jp-MarkdownHeadingCollapsed": true
   },
   "source": [
    "## Request"
   ]
  },
  {
   "cell_type": "markdown",
   "id": "7ec2990a-b5cf-41bc-aee0-3b9fec8c59af",
   "metadata": {},
   "source": [
    "### req.url"
   ]
  },
  {
   "cell_type": "markdown",
   "id": "2efc863a-e543-4e72-a4ea-5bff7a5f3c23",
   "metadata": {},
   "source": [
    "Get current page's url"
   ]
  },
  {
   "cell_type": "code",
   "execution_count": 15,
   "id": "bd1a35a0-c142-4758-95df-8655d185caee",
   "metadata": {},
   "outputs": [],
   "source": [
    "@rt\n",
    "def sdf(req):\n",
    "    return P(req.url)"
   ]
  },
  {
   "cell_type": "code",
   "execution_count": 18,
   "id": "513d93fe-9ecc-458a-acfa-9546f4d55754",
   "metadata": {},
   "outputs": [
    {
     "data": {
      "text/html": [
       "<iframe src=\"https://4687-3-81-185-19.ngrok-free.app/sdf\" style=\"width: 100%; height: auto; border: none;\" onload=\"{\n",
       "        let frame = this;\n",
       "        window.addEventListener('message', function(e) {\n",
       "            if (e.data.height) frame.style.height = (e.data.height+1) + 'px';\n",
       "        }, false);\n",
       "    }\" allow=\"accelerometer; autoplay; camera; clipboard-read; clipboard-write; display-capture; encrypted-media; fullscreen; gamepad; geolocation; gyroscope; hid; identity-credentials-get; idle-detection; magnetometer; microphone; midi; payment; picture-in-picture; publickey-credentials-get; screen-wake-lock; serial; usb; web-share; xr-spatial-tracking\"></iframe> "
      ],
      "text/plain": [
       "<IPython.core.display.HTML object>"
      ]
     },
     "execution_count": 18,
     "metadata": {},
     "output_type": "execute_result"
    }
   ],
   "source": [
    "htmx(url,'/sdf')"
   ]
  },
  {
   "cell_type": "markdown",
   "id": "7c8c4eca-519b-45f2-8846-f24165e8d282",
   "metadata": {},
   "source": [
    "### req.url_for"
   ]
  },
  {
   "cell_type": "markdown",
   "id": "8fff9437-601b-4202-a838-6fc80f79d066",
   "metadata": {},
   "source": [
    "Get original "
   ]
  },
  {
   "cell_type": "code",
   "execution_count": 19,
   "id": "b6289491-f9b4-444e-9c3a-6a02ec037a6c",
   "metadata": {},
   "outputs": [],
   "source": [
    "@rt\n",
    "def sdf(req):\n",
    "    return P(req.url_for('sdf'))"
   ]
  },
  {
   "cell_type": "code",
   "execution_count": 20,
   "id": "02c3dca0-c814-42d5-a9c0-901d8d5958f6",
   "metadata": {},
   "outputs": [
    {
     "data": {
      "text/html": [
       "<iframe src=\"https://4687-3-81-185-19.ngrok-free.app/sdf\" style=\"width: 100%; height: auto; border: none;\" onload=\"{\n",
       "        let frame = this;\n",
       "        window.addEventListener('message', function(e) {\n",
       "            if (e.data.height) frame.style.height = (e.data.height+1) + 'px';\n",
       "        }, false);\n",
       "    }\" allow=\"accelerometer; autoplay; camera; clipboard-read; clipboard-write; display-capture; encrypted-media; fullscreen; gamepad; geolocation; gyroscope; hid; identity-credentials-get; idle-detection; magnetometer; microphone; midi; payment; picture-in-picture; publickey-credentials-get; screen-wake-lock; serial; usb; web-share; xr-spatial-tracking\"></iframe> "
      ],
      "text/plain": [
       "<IPython.core.display.HTML object>"
      ]
     },
     "execution_count": 20,
     "metadata": {},
     "output_type": "execute_result"
    }
   ],
   "source": [
    "htmx(url,'/sdf')"
   ]
  },
  {
   "cell_type": "markdown",
   "id": "5e04753e-0026-49fb-8319-20f156f87991",
   "metadata": {},
   "source": [
    "With param:"
   ]
  },
  {
   "cell_type": "code",
   "execution_count": 35,
   "id": "2b8de4d0-e422-47b6-9852-da97350cedea",
   "metadata": {},
   "outputs": [],
   "source": [
    "# @rt(\"/api/{data}\")\n",
    "# def this(req,data:str):\n",
    "#     return req.url_for('this',data=data)"
   ]
  },
  {
   "cell_type": "code",
   "execution_count": 36,
   "id": "b6903a96-2469-4fac-ab22-d4e76bcef4fb",
   "metadata": {},
   "outputs": [
    {
     "data": {
      "text/html": [
       "<iframe src=\"https://2425-3-81-185-19.ngrok-free.app/api/ssss\" style=\"width: 100%; height: auto; border: none;\" onload=\"{\n",
       "        let frame = this;\n",
       "        window.addEventListener('message', function(e) {\n",
       "            if (e.data.height) frame.style.height = (e.data.height+1) + 'px';\n",
       "        }, false);\n",
       "    }\" allow=\"accelerometer; autoplay; camera; clipboard-read; clipboard-write; display-capture; encrypted-media; fullscreen; gamepad; geolocation; gyroscope; hid; identity-credentials-get; idle-detection; magnetometer; microphone; midi; payment; picture-in-picture; publickey-credentials-get; screen-wake-lock; serial; usb; web-share; xr-spatial-tracking\"></iframe> "
      ],
      "text/plain": [
       "<IPython.core.display.HTML object>"
      ]
     },
     "execution_count": 36,
     "metadata": {},
     "output_type": "execute_result"
    }
   ],
   "source": [
    "# htmx(url,'/api/ssss')"
   ]
  },
  {
   "cell_type": "markdown",
   "id": "c5620867-43d6-4a1a-a761-da648cd69210",
   "metadata": {
    "jp-MarkdownHeadingCollapsed": true
   },
   "source": [
    "## Toasts"
   ]
  },
  {
   "cell_type": "markdown",
   "id": "100968e9-2bd4-437d-bee2-8c68c6016997",
   "metadata": {},
   "source": [
    "toasts options: \"info\", \"success\", \"warning\", \"error\""
   ]
  },
  {
   "cell_type": "code",
   "execution_count": 21,
   "id": "55eed7f7-40fa-4b03-9098-f7b0a357c44e",
   "metadata": {},
   "outputs": [],
   "source": [
    "setup_toasts(app)"
   ]
  },
  {
   "cell_type": "code",
   "execution_count": 22,
   "id": "b0af3d9b-cc32-4bed-880d-e984ab993b84",
   "metadata": {},
   "outputs": [],
   "source": [
    "@rt\n",
    "def test():\n",
    "    return A('click to trigger toasts',hx_get=tt,target_id='content'),Div(id='content')\n",
    "\n",
    "@rt\n",
    "def tt(sess):\n",
    "    return add_toast(sess, \"Please upload a csv or excel file\", \"error\")"
   ]
  },
  {
   "cell_type": "code",
   "execution_count": 29,
   "id": "18fa7c86-4d7f-4ade-af25-05cefcf8a377",
   "metadata": {},
   "outputs": [
    {
     "data": {
      "text/html": [
       "<iframe src=\"https://4687-3-81-185-19.ngrok-free.app/test\" style=\"width: 100%; height: auto; border: none;\" onload=\"{\n",
       "        let frame = this;\n",
       "        window.addEventListener('message', function(e) {\n",
       "            if (e.data.height) frame.style.height = (e.data.height+1) + 'px';\n",
       "        }, false);\n",
       "    }\" allow=\"accelerometer; autoplay; camera; clipboard-read; clipboard-write; display-capture; encrypted-media; fullscreen; gamepad; geolocation; gyroscope; hid; identity-credentials-get; idle-detection; magnetometer; microphone; midi; payment; picture-in-picture; publickey-credentials-get; screen-wake-lock; serial; usb; web-share; xr-spatial-tracking\"></iframe> "
      ],
      "text/plain": [
       "<IPython.core.display.HTML object>"
      ]
     },
     "execution_count": 29,
     "metadata": {},
     "output_type": "execute_result"
    }
   ],
   "source": [
    "htmx(url,'/test')"
   ]
  },
  {
   "cell_type": "markdown",
   "id": "39eda5f4-9cf4-4039-aee4-c4c3e78f2f3f",
   "metadata": {
    "jp-MarkdownHeadingCollapsed": true
   },
   "source": [
    "## Download file through a link"
   ]
  },
  {
   "cell_type": "code",
   "execution_count": 30,
   "id": "b7866b81-4594-459c-9d3c-3e4477b0e710",
   "metadata": {},
   "outputs": [],
   "source": [
    "@app.get\n",
    "def download_example():\n",
    "    return FileResponse('data/example.csv')\n",
    "\n",
    "@rt\n",
    "def test(req):\n",
    "    return A('Download Example File', \n",
    "             href=req.url_for('download_example'), # for dynamic route\n",
    "             download='example.csv', # download file name\n",
    "            )"
   ]
  },
  {
   "cell_type": "code",
   "execution_count": 31,
   "id": "3317ddfe-3a5c-4483-b6b2-eaaabd3f1807",
   "metadata": {},
   "outputs": [
    {
     "data": {
      "text/html": [
       "<iframe src=\"https://4687-3-81-185-19.ngrok-free.app/test\" style=\"width: 100%; height: auto; border: none;\" onload=\"{\n",
       "        let frame = this;\n",
       "        window.addEventListener('message', function(e) {\n",
       "            if (e.data.height) frame.style.height = (e.data.height+1) + 'px';\n",
       "        }, false);\n",
       "    }\" allow=\"accelerometer; autoplay; camera; clipboard-read; clipboard-write; display-capture; encrypted-media; fullscreen; gamepad; geolocation; gyroscope; hid; identity-credentials-get; idle-detection; magnetometer; microphone; midi; payment; picture-in-picture; publickey-credentials-get; screen-wake-lock; serial; usb; web-share; xr-spatial-tracking\"></iframe> "
      ],
      "text/plain": [
       "<IPython.core.display.HTML object>"
      ]
     },
     "execution_count": 31,
     "metadata": {},
     "output_type": "execute_result"
    }
   ],
   "source": [
    "htmx(url,'/test')"
   ]
  },
  {
   "cell_type": "markdown",
   "id": "db86b82b-836e-4d44-bcba-efe879e5a62f",
   "metadata": {
    "jp-MarkdownHeadingCollapsed": true
   },
   "source": [
    "## Tooltip"
   ]
  },
  {
   "cell_type": "code",
   "execution_count": 7,
   "id": "6c132ecd-86f1-4f98-9489-f4236a52d7ac",
   "metadata": {},
   "outputs": [],
   "source": [
    "#| export\n",
    "def Tooltip(tooltip_content, # FT or str\n",
    "            trigger_content, \n",
    "            element=\"span\", \n",
    "            **kwargs):\n",
    "    \"Create a Bootstrap tooltip\"\n",
    "    \n",
    "    # Convert tooltip content using to_xml() if it's an FT element, otherwise use directly\n",
    "    tooltip_content = tooltip_content if isinstance(tooltip_content, str) else to_xml(tooltip_content)\n",
    "    \n",
    "    return ft(element,\n",
    "                trigger_content,\n",
    "                data_bs_toggle='tooltip', \n",
    "                data_bs_placement='right', \n",
    "              data_bs_custom_class='custom-tooltip', \n",
    "              data_bs_title=tooltip_content,\n",
    "              data_bs_html='true',# Enable HTML content in tooltip\n",
    "                **kwargs)"
   ]
  },
  {
   "cell_type": "code",
   "execution_count": 8,
   "id": "10dc2571-adfa-4d32-9898-6078730819e3",
   "metadata": {},
   "outputs": [],
   "source": [
    "@rt\n",
    "def test():\n",
    "    return blank(),Tooltip(P('instruction'),'❔')"
   ]
  },
  {
   "cell_type": "code",
   "execution_count": 9,
   "id": "6f912077-0001-4a0e-bff2-0218a4e0cd86",
   "metadata": {},
   "outputs": [
    {
     "data": {
      "text/html": [
       "<iframe src=\"https://4903-3-238-95-91.ngrok-free.app/test\" style=\"width: 100%; height: auto; border: none;\" onload=\"{\n",
       "        let frame = this;\n",
       "        window.addEventListener('message', function(e) {\n",
       "            if (e.data.height) frame.style.height = (e.data.height+1) + 'px';\n",
       "        }, false);\n",
       "    }\" allow=\"accelerometer; autoplay; camera; clipboard-read; clipboard-write; display-capture; encrypted-media; fullscreen; gamepad; geolocation; gyroscope; hid; identity-credentials-get; idle-detection; magnetometer; microphone; midi; payment; picture-in-picture; publickey-credentials-get; screen-wake-lock; serial; usb; web-share; xr-spatial-tracking\"></iframe> "
      ],
      "text/plain": [
       "<IPython.core.display.HTML object>"
      ]
     },
     "execution_count": 9,
     "metadata": {},
     "output_type": "execute_result"
    }
   ],
   "source": [
    "htmx(url,'/test')"
   ]
  },
  {
   "cell_type": "code",
   "execution_count": 10,
   "id": "74f1085e-a112-4a98-969c-f57622e381c7",
   "metadata": {},
   "outputs": [],
   "source": [
    "#| export\n",
    "def Helptip(tooltip_text=\" \", # FT or str\n",
    "            trigger_content=I(cls=\"bi bi-question-circle-fill\") , \n",
    "            **kwargs):\n",
    "    \"Create a Bootstrap tooltip with help icon as default\"\n",
    "\n",
    "    return Tooltip(tooltip_text,trigger_content,style=\"margin-left: 4px;\",)"
   ]
  },
  {
   "cell_type": "code",
   "execution_count": 11,
   "id": "5d5ce09c-faee-4e4c-b695-e8eb7bcf4eab",
   "metadata": {},
   "outputs": [],
   "source": [
    "@rt\n",
    "def test():\n",
    "    return blank(),P('Z Score',Helptip((P('sdfsdf'))))"
   ]
  },
  {
   "cell_type": "code",
   "execution_count": 12,
   "id": "7c22b2e5-5f27-4327-90a5-a09da8996fcf",
   "metadata": {},
   "outputs": [
    {
     "data": {
      "text/html": [
       "<iframe src=\"https://4903-3-238-95-91.ngrok-free.app/test\" style=\"width: 100%; height: auto; border: none;\" onload=\"{\n",
       "        let frame = this;\n",
       "        window.addEventListener('message', function(e) {\n",
       "            if (e.data.height) frame.style.height = (e.data.height+1) + 'px';\n",
       "        }, false);\n",
       "    }\" allow=\"accelerometer; autoplay; camera; clipboard-read; clipboard-write; display-capture; encrypted-media; fullscreen; gamepad; geolocation; gyroscope; hid; identity-credentials-get; idle-detection; magnetometer; microphone; midi; payment; picture-in-picture; publickey-credentials-get; screen-wake-lock; serial; usb; web-share; xr-spatial-tracking\"></iframe> "
      ],
      "text/plain": [
       "<IPython.core.display.HTML object>"
      ]
     },
     "execution_count": 12,
     "metadata": {},
     "output_type": "execute_result"
    }
   ],
   "source": [
    "htmx(url,'/test')"
   ]
  },
  {
   "cell_type": "markdown",
   "id": "bcfdadf5-2579-4cb9-a560-1e9c678e60c8",
   "metadata": {
    "jp-MarkdownHeadingCollapsed": true
   },
   "source": [
    "## Table / Dataframe"
   ]
  },
  {
   "cell_type": "code",
   "execution_count": 13,
   "id": "b7050f91-9d68-4352-b08f-b99a79a4192d",
   "metadata": {},
   "outputs": [],
   "source": [
    "df = pd.read_csv('data/example.csv')"
   ]
  },
  {
   "cell_type": "code",
   "execution_count": 14,
   "id": "cd6332bd-7b8b-432b-bd1a-3d02ea482be7",
   "metadata": {},
   "outputs": [],
   "source": [
    "#| export\n",
    "def df2html(df, \n",
    "             tooltips=None, # dict\n",
    "             cls='table table-striped', \n",
    "             id=None, \n",
    "             **kwargs):\n",
    "    \"\"\"Create an HTML table with Bootstrap styling and tooltips\"\"\"\n",
    "    # First create regular HTML table\n",
    "    html = df.to_html(\n",
    "        index=False,\n",
    "        border=0,\n",
    "        classes=cls,\n",
    "        justify='left',\n",
    "        table_id=id,\n",
    "        escape=True,\n",
    "        **kwargs)\n",
    "\n",
    "    if tooltips:\n",
    "        # Replace the header cells with tooltip versions\n",
    "        for col, tooltip in tooltips.items():\n",
    "            # Find the header cell containing this column name\n",
    "            pattern = f'<th>({col})</th>'\n",
    "            \n",
    "            # Create the new header with tooltip - fixed HTML structure\n",
    "            # \\\\1 preserves the original col name\n",
    "            new_header = f'''<th>\\\\1 {to_xml(Helptip(tooltip))}</th>'''\n",
    "            \n",
    "            # Replace in HTML\n",
    "            html = re.sub(pattern, new_header, html)\n",
    "\n",
    "    return NotStr(html)"
   ]
  },
  {
   "cell_type": "code",
   "execution_count": 15,
   "id": "5fceec80-125a-4904-925f-cab4f304c3a3",
   "metadata": {},
   "outputs": [],
   "source": [
    "#| export\n",
    "def download_table(*args, **kwargs):\n",
    "    \"Enable table download through a download button\"\n",
    "    return download_button(*args, onclick='downloadTableAsCSV(this)',**kwargs)"
   ]
  },
  {
   "cell_type": "markdown",
   "id": "da24e8b6-ba8e-48bd-9955-faca8f7e67a5",
   "metadata": {},
   "source": [
    "`download_table()`needs to be wrapped in the same Div with the `df2html`"
   ]
  },
  {
   "cell_type": "code",
   "execution_count": 16,
   "id": "376824d4-35db-417c-93b0-2d9830be4582",
   "metadata": {},
   "outputs": [],
   "source": [
    "@rt\n",
    "def test():\n",
    "    # to show table correctly, always needs a container\n",
    "    return Container(\n",
    "        Div(download_table(), df2html(df,tooltips={'ID': P('ssss')}))\n",
    "    )"
   ]
  },
  {
   "cell_type": "code",
   "execution_count": 17,
   "id": "4ad9cf58-43c8-4233-81d6-2ef5a19558a2",
   "metadata": {},
   "outputs": [
    {
     "data": {
      "text/html": [
       "<iframe src=\"https://4903-3-238-95-91.ngrok-free.app/test\" style=\"width: 100%; height: auto; border: none;\" onload=\"{\n",
       "        let frame = this;\n",
       "        window.addEventListener('message', function(e) {\n",
       "            if (e.data.height) frame.style.height = (e.data.height+1) + 'px';\n",
       "        }, false);\n",
       "    }\" allow=\"accelerometer; autoplay; camera; clipboard-read; clipboard-write; display-capture; encrypted-media; fullscreen; gamepad; geolocation; gyroscope; hid; identity-credentials-get; idle-detection; magnetometer; microphone; midi; payment; picture-in-picture; publickey-credentials-get; screen-wake-lock; serial; usb; web-share; xr-spatial-tracking\"></iframe> "
      ],
      "text/plain": [
       "<IPython.core.display.HTML object>"
      ]
     },
     "execution_count": 17,
     "metadata": {},
     "output_type": "execute_result"
    }
   ],
   "source": [
    "htmx(url,'/test')"
   ]
  },
  {
   "cell_type": "markdown",
   "id": "b6f9d013-05a7-464e-bc70-18fa1dd1e2d9",
   "metadata": {
    "jp-MarkdownHeadingCollapsed": true
   },
   "source": [
    "### Download invisible dataframe"
   ]
  },
  {
   "cell_type": "code",
   "execution_count": 18,
   "id": "dddff021-1786-4fbc-a182-8b4e8711e866",
   "metadata": {},
   "outputs": [],
   "source": [
    "#| export\n",
    "def send_df(df,fname, href, button=download_button(' Data')):\n",
    "    json_data = df.to_json(orient='records')\n",
    "    return Form(\n",
    "        Hidden(value=json_data,id='dataframe'),\n",
    "        Hidden(value=fname,id='fname'),\n",
    "        button,\n",
    "        method='post',\n",
    "        action=href,\n",
    "        style='display:inline;')"
   ]
  },
  {
   "cell_type": "code",
   "execution_count": 19,
   "id": "40966345-273a-4216-8fcf-efd5c79c9017",
   "metadata": {},
   "outputs": [],
   "source": [
    "#| export\n",
    "def download_df(dataframe,fname):\n",
    "    data_dict = json.loads(dataframe)\n",
    "    df = pd.DataFrame(data_dict)\n",
    "    csv_string = df.to_csv(index=False)\n",
    "\n",
    "    headers = {\n",
    "        'Content-Disposition': f'attachment; filename=\"{fname}\"'\n",
    "    }\n",
    "    return Response(csv_string, media_type='text/csv', headers=headers)"
   ]
  },
  {
   "cell_type": "code",
   "execution_count": 27,
   "id": "6fe03b2a-df40-44c2-a44a-07a14d32b04a",
   "metadata": {},
   "outputs": [],
   "source": [
    "@app.post\n",
    "def download_file(dataframe:str, fname:str):\n",
    "    return download_df(dataframe,fname)\n",
    "\n",
    "@rt\n",
    "def test(req):\n",
    "    download_button = send_df(df,\n",
    "                            fname='sdf.csv',\n",
    "                            href=req.url_for('download_file') # function name\n",
    "                           )\n",
    "    return download_button"
   ]
  },
  {
   "cell_type": "code",
   "execution_count": 28,
   "id": "1f43e878-ae3a-4a58-8f4e-16e26858210d",
   "metadata": {},
   "outputs": [
    {
     "data": {
      "text/html": [
       "<iframe src=\"https://4903-3-238-95-91.ngrok-free.app/test\" style=\"width: 100%; height: auto; border: none;\" onload=\"{\n",
       "        let frame = this;\n",
       "        window.addEventListener('message', function(e) {\n",
       "            if (e.data.height) frame.style.height = (e.data.height+1) + 'px';\n",
       "        }, false);\n",
       "    }\" allow=\"accelerometer; autoplay; camera; clipboard-read; clipboard-write; display-capture; encrypted-media; fullscreen; gamepad; geolocation; gyroscope; hid; identity-credentials-get; idle-detection; magnetometer; microphone; midi; payment; picture-in-picture; publickey-credentials-get; screen-wake-lock; serial; usb; web-share; xr-spatial-tracking\"></iframe> "
      ],
      "text/plain": [
       "<IPython.core.display.HTML object>"
      ]
     },
     "execution_count": 28,
     "metadata": {},
     "output_type": "execute_result"
    }
   ],
   "source": [
    "htmx(url, '/test')"
   ]
  },
  {
   "cell_type": "markdown",
   "id": "ed1bd988-fab4-4e47-9c98-cb5217200d96",
   "metadata": {},
   "source": [
    "### Dynamic table"
   ]
  },
  {
   "cell_type": "code",
   "execution_count": 22,
   "id": "1023e606-13e6-48c3-b208-efd979b8be64",
   "metadata": {},
   "outputs": [],
   "source": [
    "#| export\n",
    "def dynamic_table(df,id='dynamic_table', cls='table table-striped',):\n",
    "    \"Dynamic data tables; make new id names if multiple tables\"\n",
    "    script = Script(f\"new DataTable('#{id}')\")\n",
    "    return df2html(df,cls=cls,id=id),script"
   ]
  },
  {
   "cell_type": "code",
   "execution_count": 23,
   "id": "db67adb5-d6eb-42d7-9048-3ca7e724befc",
   "metadata": {},
   "outputs": [],
   "source": [
    "import numpy as np"
   ]
  },
  {
   "cell_type": "code",
   "execution_count": 24,
   "id": "a8ff0335-595d-4274-9f62-ce6bf3396db3",
   "metadata": {},
   "outputs": [],
   "source": [
    "matrix = np.random.rand(20, 10)\n",
    "df = pd.DataFrame(matrix).round(2)"
   ]
  },
  {
   "cell_type": "code",
   "execution_count": 25,
   "id": "eed345cd-fb79-4ef7-83fb-55f246dc5349",
   "metadata": {},
   "outputs": [],
   "source": [
    "@rt\n",
    "def test():\n",
    "    return Container(dynamic_table(df))"
   ]
  },
  {
   "cell_type": "code",
   "execution_count": 26,
   "id": "0a300420-6a53-45d8-acca-990af3a26e9b",
   "metadata": {},
   "outputs": [
    {
     "data": {
      "text/html": [
       "<iframe src=\"https://4903-3-238-95-91.ngrok-free.app/test\" style=\"width: 100%; height: auto; border: none;\" onload=\"{\n",
       "        let frame = this;\n",
       "        window.addEventListener('message', function(e) {\n",
       "            if (e.data.height) frame.style.height = (e.data.height+1) + 'px';\n",
       "        }, false);\n",
       "    }\" allow=\"accelerometer; autoplay; camera; clipboard-read; clipboard-write; display-capture; encrypted-media; fullscreen; gamepad; geolocation; gyroscope; hid; identity-credentials-get; idle-detection; magnetometer; microphone; midi; payment; picture-in-picture; publickey-credentials-get; screen-wake-lock; serial; usb; web-share; xr-spatial-tracking\"></iframe> "
      ],
      "text/plain": [
       "<IPython.core.display.HTML object>"
      ]
     },
     "execution_count": 26,
     "metadata": {},
     "output_type": "execute_result"
    }
   ],
   "source": [
    "htmx(url,'/test')"
   ]
  },
  {
   "cell_type": "markdown",
   "id": "c27721de-27f8-4078-acbe-edfc6047d71d",
   "metadata": {
    "jp-MarkdownHeadingCollapsed": true
   },
   "source": [
    "## Pagination"
   ]
  },
  {
   "cell_type": "code",
   "execution_count": 37,
   "id": "b4734248-e2fe-4c38-96c4-6fb9d901ef8c",
   "metadata": {},
   "outputs": [],
   "source": [
    "#| export\n",
    "def get_pagination(page,total_pages,routes):\n",
    "    \"Bootstrap-styled pagination with integrated page jump form\"\n",
    "    return Nav(\n",
    "        Ul(\n",
    "            Li(A(\"Previous\", href=f\"{routes}?page={page-1}\" if page > 1 else \"#\", \n",
    "                 cls=\"page-link\" + (\" disabled\" if page <= 1 else \"\")), \n",
    "               cls=\"page-item\"),\n",
    "            Li(Span(f\"Page {page} of {total_pages}\", cls=\"page-link\"), cls=\"page-item active\"),\n",
    "            Li(A(\"Next\", href=f\"{routes}?page={page+1}\" if page < total_pages else \"#\", \n",
    "                 cls=\"page-link\" + (\" disabled\" if page >= total_pages else \"\")), \n",
    "               cls=\"page-item\"),\n",
    "            Li(\n",
    "                Form(\n",
    "                    Input(type=\"number\", name=\"page\", placeholder=\"Page\", min=\"1\", max=str(total_pages), \n",
    "                          cls=\"form-control\", style=\"width: 100px; display: inline-block;\"),\n",
    "                    Button(\"Go\", type=\"submit\", cls=\"btn btn-primary\"),\n",
    "                    cls=\"d-flex align-items-center m-2 g-2\",\n",
    "                    method=\"get\",\n",
    "                    action=routes\n",
    "                ),\n",
    "                cls=\"page-item\"\n",
    "            ),\n",
    "            cls=\"pagination justify-content-center align-items-center\"\n",
    "        ),\n",
    "        aria_label=\"Page navigation\"\n",
    "    )"
   ]
  },
  {
   "cell_type": "markdown",
   "id": "c9d3c8d4-e1b3-4bb4-bbcd-c11fc911681d",
   "metadata": {},
   "source": [
    "Suppose I want a pagination bar for page 3 of 20"
   ]
  },
  {
   "cell_type": "code",
   "execution_count": 38,
   "id": "59213829-0082-4de3-8ec9-b798ffe9d104",
   "metadata": {},
   "outputs": [
    {
     "data": {
      "text/html": [
       "<nav aria-label=\"Page navigation\">\n",
       "  <ul class=\"pagination justify-content-center align-items-center\">\n",
       "    <li class=\"page-item\">\n",
       "<a href=\"#?page=2\" class=\"page-link\">Previous</a>    </li>\n",
       "    <li class=\"page-item active\">\n",
       "<span class=\"page-link\">Page 3 of 20</span>    </li>\n",
       "    <li class=\"page-item\">\n",
       "<a href=\"#?page=4\" class=\"page-link\">Next</a>    </li>\n",
       "    <li class=\"page-item\">\n",
       "<form enctype=\"multipart/form-data\" method=\"get\" action=\"#\" class=\"d-flex align-items-center m-2 g-2\">        <input type=\"number\" name=\"page\" placeholder=\"Page\" min=\"1\" max=\"20\" class=\"form-control\" style=\"width: 100px; display: inline-block;\">\n",
       "<button type=\"submit\" class=\"btn btn-primary\">Go</button></form>    </li>\n",
       "  </ul>\n",
       "</nav>\n",
       "<script>if (window.htmx) htmx.process(document.body)</script>"
      ],
      "text/plain": [
       "<IPython.core.display.HTML object>"
      ]
     },
     "metadata": {},
     "output_type": "display_data"
    }
   ],
   "source": [
    "%%s\n",
    "get_pagination(3,20,'#')"
   ]
  },
  {
   "cell_type": "markdown",
   "id": "bdb7e9c2-3feb-41a2-bb26-0d73bf9c1959",
   "metadata": {},
   "source": [
    "The above pagination can be combined with this function:"
   ]
  },
  {
   "cell_type": "code",
   "execution_count": 45,
   "id": "6565f189-eeac-42fa-9997-996cd0aa694f",
   "metadata": {},
   "outputs": [],
   "source": [
    "#| export\n",
    "def get_page_index(current_page, total_items, items_per_page=12):\n",
    "    \"Get start index and end index given the current page number\"\n",
    "    \n",
    "    total_pages = ceil(total_items / items_per_page) #ceil returns integer number, ceil(4.2) --> 5\n",
    "    \n",
    "    page = max(1, min(current_page, total_pages))  # Ensure page is within valid range\n",
    "    \n",
    "    start_index = (current_page - 1) * items_per_page\n",
    "    end_index = start_index + items_per_page\n",
    "    \n",
    "    return start_index, end_index,total_pages"
   ]
  },
  {
   "cell_type": "markdown",
   "id": "aa3d217e-e45e-472a-8484-fb4476c449eb",
   "metadata": {
    "jp-MarkdownHeadingCollapsed": true
   },
   "source": [
    "Suppose I have a list of 100 items, and I want each page have 12 items, so I need to calculate start index and end index given the current page (e.g., 2)"
   ]
  },
  {
   "cell_type": "code",
   "execution_count": 46,
   "id": "d5adce77-e587-4b84-a7d8-641eb1ed8f80",
   "metadata": {},
   "outputs": [
    {
     "data": {
      "text/plain": [
       "(12, 24, 9)"
      ]
     },
     "execution_count": 46,
     "metadata": {},
     "output_type": "execute_result"
    }
   ],
   "source": [
    "get_page_index(2,100,12)"
   ]
  },
  {
   "cell_type": "markdown",
   "id": "8300b580-948e-4973-ba3a-9c3947b620c5",
   "metadata": {},
   "source": [
    "Example for a pagination:"
   ]
  },
  {
   "cell_type": "code",
   "execution_count": 47,
   "id": "248e5dab-ab9f-4d31-80e0-1d52bd181117",
   "metadata": {},
   "outputs": [],
   "source": [
    "protein_list = [str(i) for i in range(100)]"
   ]
  },
  {
   "cell_type": "code",
   "execution_count": 50,
   "id": "8edecc2a-1841-4d04-83ab-36f15a4e9082",
   "metadata": {},
   "outputs": [],
   "source": [
    "@rt\n",
    "def test(req, page: int = 1):\n",
    "\n",
    "    # get item index\n",
    "    start_idx, end_idx,total_pages = get_page_index(page, len(protein_list))\n",
    "\n",
    "    # get items\n",
    "    current_proteins = protein_list[start_idx:end_idx]\n",
    "    show_proteins = P(','.join(current_proteins))\n",
    "\n",
    "    # get dynamic route\n",
    "    this_routes =req.url_for('test')\n",
    "\n",
    "    # get pagination item\n",
    "    pagination = get_pagination(page,total_pages,routes=this_routes)\n",
    "\n",
    "    return show_proteins, pagination,this_routes"
   ]
  },
  {
   "cell_type": "code",
   "execution_count": 51,
   "id": "fed52af1-eda6-4fe7-96ed-d624caa19c32",
   "metadata": {},
   "outputs": [
    {
     "data": {
      "text/html": [
       "<iframe src=\"https://4687-3-81-185-19.ngrok-free.app/test\" style=\"width: 100%; height: auto; border: none;\" onload=\"{\n",
       "        let frame = this;\n",
       "        window.addEventListener('message', function(e) {\n",
       "            if (e.data.height) frame.style.height = (e.data.height+1) + 'px';\n",
       "        }, false);\n",
       "    }\" allow=\"accelerometer; autoplay; camera; clipboard-read; clipboard-write; display-capture; encrypted-media; fullscreen; gamepad; geolocation; gyroscope; hid; identity-credentials-get; idle-detection; magnetometer; microphone; midi; payment; picture-in-picture; publickey-credentials-get; screen-wake-lock; serial; usb; web-share; xr-spatial-tracking\"></iframe> "
      ],
      "text/plain": [
       "<IPython.core.display.HTML object>"
      ]
     },
     "execution_count": 51,
     "metadata": {},
     "output_type": "execute_result"
    }
   ],
   "source": [
    "htmx(url,'/test')"
   ]
  },
  {
   "cell_type": "markdown",
   "id": "d2af2dcd-6d62-47d0-b6ec-25b22c4c26d5",
   "metadata": {
    "jp-MarkdownHeadingCollapsed": true
   },
   "source": [
    "## Modal"
   ]
  },
  {
   "cell_type": "markdown",
   "id": "2f9cc1b8-fc5f-4b60-9eaa-be306f321347",
   "metadata": {},
   "source": [
    "### Modal content"
   ]
  },
  {
   "cell_type": "code",
   "execution_count": 52,
   "id": "1a14c86d-2146-47e4-8c7e-a113327aa335",
   "metadata": {},
   "outputs": [],
   "source": [
    "#| export\n",
    "def modal_content(title, *args):\n",
    "    return Div(\n",
    "        Div(\n",
    "            Div(\n",
    "                H1(title, cls='modal-title fs-5'),\n",
    "                Button(type='button', data_bs_dismiss='modal', aria_label='Close', cls='btn-close'),\n",
    "                cls='modal-header'\n",
    "            ),\n",
    "            Div(*args, cls='modal-body'),\n",
    "            cls='modal-content'\n",
    "        ),\n",
    "        cls='modal-dialog modal-xl'\n",
    "    )"
   ]
  },
  {
   "cell_type": "code",
   "execution_count": 53,
   "id": "27c322a0-e95c-4a20-aaf3-85fde361d970",
   "metadata": {},
   "outputs": [
    {
     "data": {
      "text/html": [
       "<div class=\"modal-dialog modal-xl\">\n",
       "  <div class=\"modal-content\">\n",
       "    <div class=\"modal-header\">\n",
       "      <h1 class=\"modal-title fs-5\">Modal content</h1>\n",
       "<button type=\"button\" data-bs-dismiss=\"modal\" aria-label=\"Close\" class=\"btn-close\"></button>    </div>\n",
       "    <div class=\"modal-body\">sdfsdf</div>\n",
       "  </div>\n",
       "</div>\n",
       "<script>if (window.htmx) htmx.process(document.body)</script>"
      ],
      "text/plain": [
       "<IPython.core.display.HTML object>"
      ]
     },
     "metadata": {},
     "output_type": "display_data"
    }
   ],
   "source": [
    "%%s\n",
    "modal_content('Modal content','sdfsdf')"
   ]
  },
  {
   "cell_type": "markdown",
   "id": "acfb878e-cf6b-454d-a244-84716636c2b1",
   "metadata": {},
   "source": [
    "It can be combined with the below to search and trigger modal"
   ]
  },
  {
   "cell_type": "markdown",
   "id": "d0bbd5ef-51bb-4e04-82f1-eb2fa1581aa5",
   "metadata": {},
   "source": [
    "### Use form button to trigger modal"
   ]
  },
  {
   "cell_type": "code",
   "execution_count": 54,
   "id": "bb29678e-f778-4523-a96a-bdf8e45f5fbb",
   "metadata": {},
   "outputs": [],
   "source": [
    "#| export\n",
    "def modal_form(*form_content,post, btn_text='Search',cls=None,target_id='modals-window'):\n",
    "    \"Reference: https://htmx.org/examples/modal-bootstrap/\"\n",
    "    modal_button = Form(*form_content, # Input(type='text',id='ssss')\n",
    "                        Div(\n",
    "                            Button(btn_text,cls='btn btn-primary py-3'),\n",
    "                            data_bs_toggle='modal', \n",
    "                            data_bs_target=f'#{target_id}'),\n",
    "                        post=post, \n",
    "                        target_id=target_id, \n",
    "                        hx_trigger='submit', \n",
    "                        cls=cls)\n",
    "\n",
    "    modal_content =Div(\n",
    "        Div(\n",
    "            Div(cls='modal-content'),\n",
    "            role='document',\n",
    "            cls='modal-dialog modal-lg modal-dialog-centered'\n",
    "        ),\n",
    "        id=target_id,\n",
    "        style='display: none',\n",
    "        aria_hidden='false',\n",
    "        tabindex='-1',\n",
    "        cls='modal modal-blur fade'\n",
    "    )\n",
    "    return modal_button, modal_content"
   ]
  },
  {
   "cell_type": "code",
   "execution_count": 55,
   "id": "edad073c-a5d4-454f-9016-71c24a873009",
   "metadata": {},
   "outputs": [],
   "source": [
    "@rt\n",
    "def page():\n",
    "    modal_send = modal_form(Input(type='text',id='input_text'),post=modal)\n",
    "    return modal_send\n",
    "\n",
    "@rt\n",
    "def modal(input_text:str):\n",
    "    return modal_content('Modal title',input_text)"
   ]
  },
  {
   "cell_type": "code",
   "execution_count": 56,
   "id": "e1f754d7-1119-4900-aa5f-b3db8f515572",
   "metadata": {
    "scrolled": true
   },
   "outputs": [
    {
     "data": {
      "text/html": [
       "<iframe src=\"https://4687-3-81-185-19.ngrok-free.app/page\" style=\"width: 100%; height: auto; border: none;\" onload=\"{\n",
       "        let frame = this;\n",
       "        window.addEventListener('message', function(e) {\n",
       "            if (e.data.height) frame.style.height = (e.data.height+1) + 'px';\n",
       "        }, false);\n",
       "    }\" allow=\"accelerometer; autoplay; camera; clipboard-read; clipboard-write; display-capture; encrypted-media; fullscreen; gamepad; geolocation; gyroscope; hid; identity-credentials-get; idle-detection; magnetometer; microphone; midi; payment; picture-in-picture; publickey-credentials-get; screen-wake-lock; serial; usb; web-share; xr-spatial-tracking\"></iframe> "
      ],
      "text/plain": [
       "<IPython.core.display.HTML object>"
      ]
     },
     "execution_count": 56,
     "metadata": {},
     "output_type": "execute_result"
    }
   ],
   "source": [
    "htmx(url,'/page')"
   ]
  },
  {
   "cell_type": "markdown",
   "id": "aa5d2b64-4db9-4c6c-b376-ed3935d13198",
   "metadata": {},
   "source": [
    "### Use anchor link to trigger modal"
   ]
  },
  {
   "cell_type": "code",
   "execution_count": 57,
   "id": "59300bd7-de3e-46bf-adc8-b63404517a05",
   "metadata": {},
   "outputs": [],
   "source": [
    "#| export\n",
    "def modal_link(text,post,cls=None,target_id='modals-window'):\n",
    "    \"Reference: https://htmx.org/examples/modal-bootstrap/\"\n",
    "    modal_button = A(text,\n",
    "                     data_bs_toggle='modal', \n",
    "                     data_bs_target=f'#{target_id}',\n",
    "                     post=post, \n",
    "                     target_id=target_id, \n",
    "                     cls=cls)\n",
    "\n",
    "    modal_content =Div(\n",
    "        Div(\n",
    "            Div(cls='modal-content'),\n",
    "            role='document',\n",
    "            cls='modal-dialog modal-lg modal-dialog-centered'\n",
    "        ),\n",
    "        id=target_id,\n",
    "        style='display: none',\n",
    "        aria_hidden='false',\n",
    "        tabindex='-1',\n",
    "        cls='modal modal-blur fade'\n",
    "    )\n",
    "    return modal_button, modal_content"
   ]
  },
  {
   "cell_type": "code",
   "execution_count": 58,
   "id": "631ae560-916f-4fc8-adf1-21823fbbe482",
   "metadata": {},
   "outputs": [],
   "source": [
    "@rt\n",
    "def page():\n",
    "    modal_send = modal_link('click here',post=modal)\n",
    "    return modal_send\n",
    "\n",
    "@rt\n",
    "def modal():\n",
    "    return modal_content('Modal title','sdf')"
   ]
  },
  {
   "cell_type": "code",
   "execution_count": 59,
   "id": "a9cecfb9-eadd-4dfb-8df6-667cfce7c7c0",
   "metadata": {},
   "outputs": [
    {
     "data": {
      "text/html": [
       "<iframe src=\"https://4687-3-81-185-19.ngrok-free.app/page\" style=\"width: 100%; height: auto; border: none;\" onload=\"{\n",
       "        let frame = this;\n",
       "        window.addEventListener('message', function(e) {\n",
       "            if (e.data.height) frame.style.height = (e.data.height+1) + 'px';\n",
       "        }, false);\n",
       "    }\" allow=\"accelerometer; autoplay; camera; clipboard-read; clipboard-write; display-capture; encrypted-media; fullscreen; gamepad; geolocation; gyroscope; hid; identity-credentials-get; idle-detection; magnetometer; microphone; midi; payment; picture-in-picture; publickey-credentials-get; screen-wake-lock; serial; usb; web-share; xr-spatial-tracking\"></iframe> "
      ],
      "text/plain": [
       "<IPython.core.display.HTML object>"
      ]
     },
     "execution_count": 59,
     "metadata": {},
     "output_type": "execute_result"
    }
   ],
   "source": [
    "htmx(url,'/page')"
   ]
  },
  {
   "cell_type": "markdown",
   "id": "f9c4de2d-b718-4616-adbd-3d72547fd5ef",
   "metadata": {},
   "source": [
    "### Modal content"
   ]
  },
  {
   "cell_type": "code",
   "execution_count": 52,
   "id": "a155f85a-93b8-45a0-b7a0-1f7b9db83e42",
   "metadata": {},
   "outputs": [],
   "source": [
    "#| export\n",
    "def modal_content(title, *args):\n",
    "    return Div(\n",
    "        Div(\n",
    "            Div(\n",
    "                H1(title, cls='modal-title fs-5'),\n",
    "                Button(type='button', data_bs_dismiss='modal', aria_label='Close', cls='btn-close'),\n",
    "                cls='modal-header'\n",
    "            ),\n",
    "            Div(*args, cls='modal-body'),\n",
    "            cls='modal-content'\n",
    "        ),\n",
    "        cls='modal-dialog modal-xl'\n",
    "    )"
   ]
  },
  {
   "cell_type": "code",
   "execution_count": 53,
   "id": "b0f0af48-1325-4b22-99c0-0af3f08684ba",
   "metadata": {},
   "outputs": [
    {
     "data": {
      "text/html": [
       "<div class=\"modal-dialog modal-xl\">\n",
       "  <div class=\"modal-content\">\n",
       "    <div class=\"modal-header\">\n",
       "      <h1 class=\"modal-title fs-5\">Modal content</h1>\n",
       "<button type=\"button\" data-bs-dismiss=\"modal\" aria-label=\"Close\" class=\"btn-close\"></button>    </div>\n",
       "    <div class=\"modal-body\">sdfsdf</div>\n",
       "  </div>\n",
       "</div>\n",
       "<script>if (window.htmx) htmx.process(document.body)</script>"
      ],
      "text/plain": [
       "<IPython.core.display.HTML object>"
      ]
     },
     "metadata": {},
     "output_type": "display_data"
    }
   ],
   "source": [
    "%%s\n",
    "modal_content('Modal content','sdfsdf')"
   ]
  },
  {
   "cell_type": "markdown",
   "id": "1bd5152b-1fe9-46fc-b2ea-17b3c30d6cac",
   "metadata": {},
   "source": [
    "It can be combined with the below to search and trigger modal"
   ]
  },
  {
   "cell_type": "markdown",
   "id": "7757d2c0-dd56-4fa8-91ab-9a395f566b31",
   "metadata": {},
   "source": [
    "### Use form button to trigger modal"
   ]
  },
  {
   "cell_type": "code",
   "execution_count": 54,
   "id": "67283895-d735-447f-ac2a-eaf221b72d9c",
   "metadata": {},
   "outputs": [],
   "source": [
    "#| export\n",
    "def modal_form(*form_content,post, btn_text='Search',cls=None,target_id='modals-window'):\n",
    "    \"Reference: https://htmx.org/examples/modal-bootstrap/\"\n",
    "    modal_button = Form(*form_content, # Input(type='text',id='ssss')\n",
    "                        Div(\n",
    "                            Button(btn_text,cls='btn btn-primary py-3'),\n",
    "                            data_bs_toggle='modal', \n",
    "                            data_bs_target=f'#{target_id}'),\n",
    "                        post=post, \n",
    "                        target_id=target_id, \n",
    "                        hx_trigger='submit', \n",
    "                        cls=cls)\n",
    "\n",
    "    modal_content =Div(\n",
    "        Div(\n",
    "            Div(cls='modal-content'),\n",
    "            role='document',\n",
    "            cls='modal-dialog modal-lg modal-dialog-centered'\n",
    "        ),\n",
    "        id=target_id,\n",
    "        style='display: none',\n",
    "        aria_hidden='false',\n",
    "        tabindex='-1',\n",
    "        cls='modal modal-blur fade'\n",
    "    )\n",
    "    return modal_button, modal_content"
   ]
  },
  {
   "cell_type": "code",
   "execution_count": 55,
   "id": "e264790c-e533-49c4-8f52-3e32678f89e8",
   "metadata": {},
   "outputs": [],
   "source": [
    "@rt\n",
    "def page():\n",
    "    modal_send = modal_form(Input(type='text',id='input_text'),post=modal)\n",
    "    return modal_send\n",
    "\n",
    "@rt\n",
    "def modal(input_text:str):\n",
    "    return modal_content('Modal title',input_text)"
   ]
  },
  {
   "cell_type": "code",
   "execution_count": 56,
   "id": "561213c0-145a-411f-9421-b51d453cf591",
   "metadata": {
    "scrolled": true
   },
   "outputs": [
    {
     "data": {
      "text/html": [
       "<iframe src=\"https://4687-3-81-185-19.ngrok-free.app/page\" style=\"width: 100%; height: auto; border: none;\" onload=\"{\n",
       "        let frame = this;\n",
       "        window.addEventListener('message', function(e) {\n",
       "            if (e.data.height) frame.style.height = (e.data.height+1) + 'px';\n",
       "        }, false);\n",
       "    }\" allow=\"accelerometer; autoplay; camera; clipboard-read; clipboard-write; display-capture; encrypted-media; fullscreen; gamepad; geolocation; gyroscope; hid; identity-credentials-get; idle-detection; magnetometer; microphone; midi; payment; picture-in-picture; publickey-credentials-get; screen-wake-lock; serial; usb; web-share; xr-spatial-tracking\"></iframe> "
      ],
      "text/plain": [
       "<IPython.core.display.HTML object>"
      ]
     },
     "execution_count": 56,
     "metadata": {},
     "output_type": "execute_result"
    }
   ],
   "source": [
    "htmx(url,'/page')"
   ]
  },
  {
   "cell_type": "markdown",
   "id": "df292346-374f-4b81-aaf9-2cf13d01bc9c",
   "metadata": {},
   "source": [
    "### Use anchor link to trigger modal"
   ]
  },
  {
   "cell_type": "code",
   "execution_count": 57,
   "id": "6b15db0b-6c55-4103-9d63-80a37416de91",
   "metadata": {},
   "outputs": [],
   "source": [
    "#| export\n",
    "def modal_link(text,post,cls=None,target_id='modals-window'):\n",
    "    \"Reference: https://htmx.org/examples/modal-bootstrap/\"\n",
    "    modal_button = A(text,\n",
    "                     data_bs_toggle='modal', \n",
    "                     data_bs_target=f'#{target_id}',\n",
    "                     post=post, \n",
    "                     target_id=target_id, \n",
    "                     cls=cls)\n",
    "\n",
    "    modal_content =Div(\n",
    "        Div(\n",
    "            Div(cls='modal-content'),\n",
    "            role='document',\n",
    "            cls='modal-dialog modal-lg modal-dialog-centered'\n",
    "        ),\n",
    "        id=target_id,\n",
    "        style='display: none',\n",
    "        aria_hidden='false',\n",
    "        tabindex='-1',\n",
    "        cls='modal modal-blur fade'\n",
    "    )\n",
    "    return modal_button, modal_content"
   ]
  },
  {
   "cell_type": "code",
   "execution_count": 58,
   "id": "a268e0d7-1aaf-4d21-8a43-b311f793f533",
   "metadata": {},
   "outputs": [],
   "source": [
    "@rt\n",
    "def page():\n",
    "    modal_send = modal_link('click here',post=modal)\n",
    "    return modal_send\n",
    "\n",
    "@rt\n",
    "def modal():\n",
    "    return modal_content('Modal title','sdf')"
   ]
  },
  {
   "cell_type": "code",
   "execution_count": 59,
   "id": "e52c90e1-bdd1-4c5e-8526-1c7a00bd1196",
   "metadata": {},
   "outputs": [
    {
     "data": {
      "text/html": [
       "<iframe src=\"https://4687-3-81-185-19.ngrok-free.app/page\" style=\"width: 100%; height: auto; border: none;\" onload=\"{\n",
       "        let frame = this;\n",
       "        window.addEventListener('message', function(e) {\n",
       "            if (e.data.height) frame.style.height = (e.data.height+1) + 'px';\n",
       "        }, false);\n",
       "    }\" allow=\"accelerometer; autoplay; camera; clipboard-read; clipboard-write; display-capture; encrypted-media; fullscreen; gamepad; geolocation; gyroscope; hid; identity-credentials-get; idle-detection; magnetometer; microphone; midi; payment; picture-in-picture; publickey-credentials-get; screen-wake-lock; serial; usb; web-share; xr-spatial-tracking\"></iframe> "
      ],
      "text/plain": [
       "<IPython.core.display.HTML object>"
      ]
     },
     "execution_count": 59,
     "metadata": {},
     "output_type": "execute_result"
    }
   ],
   "source": [
    "htmx(url,'/page')"
   ]
  },
  {
   "cell_type": "code",
   "execution_count": 73,
   "id": "67d10b91-dd72-4900-976e-45b48872f6a5",
   "metadata": {},
   "outputs": [],
   "source": [
    "#| export\n",
    "def get_spinner(id, cls='d-flex justify-content-center'):\n",
    "    return Div(Div(\n",
    "        Span('Loading...', cls='visually-hidden'),\n",
    "        role='status',\n",
    "        cls='htmx-indicator spinner-border',\n",
    "        id=id,\n",
    "    ),cls=cls)"
   ]
  },
  {
   "cell_type": "code",
   "execution_count": 75,
   "id": "3c5dfb49-1f55-4677-b60d-635cbda71fc5",
   "metadata": {},
   "outputs": [
    {
     "data": {
      "text/html": [
       "<div class=\"d-flex justify-content-center\">\n",
       "  <div role=\"status\" id=\"sdf\" class=\"htmx-indicator spinner-border\">\n",
       "<span class=\"visually-hidden\">Loading...</span>  </div>\n",
       "</div>\n",
       "<script>if (window.htmx) htmx.process(document.body)</script>"
      ],
      "text/plain": [
       "<IPython.core.display.HTML object>"
      ]
     },
     "metadata": {},
     "output_type": "display_data"
    }
   ],
   "source": [
    "%%s\n",
    "get_spinner(id='sdf')"
   ]
  },
  {
   "cell_type": "markdown",
   "id": "5a1f2e62-479b-4e98-ae85-4305a80a3c94",
   "metadata": {},
   "source": [
    "Example:"
   ]
  },
  {
   "cell_type": "code",
   "execution_count": 74,
   "id": "b7e80165-eb26-456b-b775-f3964a1bd552",
   "metadata": {},
   "outputs": [],
   "source": [
    "# @app.post\n",
    "# def example():\n",
    "#     ...\n",
    "#     send_select = Form(\n",
    "#             Hidden(value=df.to_json(),id='upload_df'),\n",
    "#             Div(select_list,button,cls='row g-2 align-items-center'),\n",
    "#             post=calculate,\n",
    "#             target_id='result',\n",
    "#             hx_indicator='#spinner',\n",
    "#         )\n",
    "    \n",
    "#     spinner=get_spinner(id='spinner')\n",
    "    \n",
    "#     return send_select, spinner, ...\n"
   ]
  },
  {
   "cell_type": "markdown",
   "id": "a8846d43-0ae6-487a-b721-9cc2b1cf0399",
   "metadata": {},
   "source": [
    "## End"
   ]
  },
  {
   "cell_type": "code",
   "execution_count": 29,
   "id": "68d7ad46-7574-4e92-9606-022f26db9cf3",
   "metadata": {},
   "outputs": [],
   "source": [
    "#| hide\n",
    "import nbdev; nbdev.nbdev_export()"
   ]
  },
  {
   "cell_type": "code",
   "execution_count": 78,
   "id": "2a4fd795-d0c6-4712-be9f-5010562a2d76",
   "metadata": {},
   "outputs": [
    {
     "name": "stdout",
     "output_type": "stream",
     "text": [
      "ngrok tunnel killed\n"
     ]
    }
   ],
   "source": [
    "server.stop()\n",
    "kill_ngrok()"
   ]
  }
 ],
 "metadata": {
  "kernelspec": {
   "display_name": "Python 3",
   "language": "python",
   "name": "python3"
  },
  "language_info": {
   "codemirror_mode": {
    "name": "ipython",
    "version": 3
   },
   "file_extension": ".py",
   "mimetype": "text/x-python",
   "name": "python",
   "nbconvert_exporter": "python",
   "pygments_lexer": "ipython3",
   "version": "3.10.10"
  }
 },
 "nbformat": 4,
 "nbformat_minor": 5
}
