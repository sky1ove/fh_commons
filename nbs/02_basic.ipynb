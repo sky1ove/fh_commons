{
 "cells": [
  {
   "cell_type": "markdown",
   "id": "43e3762c-d51c-427b-a43f-fcdfdc5ee468",
   "metadata": {},
   "source": [
    "# Basic"
   ]
  },
  {
   "cell_type": "markdown",
   "id": "9a0e6f0d-a489-4ba8-80ea-25ff4e10eace",
   "metadata": {},
   "source": [
    "## Setup"
   ]
  },
  {
   "cell_type": "code",
   "execution_count": 1,
   "id": "a7035ce1-7b0a-47b7-beb0-ee1c4b12f4fa",
   "metadata": {},
   "outputs": [],
   "source": [
    "#| default_exp basic"
   ]
  },
  {
   "cell_type": "code",
   "execution_count": 1,
   "id": "12b8e553-87f5-47fb-89ab-7b1d57cbb63d",
   "metadata": {},
   "outputs": [],
   "source": [
    "#| export\n",
    "from fasthtml.common import *\n",
    "from fasthtml.jupyter import *\n",
    "\n",
    "from fh_commons.core import *\n",
    "from fh_commons.static import *\n",
    "\n",
    "import json\n",
    "import pandas as pd"
   ]
  },
  {
   "cell_type": "code",
   "execution_count": 2,
   "id": "67e380e6-f435-4141-8ac2-1b0f07d631b1",
   "metadata": {},
   "outputs": [],
   "source": [
    "hdrs = bootstrap_hdrs()"
   ]
  },
  {
   "cell_type": "code",
   "execution_count": 3,
   "id": "e3d12176-49bb-4a87-b3c8-f70be1a141a8",
   "metadata": {},
   "outputs": [
    {
     "data": {
      "text/html": [
       "<link href=\"https://cdn.jsdelivr.net/npm/bootstrap@5.3.3/dist/css/bootstrap.min.css\" rel=\"stylesheet\">\n",
       "<script src=\"https://cdn.jsdelivr.net/npm/bootstrap@5.3.3/dist/js/bootstrap.bundle.min.js\"></script><link href=\"https://cdn.jsdelivr.net/npm/bootstrap-icons@1.11.3/font/bootstrap-icons.min.css\" rel=\"stylesheet\">\n",
       "<script>htmx.process(document.body)</script>"
      ],
      "text/plain": [
       "<IPython.core.display.HTML object>"
      ]
     },
     "execution_count": 3,
     "metadata": {},
     "output_type": "execute_result"
    }
   ],
   "source": [
    "show(*hdrs)"
   ]
  },
  {
   "cell_type": "code",
   "execution_count": 4,
   "id": "e8c6b509-b0f4-4a0f-bcb9-5d00ab37d095",
   "metadata": {},
   "outputs": [],
   "source": [
    "#| eval: False\n",
    "from ngrok_token import *\n",
    "url = start_ngrok(token)"
   ]
  },
  {
   "cell_type": "code",
   "execution_count": 5,
   "id": "dc022360-57d3-4092-a738-442b747c5339",
   "metadata": {},
   "outputs": [
    {
     "data": {
      "text/plain": [
       "'https://49d1-34-207-219-130.ngrok-free.app'"
      ]
     },
     "execution_count": 5,
     "metadata": {},
     "output_type": "execute_result"
    }
   ],
   "source": [
    "url"
   ]
  },
  {
   "cell_type": "code",
   "execution_count": 6,
   "id": "ec7cadbe-26cb-4945-85b6-3672c501ff36",
   "metadata": {},
   "outputs": [
    {
     "data": {
      "text/html": [
       "\n",
       "<script>\n",
       "document.body.addEventListener('htmx:configRequest', (event) => {\n",
       "    if(event.detail.path.includes('://')) return;\n",
       "    htmx.config.selfRequestsOnly=false;\n",
       "    event.detail.path = `${location.protocol}//${location.hostname}:8000${event.detail.path}`;\n",
       "});\n",
       "</script>"
      ],
      "text/plain": [
       "<IPython.core.display.HTML object>"
      ]
     },
     "metadata": {},
     "output_type": "display_data"
    }
   ],
   "source": [
    "app,rt = fast_app(pico=False, live=True,hdrs=hdrs)\n",
    "server = JupyUvi(app)"
   ]
  },
  {
   "cell_type": "markdown",
   "id": "27643614-bef7-4744-a71c-ecd29f55cbfa",
   "metadata": {
    "jp-MarkdownHeadingCollapsed": true
   },
   "source": [
    "## Routes"
   ]
  },
  {
   "cell_type": "markdown",
   "id": "c947c7de-8e7a-4fec-a410-460cdb94e236",
   "metadata": {
    "jp-MarkdownHeadingCollapsed": true
   },
   "source": [
    "### @rt"
   ]
  },
  {
   "cell_type": "markdown",
   "id": "994ebb31-93c5-42e7-90d6-33229c86ad9b",
   "metadata": {},
   "source": [
    "Both get and post method, function name is the route's name"
   ]
  },
  {
   "cell_type": "code",
   "execution_count": null,
   "id": "a1f84c8c-2c44-4891-8e08-cdb94c1fc98e",
   "metadata": {},
   "outputs": [],
   "source": [
    "@rt\n",
    "def test():\n",
    "    return P('hi')"
   ]
  },
  {
   "cell_type": "markdown",
   "id": "3e98a451-cd59-419e-b255-6a9bcaeaa702",
   "metadata": {},
   "source": [
    "### @rt('/sth')"
   ]
  },
  {
   "cell_type": "markdown",
   "id": "c234e0cd-91e7-4bcd-aedd-69848ac46a70",
   "metadata": {},
   "source": [
    "If function name is get or post, then would be either of the method.\n",
    "\n",
    "If function name is something else, would not change the route, but specify the route name"
   ]
  },
  {
   "cell_type": "code",
   "execution_count": 9,
   "id": "4a473163-24dd-4e4a-ad10-0111d5b0aaf3",
   "metadata": {},
   "outputs": [],
   "source": [
    "@rt('/something')\n",
    "def get(): return P('hi')"
   ]
  },
  {
   "cell_type": "markdown",
   "id": "53e66825-eb00-4d4f-b58c-27a98094dde6",
   "metadata": {},
   "source": [
    "With params:"
   ]
  },
  {
   "cell_type": "code",
   "execution_count": 10,
   "id": "166d6ab5-0273-484c-8db2-b980a6d9dbdf",
   "metadata": {},
   "outputs": [],
   "source": [
    "@rt('/something/{data}')\n",
    "def get(data:str): return P(data)"
   ]
  },
  {
   "cell_type": "code",
   "execution_count": 11,
   "id": "320e329c-b0e4-41ec-b0fc-9fc631da4e42",
   "metadata": {},
   "outputs": [
    {
     "data": {
      "text/html": [
       "<iframe src=\"https://507f-34-207-219-130.ngrok-free.app/something/sdf\" style=\"width: 100%; height: auto; border: none;\" onload=\"{\n",
       "        let frame = this;\n",
       "        window.addEventListener('message', function(e) {\n",
       "            if (e.data.height) frame.style.height = (e.data.height+1) + 'px';\n",
       "        }, false);\n",
       "    }\" allow=\"accelerometer; autoplay; camera; clipboard-read; clipboard-write; display-capture; encrypted-media; fullscreen; gamepad; geolocation; gyroscope; hid; identity-credentials-get; idle-detection; magnetometer; microphone; midi; payment; picture-in-picture; publickey-credentials-get; screen-wake-lock; serial; usb; web-share; xr-spatial-tracking\"></iframe> "
      ],
      "text/plain": [
       "<IPython.core.display.HTML object>"
      ]
     },
     "execution_count": 11,
     "metadata": {},
     "output_type": "execute_result"
    }
   ],
   "source": [
    "htmx(url,'/something/sdf')"
   ]
  },
  {
   "cell_type": "markdown",
   "id": "5d61863a-8db1-411f-a9b7-c4fbeb38b18a",
   "metadata": {},
   "source": [
    "Use function to indicate route's name"
   ]
  },
  {
   "cell_type": "code",
   "execution_count": 12,
   "id": "3dcc67a4-2925-4fe5-9eb3-3b5a8257d8e1",
   "metadata": {},
   "outputs": [],
   "source": [
    "@rt('/something')\n",
    "def sdfsdf(req): \n",
    "    return P(req.url_for('sdfsdf'))"
   ]
  },
  {
   "cell_type": "markdown",
   "id": "b1196875-9412-4869-8ef8-ff9e046a5b93",
   "metadata": {},
   "source": [
    "With route's name"
   ]
  },
  {
   "cell_type": "code",
   "execution_count": 13,
   "id": "dfc07ae5-1de3-4094-af75-7d57f1e369e0",
   "metadata": {},
   "outputs": [],
   "source": [
    "@rt('/something',name='aaa')\n",
    "def get(req): \n",
    "    return P(req.url_for('aaa'))"
   ]
  },
  {
   "cell_type": "markdown",
   "id": "d7f877ba-39b5-4346-ab4a-b1685025b5f8",
   "metadata": {},
   "source": [
    "### @app.get/post"
   ]
  },
  {
   "cell_type": "markdown",
   "id": "59cf5813-680d-44c4-9596-0fb5784697c0",
   "metadata": {},
   "source": [
    "Similar to @rt, the function name indicates route"
   ]
  },
  {
   "cell_type": "code",
   "execution_count": 20,
   "id": "39ff8ef6-6833-4b3a-a540-0fb13c758881",
   "metadata": {},
   "outputs": [],
   "source": [
    "@app.get\n",
    "def asdf():\n",
    "    return P('hi')"
   ]
  },
  {
   "cell_type": "markdown",
   "id": "03503403-fb4f-48d5-aa11-03fca57f30f7",
   "metadata": {},
   "source": [
    "### @app.get('/something')"
   ]
  },
  {
   "cell_type": "code",
   "execution_count": 15,
   "id": "c417b491-29fd-4643-909a-3a4c8a53b6a4",
   "metadata": {},
   "outputs": [],
   "source": [
    "@app.get('/user/{nm}')\n",
    "def get_nm(nm:str): return f\"Good day to you, {nm}!\""
   ]
  },
  {
   "cell_type": "markdown",
   "id": "f0a48585-1351-45b1-8bf0-25e9d33bc8bb",
   "metadata": {},
   "source": [
    "## Request"
   ]
  },
  {
   "cell_type": "markdown",
   "id": "6c7746dd-8ebb-4a32-b891-755d76abca7b",
   "metadata": {},
   "source": [
    "### req.url"
   ]
  },
  {
   "cell_type": "markdown",
   "id": "c7c42423-f84e-429d-a532-3921c59bc434",
   "metadata": {},
   "source": [
    "Get current page's url"
   ]
  },
  {
   "cell_type": "code",
   "execution_count": 7,
   "id": "26b790c4-ef95-42b8-aa5f-03bb72daa808",
   "metadata": {},
   "outputs": [],
   "source": [
    "@rt\n",
    "def sdf(req):\n",
    "    return P(req.url)"
   ]
  },
  {
   "cell_type": "code",
   "execution_count": 8,
   "id": "a36637ca-a54d-4826-af2d-17c92b731e6d",
   "metadata": {},
   "outputs": [
    {
     "data": {
      "text/html": [
       "<iframe src=\"https://49d1-34-207-219-130.ngrok-free.app/sdf\" style=\"width: 100%; height: auto; border: none;\" onload=\"{\n",
       "        let frame = this;\n",
       "        window.addEventListener('message', function(e) {\n",
       "            if (e.data.height) frame.style.height = (e.data.height+1) + 'px';\n",
       "        }, false);\n",
       "    }\" allow=\"accelerometer; autoplay; camera; clipboard-read; clipboard-write; display-capture; encrypted-media; fullscreen; gamepad; geolocation; gyroscope; hid; identity-credentials-get; idle-detection; magnetometer; microphone; midi; payment; picture-in-picture; publickey-credentials-get; screen-wake-lock; serial; usb; web-share; xr-spatial-tracking\"></iframe> "
      ],
      "text/plain": [
       "<IPython.core.display.HTML object>"
      ]
     },
     "execution_count": 8,
     "metadata": {},
     "output_type": "execute_result"
    }
   ],
   "source": [
    "htmx(url,'/sdf')"
   ]
  },
  {
   "cell_type": "markdown",
   "id": "65b2fbf1-094b-4073-b128-3af2c5b76465",
   "metadata": {},
   "source": [
    "### req.url_for"
   ]
  },
  {
   "cell_type": "markdown",
   "id": "92a9486e-96e2-4414-8a54-3598dc0e322f",
   "metadata": {},
   "source": [
    "Get original "
   ]
  },
  {
   "cell_type": "code",
   "execution_count": 9,
   "id": "7d3bacc9-5f84-4617-9591-544f9e61a648",
   "metadata": {},
   "outputs": [],
   "source": [
    "@rt\n",
    "def sdf(req):\n",
    "    return P(req.url_for('sdf'))"
   ]
  },
  {
   "cell_type": "code",
   "execution_count": 10,
   "id": "bddbeda7-5706-4cb9-a511-c16221aa1b73",
   "metadata": {},
   "outputs": [
    {
     "data": {
      "text/html": [
       "<iframe src=\"https://49d1-34-207-219-130.ngrok-free.app/sdf\" style=\"width: 100%; height: auto; border: none;\" onload=\"{\n",
       "        let frame = this;\n",
       "        window.addEventListener('message', function(e) {\n",
       "            if (e.data.height) frame.style.height = (e.data.height+1) + 'px';\n",
       "        }, false);\n",
       "    }\" allow=\"accelerometer; autoplay; camera; clipboard-read; clipboard-write; display-capture; encrypted-media; fullscreen; gamepad; geolocation; gyroscope; hid; identity-credentials-get; idle-detection; magnetometer; microphone; midi; payment; picture-in-picture; publickey-credentials-get; screen-wake-lock; serial; usb; web-share; xr-spatial-tracking\"></iframe> "
      ],
      "text/plain": [
       "<IPython.core.display.HTML object>"
      ]
     },
     "execution_count": 10,
     "metadata": {},
     "output_type": "execute_result"
    }
   ],
   "source": [
    "htmx(url,'/sdf')"
   ]
  },
  {
   "cell_type": "markdown",
   "id": "ef26227b-0d5f-4204-b5f1-14669e19df19",
   "metadata": {},
   "source": [
    "With param:"
   ]
  },
  {
   "cell_type": "code",
   "execution_count": 11,
   "id": "2d2945da-365f-4551-8a28-2c29ab5e95fd",
   "metadata": {},
   "outputs": [],
   "source": [
    "@rt(\"/{data}\")\n",
    "def this(req,data:str):\n",
    "    return req.url_for('this',data=data)"
   ]
  },
  {
   "cell_type": "code",
   "execution_count": 12,
   "id": "f7915e4f-5baa-4755-996f-25f53cbb029f",
   "metadata": {},
   "outputs": [
    {
     "data": {
      "text/html": [
       "<iframe src=\"https://49d1-34-207-219-130.ngrok-free.app/ssss\" style=\"width: 100%; height: auto; border: none;\" onload=\"{\n",
       "        let frame = this;\n",
       "        window.addEventListener('message', function(e) {\n",
       "            if (e.data.height) frame.style.height = (e.data.height+1) + 'px';\n",
       "        }, false);\n",
       "    }\" allow=\"accelerometer; autoplay; camera; clipboard-read; clipboard-write; display-capture; encrypted-media; fullscreen; gamepad; geolocation; gyroscope; hid; identity-credentials-get; idle-detection; magnetometer; microphone; midi; payment; picture-in-picture; publickey-credentials-get; screen-wake-lock; serial; usb; web-share; xr-spatial-tracking\"></iframe> "
      ],
      "text/plain": [
       "<IPython.core.display.HTML object>"
      ]
     },
     "execution_count": 12,
     "metadata": {},
     "output_type": "execute_result"
    }
   ],
   "source": [
    "htmx(url,'/ssss')"
   ]
  },
  {
   "cell_type": "markdown",
   "id": "03320ce7-aaa8-4c67-ace9-0b0da770b0e1",
   "metadata": {},
   "source": [
    "## Toasts"
   ]
  },
  {
   "cell_type": "markdown",
   "id": "549b6865-1adc-4fe0-9dd9-6b1e87c879d9",
   "metadata": {},
   "source": [
    "toasts options: \"info\", \"success\", \"warning\", \"error\""
   ]
  },
  {
   "cell_type": "code",
   "execution_count": 13,
   "id": "44951c66-6ab0-448c-83df-dac3f6eb2059",
   "metadata": {},
   "outputs": [],
   "source": [
    "setup_toasts(app)"
   ]
  },
  {
   "cell_type": "code",
   "execution_count": 14,
   "id": "f296d23d-71b5-40d1-9b97-a56e93277201",
   "metadata": {},
   "outputs": [],
   "source": [
    "@rt\n",
    "def test():\n",
    "    return A('click to trigger toasts',hx_get=tt,target_id='content'),Div(id='content')\n",
    "\n",
    "@rt\n",
    "def tt(sess):\n",
    "    return add_toast(sess, \"Please upload a csv or excel file\", \"error\")"
   ]
  },
  {
   "cell_type": "code",
   "execution_count": 15,
   "id": "b42939f3-cff4-4f10-b6c1-5565b6addaa1",
   "metadata": {},
   "outputs": [
    {
     "data": {
      "text/html": [
       "<iframe src=\"https://49d1-34-207-219-130.ngrok-free.app/test\" style=\"width: 100%; height: auto; border: none;\" onload=\"{\n",
       "        let frame = this;\n",
       "        window.addEventListener('message', function(e) {\n",
       "            if (e.data.height) frame.style.height = (e.data.height+1) + 'px';\n",
       "        }, false);\n",
       "    }\" allow=\"accelerometer; autoplay; camera; clipboard-read; clipboard-write; display-capture; encrypted-media; fullscreen; gamepad; geolocation; gyroscope; hid; identity-credentials-get; idle-detection; magnetometer; microphone; midi; payment; picture-in-picture; publickey-credentials-get; screen-wake-lock; serial; usb; web-share; xr-spatial-tracking\"></iframe> "
      ],
      "text/plain": [
       "<IPython.core.display.HTML object>"
      ]
     },
     "execution_count": 15,
     "metadata": {},
     "output_type": "execute_result"
    }
   ],
   "source": [
    "htmx(url,'/test')"
   ]
  },
  {
   "cell_type": "markdown",
   "id": "08022a8a-8187-4e33-8b8c-c845606fd93b",
   "metadata": {
    "jp-MarkdownHeadingCollapsed": true
   },
   "source": [
    "## Download file through a link"
   ]
  },
  {
   "cell_type": "code",
   "execution_count": null,
   "id": "759c0fd2-9378-4ada-98fb-ab39aa1015c3",
   "metadata": {},
   "outputs": [],
   "source": [
    "@app.get\n",
    "def download_example():\n",
    "    return FileResponse('data/example.csv')\n",
    "\n",
    "@rt\n",
    "def test(req):\n",
    "    return A('Download Example File', \n",
    "             href=req.url_for('download_example'), # for dynamic route\n",
    "             download='example.csv', # download file name\n",
    "            )"
   ]
  },
  {
   "cell_type": "code",
   "execution_count": null,
   "id": "c169f8fe-dcc2-4783-928a-b38ff5b51897",
   "metadata": {},
   "outputs": [],
   "source": [
    "htmx(url,'/test')"
   ]
  },
  {
   "cell_type": "markdown",
   "id": "c5cd963c-9029-4216-a9a1-fc632f94a4e8",
   "metadata": {
    "jp-MarkdownHeadingCollapsed": true
   },
   "source": [
    "## File upload & receive"
   ]
  },
  {
   "cell_type": "markdown",
   "id": "840e16dd-9564-4693-a941-da312e78041b",
   "metadata": {},
   "source": [
    "### Upload csv/excel file "
   ]
  },
  {
   "cell_type": "code",
   "execution_count": 23,
   "id": "97da0a58-9ba9-4995-85ba-3743ab23b24d",
   "metadata": {},
   "outputs": [],
   "source": [
    "#| export\n",
    "def get_file_input(label_text,id,**kwargs):\n",
    "    return Form(\n",
    "        Label(label_text, fr=id, cls='form-label'),\n",
    "        Input(type='file', id=id, cls='form-control'),\n",
    "        **kwargs\n",
    "    )"
   ]
  },
  {
   "cell_type": "code",
   "execution_count": 46,
   "id": "7c138f8d-6446-4bd4-a986-51a7c9463317",
   "metadata": {},
   "outputs": [
    {
     "data": {
      "text/markdown": [
       "<div>\n",
       "<form enctype=\"multipart/form-data\"><label for=\"sdf\" class=\"form-label\">Select csv/excel for upload</label>    <input type=\"file\" id=\"sdf\" class=\"form-control\" name=\"sdf\">\n",
       "</form><script>if (window.htmx) htmx.process(document.body)</script></div>\n"
      ],
      "text/plain": [
       "form((label(('Select csv/excel for upload',),{'for': 'sdf', 'class': 'form-label'}), input((),{'type': 'file', 'id': 'sdf', 'class': 'form-control', 'name': 'sdf'})),{'enctype': 'multipart/form-data'})"
      ]
     },
     "execution_count": 46,
     "metadata": {},
     "output_type": "execute_result"
    }
   ],
   "source": [
    "get_file_input('Select csv/excel for upload',id='sdf')"
   ]
  },
  {
   "cell_type": "markdown",
   "id": "28a05ce6-4cd0-4ba9-8ce7-f3dfc3473f2a",
   "metadata": {},
   "source": [
    "### Receive file"
   ]
  },
  {
   "cell_type": "code",
   "execution_count": null,
   "id": "fc74b917-df39-4b67-a510-1a2be858508f",
   "metadata": {},
   "outputs": [],
   "source": [
    "#| export\n",
    "def bytes2df(bytes_data,file_type):\n",
    "    if file_type == \"csv\":\n",
    "        data_io = StringIO(bytes_data.decode(\"utf-8\"))\n",
    "        return pd.read_csv(data_io)\n",
    "    elif file_type == \"excel\":\n",
    "        data_io = BytesIO(bytes_data)\n",
    "        return pd.read_excel(data_io)"
   ]
  },
  {
   "cell_type": "markdown",
   "id": "22b20ffd-6715-466e-9ee6-c38f46161099",
   "metadata": {},
   "source": [
    "### Example"
   ]
  },
  {
   "cell_type": "code",
   "execution_count": 47,
   "id": "3f09a844-0d69-46fe-8ecc-5b5c2c5d6caf",
   "metadata": {},
   "outputs": [],
   "source": [
    "@rt\n",
    "def file_upload(req):\n",
    "    add = get_file_input(\n",
    "        'Upload your csv or excel',\n",
    "        id='myFile',post=preview, target_id='content',hx_trigger='change')\n",
    "    \n",
    "    example_file = A(Small('Download Example File'), href=req.url_for('download_example'),download='example.csv')\n",
    "    \n",
    "    return Group(add,example_file), Div(id='content')\n",
    "\n",
    "@app.get\n",
    "def download_example():\n",
    "    return FileResponse('data/example.csv')\n",
    "\n",
    "@app.post\n",
    "async def preview(sess, myFile:UploadFile):\n",
    "    filename = myFile.filename\n",
    "\n",
    "    if filename.endswith('.csv'):\n",
    "        file_type = 'csv'\n",
    "    elif filename.endswith(('.xls', '.xlsx')):\n",
    "        file_type = 'excel'\n",
    "    else:\n",
    "        return add_toast(sess, \"Please upload a csv or excel file\", \"error\")\n",
    "        \n",
    "    # Data as byte string\n",
    "    bytes_data = await myFile.read()\n",
    "    df = bytes2df(bytes_data,file_type)\n",
    "    \n",
    "    if len(df)>100_000:\n",
    "        return add_toast(sess, \"Exceed 100,000 lines, please use python api for large file\", \"warning\")\n",
    "    \n",
    "    return df2html(df.head())"
   ]
  },
  {
   "cell_type": "code",
   "execution_count": 48,
   "id": "96e9a47e-fa0f-4482-a2b2-6c59b3b71914",
   "metadata": {},
   "outputs": [
    {
     "data": {
      "text/html": [
       "<iframe src=\"https://dbd9-52-55-33-134.ngrok-free.app/file_upload\" style=\"width: 100%; height: auto; border: none;\" onload=\"{\n",
       "        let frame = this;\n",
       "        window.addEventListener('message', function(e) {\n",
       "            if (e.data.height) frame.style.height = (e.data.height+1) + 'px';\n",
       "        }, false);\n",
       "    }\" allow=\"accelerometer; autoplay; camera; clipboard-read; clipboard-write; display-capture; encrypted-media; fullscreen; gamepad; geolocation; gyroscope; hid; identity-credentials-get; idle-detection; magnetometer; microphone; midi; payment; picture-in-picture; publickey-credentials-get; screen-wake-lock; serial; usb; web-share; xr-spatial-tracking\"></iframe> "
      ],
      "text/plain": [
       "<IPython.core.display.HTML object>"
      ]
     },
     "execution_count": 48,
     "metadata": {},
     "output_type": "execute_result"
    }
   ],
   "source": [
    "htmx(url,'/file_upload')"
   ]
  },
  {
   "cell_type": "markdown",
   "id": "e16b3655-38f4-489a-a1e0-3460d180e719",
   "metadata": {
    "jp-MarkdownHeadingCollapsed": true
   },
   "source": [
    "## Pagination"
   ]
  },
  {
   "cell_type": "code",
   "execution_count": 8,
   "id": "b4734248-e2fe-4c38-96c4-6fb9d901ef8c",
   "metadata": {},
   "outputs": [],
   "source": [
    "def get_pagination(page,total_pages,routes):\n",
    "    \"Bootstrap-styled pagination with integrated page jump form\"\n",
    "    return Nav(\n",
    "        Ul(\n",
    "            Li(A(\"Previous\", href=f\"{routes}?page={page-1}\" if page > 1 else \"#\", \n",
    "                 cls=\"page-link\" + (\" disabled\" if page <= 1 else \"\")), \n",
    "               cls=\"page-item\"),\n",
    "            Li(Span(f\"Page {page} of {total_pages}\", cls=\"page-link\"), cls=\"page-item active\"),\n",
    "            Li(A(\"Next\", href=f\"{routes}?page={page+1}\" if page < total_pages else \"#\", \n",
    "                 cls=\"page-link\" + (\" disabled\" if page >= total_pages else \"\")), \n",
    "               cls=\"page-item\"),\n",
    "            Li(\n",
    "                Form(\n",
    "                    Input(type=\"number\", name=\"page\", placeholder=\"Page\", min=\"1\", max=str(total_pages), \n",
    "                          cls=\"form-control\", style=\"width: 100px; display: inline-block;\"),\n",
    "                    Button(\"Go\", type=\"submit\", cls=\"btn btn-primary\"),\n",
    "                    cls=\"d-flex align-items-center m-2 g-2\",\n",
    "                    method=\"get\",\n",
    "                    action=routes\n",
    "                ),\n",
    "                cls=\"page-item\"\n",
    "            ),\n",
    "            cls=\"pagination justify-content-center align-items-center\"\n",
    "        ),\n",
    "        aria_label=\"Page navigation\"\n",
    "    )"
   ]
  },
  {
   "cell_type": "markdown",
   "id": "bf4d0624-e758-435b-9f90-e531c0326ec6",
   "metadata": {},
   "source": [
    "Suppose I want a pagination bar for page 3 of 20"
   ]
  },
  {
   "cell_type": "code",
   "execution_count": 9,
   "id": "59213829-0082-4de3-8ec9-b798ffe9d104",
   "metadata": {},
   "outputs": [
    {
     "data": {
      "text/html": [
       "<nav aria-label=\"Page navigation\">\n",
       "  <ul class=\"pagination justify-content-center align-items-center\">\n",
       "    <li class=\"page-item\">\n",
       "<a href=\"#?page=2\" class=\"page-link\">Previous</a>    </li>\n",
       "    <li class=\"page-item active\">\n",
       "<span class=\"page-link\">Page 3 of 20</span>    </li>\n",
       "    <li class=\"page-item\">\n",
       "<a href=\"#?page=4\" class=\"page-link\">Next</a>    </li>\n",
       "    <li class=\"page-item\">\n",
       "<form enctype=\"multipart/form-data\" method=\"get\" action=\"#\" class=\"d-flex align-items-center m-2 g-2\">        <input type=\"number\" name=\"page\" placeholder=\"Page\" min=\"1\" max=\"20\" class=\"form-control\" style=\"width: 100px; display: inline-block;\">\n",
       "<button type=\"submit\" class=\"btn btn-primary\">Go</button></form>    </li>\n",
       "  </ul>\n",
       "</nav>\n"
      ],
      "text/plain": [
       "<IPython.core.display.HTML object>"
      ]
     },
     "execution_count": 9,
     "metadata": {},
     "output_type": "execute_result"
    }
   ],
   "source": [
    "%%s\n",
    "get_pagination(3,20,'#')"
   ]
  },
  {
   "cell_type": "markdown",
   "id": "bb3bf8c5-cbd5-4e1b-948d-410ac1fe435c",
   "metadata": {},
   "source": [
    "The above pagination can be combined with this function:"
   ]
  },
  {
   "cell_type": "code",
   "execution_count": 10,
   "id": "6565f189-eeac-42fa-9997-996cd0aa694f",
   "metadata": {},
   "outputs": [],
   "source": [
    "#| export\n",
    "def get_page_index(current_page, total_items, items_per_page=12):\n",
    "    \"Get start index and end index given the current page number\"\n",
    "    \n",
    "    total_pages = ceil(total_items / items_per_page) #ceil returns integer number, ceil(4.2) --> 5\n",
    "    \n",
    "    page = max(1, min(current_page, total_pages))  # Ensure page is within valid range\n",
    "    \n",
    "    start_index = (current_page - 1) * items_per_page\n",
    "    end_index = start_index + items_per_page\n",
    "    \n",
    "    return start_index, end_index,total_pages"
   ]
  },
  {
   "cell_type": "markdown",
   "id": "d764574f-7a7b-403b-a65c-06ce324068b1",
   "metadata": {},
   "source": [
    "Suppose I have a list of 100 items, and I want each page have 12 items, so I need to calculate start index and end index given the current page (e.g., 2)"
   ]
  },
  {
   "cell_type": "code",
   "execution_count": 11,
   "id": "d5adce77-e587-4b84-a7d8-641eb1ed8f80",
   "metadata": {},
   "outputs": [
    {
     "data": {
      "text/plain": [
       "(12, 24, 9)"
      ]
     },
     "execution_count": 11,
     "metadata": {},
     "output_type": "execute_result"
    }
   ],
   "source": [
    "get_page_index(2,100,12)"
   ]
  },
  {
   "cell_type": "markdown",
   "id": "6b1d09a0-8dc0-458a-925c-ac23b010e422",
   "metadata": {},
   "source": [
    "Example for a pagination:"
   ]
  },
  {
   "cell_type": "code",
   "execution_count": 120,
   "id": "248e5dab-ab9f-4d31-80e0-1d52bd181117",
   "metadata": {},
   "outputs": [],
   "source": [
    "protein_list = [str(i) for i in range(100)]"
   ]
  },
  {
   "cell_type": "code",
   "execution_count": 138,
   "id": "8edecc2a-1841-4d04-83ab-36f15a4e9082",
   "metadata": {},
   "outputs": [],
   "source": [
    "@rt\n",
    "def test(req, page: int = 1):\n",
    "\n",
    "    # get item index\n",
    "    start_idx, end_idx,total_pages = get_page_index(page, len(protein_list))\n",
    "\n",
    "    # get items\n",
    "    current_proteins = protein_list[start_idx:end_idx]\n",
    "    show_proteins = P(','.join(current_proteins))\n",
    "\n",
    "    # get dynamic route\n",
    "    this_routes =req.url_for('test')\n",
    "\n",
    "    # get pagination item\n",
    "    pagination = get_pagination(page,total_pages,routes=this_routes)\n",
    "\n",
    "    return show_proteins, pagination,this_routes"
   ]
  },
  {
   "cell_type": "code",
   "execution_count": 139,
   "id": "fed52af1-eda6-4fe7-96ed-d624caa19c32",
   "metadata": {},
   "outputs": [
    {
     "data": {
      "text/html": [
       "<iframe src=\"https://f81d-3-83-218-220.ngrok-free.app/test\" style=\"width: 100%; height: auto; border: none;\" onload=\"{\n",
       "        let frame = this;\n",
       "        window.addEventListener('message', function(e) {\n",
       "            if (e.data.height) frame.style.height = (e.data.height+1) + 'px';\n",
       "        }, false);\n",
       "    }\" allow=\"accelerometer; autoplay; camera; clipboard-read; clipboard-write; display-capture; encrypted-media; fullscreen; gamepad; geolocation; gyroscope; hid; identity-credentials-get; idle-detection; magnetometer; microphone; midi; payment; picture-in-picture; publickey-credentials-get; screen-wake-lock; serial; usb; web-share; xr-spatial-tracking\"></iframe> "
      ],
      "text/plain": [
       "<IPython.core.display.HTML object>"
      ]
     },
     "execution_count": 139,
     "metadata": {},
     "output_type": "execute_result"
    }
   ],
   "source": [
    "htmx(url,'/test')"
   ]
  },
  {
   "cell_type": "markdown",
   "id": "c45c157e-7ae8-4d05-90f2-df26b3f7096b",
   "metadata": {
    "jp-MarkdownHeadingCollapsed": true
   },
   "source": [
    "## Modal"
   ]
  },
  {
   "cell_type": "markdown",
   "id": "f9c4de2d-b718-4616-adbd-3d72547fd5ef",
   "metadata": {},
   "source": [
    "### Modal content"
   ]
  },
  {
   "cell_type": "code",
   "execution_count": 20,
   "id": "a155f85a-93b8-45a0-b7a0-1f7b9db83e42",
   "metadata": {},
   "outputs": [],
   "source": [
    "#| export\n",
    "def modal_content(title, *args):\n",
    "    return Div(\n",
    "        Div(\n",
    "            Div(\n",
    "                H1(title, cls='modal-title fs-5'),\n",
    "                Button(type='button', data_bs_dismiss='modal', aria_label='Close', cls='btn-close'),\n",
    "                cls='modal-header'\n",
    "            ),\n",
    "            Div(*args, cls='modal-body'),\n",
    "            cls='modal-content'\n",
    "        ),\n",
    "        cls='modal-dialog modal-xl'\n",
    "    )"
   ]
  },
  {
   "cell_type": "code",
   "execution_count": 21,
   "id": "b0f0af48-1325-4b22-99c0-0af3f08684ba",
   "metadata": {},
   "outputs": [
    {
     "data": {
      "text/html": [
       "<div class=\"modal-dialog modal-xl\">\n",
       "  <div class=\"modal-content\">\n",
       "    <div class=\"modal-header\">\n",
       "      <h1 class=\"modal-title fs-5\">Modal content</h1>\n",
       "<button type=\"button\" data-bs-dismiss=\"modal\" aria-label=\"Close\" class=\"btn-close\"></button>    </div>\n",
       "    <div class=\"modal-body\">sdfsdf</div>\n",
       "  </div>\n",
       "</div>\n"
      ],
      "text/plain": [
       "<IPython.core.display.HTML object>"
      ]
     },
     "execution_count": 21,
     "metadata": {},
     "output_type": "execute_result"
    }
   ],
   "source": [
    "%%s\n",
    "modal_content('Modal content','sdfsdf')"
   ]
  },
  {
   "cell_type": "markdown",
   "id": "1bd5152b-1fe9-46fc-b2ea-17b3c30d6cac",
   "metadata": {},
   "source": [
    "It can be combined with the below to search and trigger modal"
   ]
  },
  {
   "cell_type": "markdown",
   "id": "7757d2c0-dd56-4fa8-91ab-9a395f566b31",
   "metadata": {},
   "source": [
    "### Use form button to trigger modal"
   ]
  },
  {
   "cell_type": "code",
   "execution_count": 73,
   "id": "67283895-d735-447f-ac2a-eaf221b72d9c",
   "metadata": {},
   "outputs": [],
   "source": [
    "#| export\n",
    "def modal_form(*form_content,post, btn_text='Search',cls=None,target_id='modals-window'):\n",
    "    \"Reference: https://htmx.org/examples/modal-bootstrap/\"\n",
    "    modal_button = Form(*form_content, # Input(type='text',id='ssss')\n",
    "                        Div(\n",
    "                            Button(btn_text,cls='btn btn-primary py-3'),\n",
    "                            data_bs_toggle='modal', \n",
    "                            data_bs_target=f'#{target_id}'),\n",
    "                        post=post, \n",
    "                        target_id=target_id, \n",
    "                        hx_trigger='submit', \n",
    "                        cls=cls)\n",
    "\n",
    "    modal_content =Div(\n",
    "        Div(\n",
    "            Div(cls='modal-content'),\n",
    "            role='document',\n",
    "            cls='modal-dialog modal-lg modal-dialog-centered'\n",
    "        ),\n",
    "        id=target_id,\n",
    "        style='display: none',\n",
    "        aria_hidden='false',\n",
    "        tabindex='-1',\n",
    "        cls='modal modal-blur fade'\n",
    "    )\n",
    "    return modal_button, modal_content"
   ]
  },
  {
   "cell_type": "code",
   "execution_count": 79,
   "id": "e264790c-e533-49c4-8f52-3e32678f89e8",
   "metadata": {},
   "outputs": [],
   "source": [
    "@rt\n",
    "def page():\n",
    "    modal_send = modal_form(Input(type='text',id='input_text'),post=modal)\n",
    "    return modal_send\n",
    "\n",
    "@rt\n",
    "def modal(input_text:str):\n",
    "    return modal_content('Modal title',input_text)"
   ]
  },
  {
   "cell_type": "code",
   "execution_count": 80,
   "id": "561213c0-145a-411f-9421-b51d453cf591",
   "metadata": {
    "scrolled": true
   },
   "outputs": [
    {
     "data": {
      "text/html": [
       "<iframe src=\"https://f81d-3-83-218-220.ngrok-free.app/page\" style=\"width: 100%; height: auto; border: none;\" onload=\"{\n",
       "        let frame = this;\n",
       "        window.addEventListener('message', function(e) {\n",
       "            if (e.data.height) frame.style.height = (e.data.height+1) + 'px';\n",
       "        }, false);\n",
       "    }\" allow=\"accelerometer; autoplay; camera; clipboard-read; clipboard-write; display-capture; encrypted-media; fullscreen; gamepad; geolocation; gyroscope; hid; identity-credentials-get; idle-detection; magnetometer; microphone; midi; payment; picture-in-picture; publickey-credentials-get; screen-wake-lock; serial; usb; web-share; xr-spatial-tracking\"></iframe> "
      ],
      "text/plain": [
       "<IPython.core.display.HTML object>"
      ]
     },
     "execution_count": 80,
     "metadata": {},
     "output_type": "execute_result"
    }
   ],
   "source": [
    "htmx(url,'/page')"
   ]
  },
  {
   "cell_type": "markdown",
   "id": "df292346-374f-4b81-aaf9-2cf13d01bc9c",
   "metadata": {},
   "source": [
    "### Use anchor link to trigger modal"
   ]
  },
  {
   "cell_type": "code",
   "execution_count": 78,
   "id": "6b15db0b-6c55-4103-9d63-80a37416de91",
   "metadata": {},
   "outputs": [],
   "source": [
    "#| export\n",
    "def modal_link(text,post,cls=None,target_id='modals-window'):\n",
    "    \"Reference: https://htmx.org/examples/modal-bootstrap/\"\n",
    "    modal_button = A(text,\n",
    "                     data_bs_toggle='modal', \n",
    "                     data_bs_target=f'#{target_id}',\n",
    "                     post=post, \n",
    "                     target_id=target_id, \n",
    "                     cls=cls)\n",
    "\n",
    "    modal_content =Div(\n",
    "        Div(\n",
    "            Div(cls='modal-content'),\n",
    "            role='document',\n",
    "            cls='modal-dialog modal-lg modal-dialog-centered'\n",
    "        ),\n",
    "        id=target_id,\n",
    "        style='display: none',\n",
    "        aria_hidden='false',\n",
    "        tabindex='-1',\n",
    "        cls='modal modal-blur fade'\n",
    "    )\n",
    "    return modal_button, modal_content"
   ]
  },
  {
   "cell_type": "code",
   "execution_count": 65,
   "id": "a268e0d7-1aaf-4d21-8a43-b311f793f533",
   "metadata": {},
   "outputs": [],
   "source": [
    "@rt\n",
    "def page():\n",
    "    modal_send = modal_link('click here',post=modal)\n",
    "    return modal_send\n",
    "\n",
    "@rt\n",
    "def modal():\n",
    "    return modal_content('Modal title','sdf')"
   ]
  },
  {
   "cell_type": "code",
   "execution_count": 66,
   "id": "e52c90e1-bdd1-4c5e-8526-1c7a00bd1196",
   "metadata": {},
   "outputs": [
    {
     "data": {
      "text/html": [
       "<iframe src=\"https://f81d-3-83-218-220.ngrok-free.app/page\" style=\"width: 100%; height: auto; border: none;\" onload=\"{\n",
       "        let frame = this;\n",
       "        window.addEventListener('message', function(e) {\n",
       "            if (e.data.height) frame.style.height = (e.data.height+1) + 'px';\n",
       "        }, false);\n",
       "    }\" allow=\"accelerometer; autoplay; camera; clipboard-read; clipboard-write; display-capture; encrypted-media; fullscreen; gamepad; geolocation; gyroscope; hid; identity-credentials-get; idle-detection; magnetometer; microphone; midi; payment; picture-in-picture; publickey-credentials-get; screen-wake-lock; serial; usb; web-share; xr-spatial-tracking\"></iframe> "
      ],
      "text/plain": [
       "<IPython.core.display.HTML object>"
      ]
     },
     "execution_count": 66,
     "metadata": {},
     "output_type": "execute_result"
    }
   ],
   "source": [
    "htmx(url,'/page')"
   ]
  },
  {
   "cell_type": "markdown",
   "id": "9645746b-90e7-46cd-9b46-d7c8db2a8000",
   "metadata": {},
   "source": [
    "## Input select"
   ]
  },
  {
   "cell_type": "code",
   "execution_count": 59,
   "id": "c2d03f17-bae8-4ee4-a1da-0f351328db5b",
   "metadata": {},
   "outputs": [],
   "source": [
    "def get_input(label_text,id,cls=None, type='text',**kwargs):\n",
    "    return Div(\n",
    "        Input(type=type, id=id, cls='form-control',placeholder=label_text,**kwargs),\n",
    "        Label(label_text, fr=id),\n",
    "        cls=f'form-floating {cls}')"
   ]
  },
  {
   "cell_type": "code",
   "execution_count": 63,
   "id": "04c6909b-90d3-4c9b-ac7d-3b3a618bf5b7",
   "metadata": {},
   "outputs": [
    {
     "data": {
      "text/html": [
       "<div class=\"form-floating None\">\n",
       "  <input type=\"text\" placeholder=\"Gene ID\" id=\"aa\" class=\"form-control\" name=\"aa\">\n",
       "<label for=\"aa\">Gene ID</label></div>\n"
      ],
      "text/plain": [
       "<IPython.core.display.HTML object>"
      ]
     },
     "execution_count": 63,
     "metadata": {},
     "output_type": "execute_result"
    }
   ],
   "source": [
    "%%s\n",
    "get_input('Gene ID',id='aa')"
   ]
  },
  {
   "cell_type": "code",
   "execution_count": 64,
   "id": "8998ed8c-b6af-4493-9f3f-351a0e9b3130",
   "metadata": {},
   "outputs": [],
   "source": [
    "def get_input_list(label_text, input_list, id, cls=None, type='text', **kwargs):\n",
    "    input_div = Div(\n",
    "        Input(type=type, id=id, cls='form-control', placeholder=label_text, autocomplete=\"off\", **kwargs),\n",
    "        Label(label_text, fr=id),\n",
    "        Div(\n",
    "            *[Div(item, cls='dropdown-item', data_value=item) for item in input_list],\n",
    "            id=f'{id}-dropdown',\n",
    "            cls='dropdown-menu'\n",
    "        ),\n",
    "        cls=f'form-floating position-relative {cls}'\n",
    "    )\n",
    "\n",
    "    script = Script(f\"\"\"\n",
    "    document.addEventListener('DOMContentLoaded', function() {{\n",
    "        setupAutocomplete('#{id}', '#{id}-dropdown');\n",
    "    }});\n",
    "    \"\"\")\n",
    "\n",
    "    return input_div, script"
   ]
  },
  {
   "cell_type": "code",
   "execution_count": 69,
   "id": "09123978-02f4-4d11-b272-a30f7e6f8b50",
   "metadata": {
    "scrolled": true
   },
   "outputs": [
    {
     "data": {
      "text/html": [
       "<div class=\"form-floating position-relative None\">\n",
       "  <input type=\"text\" placeholder=\"Select item\" autocomplete=\"off\" id=\"select\" class=\"form-control\" name=\"select\">\n",
       "<label for=\"select\">Select item</label>  <div id=\"select-dropdown\" class=\"dropdown-menu\">\n",
       "    <div data-value=\"a\" class=\"dropdown-item\">a</div>\n",
       "    <div data-value=\"b\" class=\"dropdown-item\">b</div>\n",
       "    <div data-value=\"c\" class=\"dropdown-item\">c</div>\n",
       "    <div data-value=\"d\" class=\"dropdown-item\">d</div>\n",
       "  </div>\n",
       "</div>\n",
       "<script>\n",
       "    document.addEventListener('DOMContentLoaded', function() {\n",
       "        setupAutocomplete('#select', '#select-dropdown');\n",
       "    });\n",
       "    </script>"
      ],
      "text/plain": [
       "<IPython.core.display.HTML object>"
      ]
     },
     "execution_count": 69,
     "metadata": {},
     "output_type": "execute_result"
    }
   ],
   "source": [
    "%%s\n",
    "get_input_list('Select item', ['a','b','c','d'],id='select')"
   ]
  },
  {
   "cell_type": "markdown",
   "id": "534a2002-4d90-48ec-8415-b9096761d9be",
   "metadata": {
    "jp-MarkdownHeadingCollapsed": true
   },
   "source": [
    "## TextArea"
   ]
  },
  {
   "cell_type": "code",
   "execution_count": 85,
   "id": "85b22ed6-bc71-4117-9fd1-ceacd8346988",
   "metadata": {},
   "outputs": [
    {
     "data": {
      "text/html": [
       "<textarea placeholder=\"sdf\" rows=\"10\" id=\"s\" class=\"form-control\" name=\"s\"></textarea>"
      ],
      "text/plain": [
       "<IPython.core.display.HTML object>"
      ]
     },
     "execution_count": 85,
     "metadata": {},
     "output_type": "execute_result"
    }
   ],
   "source": [
    "%%s\n",
    "Textarea(id='s', placeholder='sdf', cls='form-control',rows=10)"
   ]
  },
  {
   "cell_type": "markdown",
   "id": "584d8939-14ef-4e41-adec-8db6a2ad446f",
   "metadata": {
    "jp-MarkdownHeadingCollapsed": true
   },
   "source": [
    "## Select (default is first)"
   ]
  },
  {
   "cell_type": "code",
   "execution_count": null,
   "id": "c4cac615-546c-40af-a135-4212c090f723",
   "metadata": {},
   "outputs": [],
   "source": [
    "#| export\n",
    "def get_select(label_text,option_list,id,cls=None, **kwargs):\n",
    "    \"The first item in the option_list is the default\"\n",
    "    return Div(\n",
    "        Select(\n",
    "            Option(option_list[0], value=option_list[0],selected=True),\n",
    "            *[Option(i, value=i) for i in option_list[1:]],\n",
    "            id = id,\n",
    "            cls='form-select',\n",
    "            **kwargs\n",
    "        ),\n",
    "        Label(label_text, fr=id),\n",
    "        cls=f'form-floating {cls}')\n"
   ]
  },
  {
   "cell_type": "markdown",
   "id": "c8c44a1f-a3fd-41ea-8b2a-d727e601ce9a",
   "metadata": {
    "jp-MarkdownHeadingCollapsed": true
   },
   "source": [
    "## Select"
   ]
  },
  {
   "cell_type": "code",
   "execution_count": 87,
   "id": "314f3b1b-1888-477a-be6b-968e33e9318f",
   "metadata": {},
   "outputs": [],
   "source": [
    "def get_select_simple(label_text, select_list,id,cls=None):\n",
    "    return Div(Select(\n",
    "        Option(label_text, selected=True,disabled=True),\n",
    "        *[Option(i,value=i) for i in select_list],\n",
    "        cls='form-select',\n",
    "        id = id), cls=cls)"
   ]
  },
  {
   "cell_type": "code",
   "execution_count": 90,
   "id": "3592e40e-be14-4224-a5a2-127d7aa51ceb",
   "metadata": {},
   "outputs": [
    {
     "data": {
      "text/html": [
       "<div>\n",
       "<select id=\"ssdf\" class=\"form-select\" name=\"ssdf\"><option selected disabled>select one</option><option value=\"a\">a</option><option value=\"b\">b</option><option value=\"c\">c</option></select></div>\n"
      ],
      "text/plain": [
       "<IPython.core.display.HTML object>"
      ]
     },
     "execution_count": 90,
     "metadata": {},
     "output_type": "execute_result"
    }
   ],
   "source": [
    "%%s\n",
    "get_select_simple('select one', ['a','b','c'],id='ssdf')"
   ]
  },
  {
   "cell_type": "code",
   "execution_count": null,
   "id": "7ae28ed5-eccd-4e65-a940-81ca4d90ce7b",
   "metadata": {},
   "outputs": [],
   "source": []
  },
  {
   "cell_type": "markdown",
   "id": "616bc044-7331-4f11-a50c-1c8cce028b4a",
   "metadata": {
    "jp-MarkdownHeadingCollapsed": true
   },
   "source": [
    "## Select multiple"
   ]
  },
  {
   "cell_type": "code",
   "execution_count": 91,
   "id": "b347fb70-1611-4a28-919c-488793700334",
   "metadata": {},
   "outputs": [],
   "source": [
    "\n",
    "def get_select_simple_multiple(label_text, select_list,id,cls=None):\n",
    "    return Div(Select(\n",
    "        Option(label_text, selected=True,disabled=True),\n",
    "        *[Option(i,value=i) for i in select_list],\n",
    "        cls='form-select',\n",
    "        multiple=True,\n",
    "        id = id), cls=cls)"
   ]
  },
  {
   "cell_type": "code",
   "execution_count": 93,
   "id": "a247f262-1f0b-43a5-978b-1a34699a1421",
   "metadata": {
    "scrolled": true
   },
   "outputs": [
    {
     "data": {
      "text/html": [
       "<div>\n",
       "<select multiple id=\"ssss\" class=\"form-select\" name=\"ssss\"><option selected disabled>select one</option><option value=\"a\">a</option><option value=\"b\">b</option><option value=\"c\">c</option></select></div>\n"
      ],
      "text/plain": [
       "<IPython.core.display.HTML object>"
      ]
     },
     "execution_count": 93,
     "metadata": {},
     "output_type": "execute_result"
    }
   ],
   "source": [
    "%%s\n",
    "get_select_simple_multiple('select one', ['a','b','c'],id='ssss')"
   ]
  },
  {
   "cell_type": "markdown",
   "id": "87ffed47-cb9a-45c8-97d6-70a4ee2aa379",
   "metadata": {
    "jp-MarkdownHeadingCollapsed": true
   },
   "source": [
    "## Spinner"
   ]
  },
  {
   "cell_type": "code",
   "execution_count": 47,
   "id": "67d10b91-dd72-4900-976e-45b48872f6a5",
   "metadata": {},
   "outputs": [],
   "source": [
    "def get_spinner(id, cls='d-flex justify-content-center'):\n",
    "    return Div(Div(\n",
    "        Span('Loading...', cls='visually-hidden'),\n",
    "        role='status',\n",
    "        cls='htmx-indicator spinner-border',\n",
    "        id=id,\n",
    "    ),cls=cls)"
   ]
  },
  {
   "cell_type": "code",
   "execution_count": 49,
   "id": "3c5dfb49-1f55-4677-b60d-635cbda71fc5",
   "metadata": {},
   "outputs": [
    {
     "data": {
      "text/html": [
       "<div class=\"d-flex justify-content-center\">\n",
       "  <div role=\"status\" id=\"sdf\" class=\"htmx-indicator spinner-border\">\n",
       "<span class=\"visually-hidden\">Loading...</span>  </div>\n",
       "</div>\n"
      ],
      "text/plain": [
       "<IPython.core.display.HTML object>"
      ]
     },
     "execution_count": 49,
     "metadata": {},
     "output_type": "execute_result"
    }
   ],
   "source": [
    "%%s\n",
    "get_spinner(id='sdf')"
   ]
  },
  {
   "cell_type": "markdown",
   "id": "5a1f2e62-479b-4e98-ae85-4305a80a3c94",
   "metadata": {},
   "source": [
    "Example:"
   ]
  },
  {
   "cell_type": "code",
   "execution_count": null,
   "id": "b7e80165-eb26-456b-b775-f3964a1bd552",
   "metadata": {},
   "outputs": [],
   "source": [
    "@app.post\n",
    "def example():\n",
    "    ...\n",
    "    send_select = Form(\n",
    "            Hidden(value=df.to_json(),id='upload_df'),\n",
    "            Div(select_list,button,cls='row g-2 align-items-center'),\n",
    "            post=calculate,\n",
    "            target_id='result',\n",
    "            hx_indicator='#spinner',\n",
    "        )\n",
    "    \n",
    "    spinner=get_spinner(id='spinner')\n",
    "    \n",
    "    return send_select, spinner, ...\n"
   ]
  },
  {
   "cell_type": "code",
   "execution_count": 16,
   "id": "1d0a36e2-41ca-4b0c-bafe-a9b8bc9e8f67",
   "metadata": {},
   "outputs": [],
   "source": []
  },
  {
   "cell_type": "markdown",
   "id": "a8846d43-0ae6-487a-b721-9cc2b1cf0399",
   "metadata": {},
   "source": [
    "## End"
   ]
  },
  {
   "cell_type": "code",
   "execution_count": 1,
   "id": "68d7ad46-7574-4e92-9606-022f26db9cf3",
   "metadata": {},
   "outputs": [],
   "source": [
    "#| hide\n",
    "import nbdev; nbdev.nbdev_export()"
   ]
  },
  {
   "cell_type": "code",
   "execution_count": null,
   "id": "2a4fd795-d0c6-4712-be9f-5010562a2d76",
   "metadata": {},
   "outputs": [],
   "source": []
  }
 ],
 "metadata": {
  "kernelspec": {
   "display_name": "Python 3",
   "language": "python",
   "name": "python3"
  },
  "language_info": {
   "codemirror_mode": {
    "name": "ipython",
    "version": 3
   },
   "file_extension": ".py",
   "mimetype": "text/x-python",
   "name": "python",
   "nbconvert_exporter": "python",
   "pygments_lexer": "ipython3",
   "version": "3.10.10"
  }
 },
 "nbformat": 4,
 "nbformat_minor": 5
}
