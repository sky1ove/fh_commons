{
 "cells": [
  {
   "cell_type": "markdown",
   "id": "43e3762c-d51c-427b-a43f-fcdfdc5ee468",
   "metadata": {},
   "source": [
    "# Protein display"
   ]
  },
  {
   "cell_type": "markdown",
   "id": "9a0e6f0d-a489-4ba8-80ea-25ff4e10eace",
   "metadata": {},
   "source": [
    "## Setup"
   ]
  },
  {
   "cell_type": "code",
   "execution_count": 1,
   "id": "a7035ce1-7b0a-47b7-beb0-ee1c4b12f4fa",
   "metadata": {},
   "outputs": [],
   "source": [
    "#| default_exp protein"
   ]
  },
  {
   "cell_type": "code",
   "execution_count": 2,
   "id": "12b8e553-87f5-47fb-89ab-7b1d57cbb63d",
   "metadata": {},
   "outputs": [],
   "source": [
    "#| export\n",
    "from fasthtml.common import *\n",
    "from fasthtml.jupyter import *\n",
    "\n",
    "from fh_commons.core import *\n",
    "from fh_commons.static import *\n",
    "\n",
    "import json\n",
    "import pandas as pd"
   ]
  },
  {
   "cell_type": "code",
   "execution_count": 32,
   "id": "67e380e6-f435-4141-8ac2-1b0f07d631b1",
   "metadata": {},
   "outputs": [],
   "source": [
    "#| export\n",
    "def AF_display():\n",
    "    \"client side scripts\"\n",
    "    return Script(src=\"./imports/alphafold_display.js\")"
   ]
  },
  {
   "cell_type": "code",
   "execution_count": 15,
   "id": "e4ba3c6c-fb86-4019-91cd-0ed4d0fd6cf8",
   "metadata": {},
   "outputs": [],
   "source": [
    "#| export\n",
    "def pdbe_molstar():\n",
    "    \"Headers\"\n",
    "    s1 = Link(rel='stylesheet', type='text/css', href='https://cdn.jsdelivr.net/npm/pdbe-molstar@3.2.0/build/pdbe-molstar-light.css')\n",
    "    s2 = Script(type='text/javascript', src='https://cdn.jsdelivr.net/npm/pdbe-molstar@3.2.0/build/pdbe-molstar-plugin.js')\n",
    "    s3 = Style(\n",
    "        '''\n",
    "          #myViewer {\n",
    "            float: left;\n",
    "            width: 1000px;\n",
    "            height: 550px;\n",
    "            position: relative;\n",
    "            margin: 20px;\n",
    "          }\n",
    "          .msp-plugin ::-webkit-scrollbar-thumb {\n",
    "            background-color: #474748 !important;\n",
    "            border-radius: 10px;\n",
    "          }\n",
    "          .msp-right-panel { \n",
    "            display: none !important; \n",
    "          }\n",
    "          #protein-form {\n",
    "            margin: 20px;\n",
    "          }\n",
    "          \n",
    "        '''\n",
    "    )\n",
    "    return [s1, s2, s3]"
   ]
  },
  {
   "cell_type": "code",
   "execution_count": 16,
   "id": "eee455f0-6cfb-497d-80fc-5afc38b2a926",
   "metadata": {},
   "outputs": [],
   "source": [
    "hdrs = bootstrap_hdrs() + pdbe_molstar()"
   ]
  },
  {
   "cell_type": "code",
   "execution_count": 17,
   "id": "e3d12176-49bb-4a87-b3c8-f70be1a141a8",
   "metadata": {},
   "outputs": [
    {
     "data": {
      "text/html": [
       "<link href=\"https://cdn.jsdelivr.net/npm/bootstrap@5.3.3/dist/css/bootstrap.min.css\" rel=\"stylesheet\">\n",
       "<script src=\"https://cdn.jsdelivr.net/npm/bootstrap@5.3.3/dist/js/bootstrap.bundle.min.js\"></script><link href=\"https://cdn.jsdelivr.net/npm/bootstrap-icons@1.11.3/font/bootstrap-icons.min.css\" rel=\"stylesheet\">\n",
       "<link rel=\"stylesheet\" type=\"text/css\" href=\"https://cdn.jsdelivr.net/npm/pdbe-molstar@3.2.0/build/pdbe-molstar-light.css\">\n",
       "<script type=\"text/javascript\" src=\"https://cdn.jsdelivr.net/npm/pdbe-molstar@3.2.0/build/pdbe-molstar-plugin.js\"></script><style>\n",
       "          #myViewer {\n",
       "            float: left;\n",
       "            width: 1000px;\n",
       "            height: 550px;\n",
       "            position: relative;\n",
       "            margin: 20px;\n",
       "          }\n",
       "          .msp-plugin ::-webkit-scrollbar-thumb {\n",
       "            background-color: #474748 !important;\n",
       "            border-radius: 10px;\n",
       "          }\n",
       "          .msp-right-panel { \n",
       "            display: none !important; \n",
       "          }\n",
       "          #protein-form {\n",
       "            margin: 20px;\n",
       "          }\n",
       "          \n",
       "        </style>\n",
       "<script>if (window.htmx) htmx.process(document.body)</script>"
      ],
      "text/plain": [
       "<IPython.core.display.HTML object>"
      ]
     },
     "metadata": {},
     "output_type": "display_data"
    }
   ],
   "source": [
    "show(*hdrs)"
   ]
  },
  {
   "cell_type": "code",
   "execution_count": 7,
   "id": "e8c6b509-b0f4-4a0f-bcb9-5d00ab37d095",
   "metadata": {},
   "outputs": [
    {
     "data": {
      "text/plain": [
       "'https://72c5-3-81-185-19.ngrok-free.app'"
      ]
     },
     "execution_count": 7,
     "metadata": {},
     "output_type": "execute_result"
    }
   ],
   "source": [
    "from ngrok_token import *\n",
    "url = start_ngrok(token)\n",
    "url"
   ]
  },
  {
   "cell_type": "code",
   "execution_count": 18,
   "id": "ec7cadbe-26cb-4945-85b6-3672c501ff36",
   "metadata": {
    "scrolled": true
   },
   "outputs": [
    {
     "data": {
      "text/html": [
       "\n",
       "<script>\n",
       "document.body.addEventListener('htmx:configRequest', (event) => {\n",
       "    if(event.detail.path.includes('://')) return;\n",
       "    htmx.config.selfRequestsOnly=false;\n",
       "    event.detail.path = `${location.protocol}//${location.hostname}:8000${event.detail.path}`;\n",
       "});\n",
       "</script>"
      ],
      "text/plain": [
       "<IPython.core.display.HTML object>"
      ]
     },
     "metadata": {},
     "output_type": "display_data"
    }
   ],
   "source": [
    "app,rt = fast_app(pico=False, live=True,debug=True,hdrs=hdrs)\n",
    "server = JupyUvi(app)"
   ]
  },
  {
   "cell_type": "code",
   "execution_count": 14,
   "id": "2e4923b4-481a-471f-a40e-ce35991149bc",
   "metadata": {},
   "outputs": [],
   "source": [
    "# server.stop()"
   ]
  },
  {
   "cell_type": "markdown",
   "id": "4063a0b4-e5e1-4508-be85-11397457bb27",
   "metadata": {},
   "source": [
    "## Protein display"
   ]
  },
  {
   "cell_type": "code",
   "execution_count": 19,
   "id": "dbb749b6-2061-4ac9-9e77-8f3319915cf4",
   "metadata": {},
   "outputs": [],
   "source": [
    "df = pd.read_parquet('data/AM.parquet')"
   ]
  },
  {
   "cell_type": "code",
   "execution_count": 30,
   "id": "770fef5e-797b-4f85-8522-b3203f2b8c18",
   "metadata": {},
   "outputs": [],
   "source": [
    "@rt('/')\n",
    "def get():\n",
    "    form = Form(\n",
    "        Input(type='text', name='protein-id', placeholder='Enter Protein ID (e.g., O15552)'),\n",
    "        Button('Load Protein', type='button', id='load-protein-btn'),\n",
    "        id='protein-form'\n",
    "    )\n",
    "    viewer = Div(id='myViewer')\n",
    "    script = Script(src=\"./imports/alphafold_display.js\")\n",
    "    blank=Div(style='height: 600px;')\n",
    "\n",
    "    return Titled('PDBe Mol* JS Plugin Demo - AlphaFold View', form, viewer, script, blank)\n",
    "\n",
    "\n",
    "@rt('/api/protein/{uniprot_id}')\n",
    "def get(uniprot_id: str):\n",
    "    # Filter the dataframe for the given UniProt ID\n",
    "    protein_data = df[df['uniprot'] == uniprot_id].copy()\n",
    "\n",
    "    if protein_data.empty:\n",
    "        return {'error': 'Uniprot id not found'}\n",
    "\n",
    "    protein_data['residue'] = protein_data.site.str[1:].astype(int)\n",
    "\n",
    "    # Convert the filtered data to a list of dictionaries\n",
    "    site_data = protein_data[['residue', 'AM_pathogenicity']].to_dict('records')\n",
    "\n",
    "    return {'site_data': site_data}"
   ]
  },
  {
   "cell_type": "code",
   "execution_count": 31,
   "id": "a918ce2a-27db-43b4-9506-afd3ee4a9fd4",
   "metadata": {},
   "outputs": [
    {
     "data": {
      "text/html": [
       "<iframe src=\"https://72c5-3-81-185-19.ngrok-free.app/\" style=\"width: 100%; height: auto; border: none;\" onload=\"{\n",
       "        let frame = this;\n",
       "        window.addEventListener('message', function(e) {\n",
       "            if (e.data.height) frame.style.height = (e.data.height+1) + 'px';\n",
       "        }, false);\n",
       "    }\" allow=\"accelerometer; autoplay; camera; clipboard-read; clipboard-write; display-capture; encrypted-media; fullscreen; gamepad; geolocation; gyroscope; hid; identity-credentials-get; idle-detection; magnetometer; microphone; midi; payment; picture-in-picture; publickey-credentials-get; screen-wake-lock; serial; usb; web-share; xr-spatial-tracking\"></iframe> "
      ],
      "text/plain": [
       "<IPython.core.display.HTML object>"
      ]
     },
     "execution_count": 31,
     "metadata": {},
     "output_type": "execute_result"
    }
   ],
   "source": [
    "htmx(url,'/')"
   ]
  },
  {
   "cell_type": "code",
   "execution_count": 47,
   "id": "67d10b91-dd72-4900-976e-45b48872f6a5",
   "metadata": {},
   "outputs": [],
   "source": [
    "def get_spinner(id, cls='d-flex justify-content-center'):\n",
    "    return Div(Div(\n",
    "        Span('Loading...', cls='visually-hidden'),\n",
    "        role='status',\n",
    "        cls='htmx-indicator spinner-border',\n",
    "        id=id,\n",
    "    ),cls=cls)"
   ]
  },
  {
   "cell_type": "code",
   "execution_count": 49,
   "id": "3c5dfb49-1f55-4677-b60d-635cbda71fc5",
   "metadata": {},
   "outputs": [
    {
     "data": {
      "text/html": [
       "<div class=\"d-flex justify-content-center\">\n",
       "  <div role=\"status\" id=\"sdf\" class=\"htmx-indicator spinner-border\">\n",
       "<span class=\"visually-hidden\">Loading...</span>  </div>\n",
       "</div>\n"
      ],
      "text/plain": [
       "<IPython.core.display.HTML object>"
      ]
     },
     "execution_count": 49,
     "metadata": {},
     "output_type": "execute_result"
    }
   ],
   "source": [
    "%%s\n",
    "get_spinner(id='sdf')"
   ]
  },
  {
   "cell_type": "markdown",
   "id": "5a1f2e62-479b-4e98-ae85-4305a80a3c94",
   "metadata": {},
   "source": [
    "Example:"
   ]
  },
  {
   "cell_type": "code",
   "execution_count": null,
   "id": "b7e80165-eb26-456b-b775-f3964a1bd552",
   "metadata": {},
   "outputs": [],
   "source": [
    "@app.post\n",
    "def example():\n",
    "    ...\n",
    "    send_select = Form(\n",
    "            Hidden(value=df.to_json(),id='upload_df'),\n",
    "            Div(select_list,button,cls='row g-2 align-items-center'),\n",
    "            post=calculate,\n",
    "            target_id='result',\n",
    "            hx_indicator='#spinner',\n",
    "        )\n",
    "    \n",
    "    spinner=get_spinner(id='spinner')\n",
    "    \n",
    "    return send_select, spinner, ...\n"
   ]
  },
  {
   "cell_type": "code",
   "execution_count": 16,
   "id": "1d0a36e2-41ca-4b0c-bafe-a9b8bc9e8f67",
   "metadata": {},
   "outputs": [],
   "source": []
  },
  {
   "cell_type": "markdown",
   "id": "a8846d43-0ae6-487a-b721-9cc2b1cf0399",
   "metadata": {},
   "source": [
    "## End"
   ]
  },
  {
   "cell_type": "code",
   "execution_count": 1,
   "id": "68d7ad46-7574-4e92-9606-022f26db9cf3",
   "metadata": {},
   "outputs": [],
   "source": [
    "#| hide\n",
    "import nbdev; nbdev.nbdev_export()"
   ]
  },
  {
   "cell_type": "code",
   "execution_count": null,
   "id": "2a4fd795-d0c6-4712-be9f-5010562a2d76",
   "metadata": {},
   "outputs": [],
   "source": []
  }
 ],
 "metadata": {
  "kernelspec": {
   "display_name": "Python 3",
   "language": "python",
   "name": "python3"
  },
  "language_info": {
   "codemirror_mode": {
    "name": "ipython",
    "version": 3
   },
   "file_extension": ".py",
   "mimetype": "text/x-python",
   "name": "python",
   "nbconvert_exporter": "python",
   "pygments_lexer": "ipython3",
   "version": "3.10.10"
  }
 },
 "nbformat": 4,
 "nbformat_minor": 5
}
