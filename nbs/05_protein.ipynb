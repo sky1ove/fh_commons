{
 "cells": [
  {
   "cell_type": "markdown",
   "id": "43e3762c-d51c-427b-a43f-fcdfdc5ee468",
   "metadata": {},
   "source": [
    "# Protein display"
   ]
  },
  {
   "cell_type": "markdown",
   "id": "9a0e6f0d-a489-4ba8-80ea-25ff4e10eace",
   "metadata": {},
   "source": [
    "## Setup"
   ]
  },
  {
   "cell_type": "code",
   "execution_count": 1,
   "id": "a7035ce1-7b0a-47b7-beb0-ee1c4b12f4fa",
   "metadata": {},
   "outputs": [],
   "source": [
    "#| default_exp protein"
   ]
  },
  {
   "cell_type": "code",
   "execution_count": 2,
   "id": "12b8e553-87f5-47fb-89ab-7b1d57cbb63d",
   "metadata": {},
   "outputs": [],
   "source": [
    "#| export\n",
    "from fasthtml.common import *\n",
    "from fasthtml.jupyter import *\n",
    "\n",
    "from fh_commons.core import *\n",
    "from fh_commons.static import *\n",
    "\n",
    "import json\n",
    "import pandas as pd"
   ]
  },
  {
   "cell_type": "code",
   "execution_count": 3,
   "id": "67e380e6-f435-4141-8ac2-1b0f07d631b1",
   "metadata": {},
   "outputs": [],
   "source": [
    "#| export\n",
    "def AF_display():\n",
    "    \"client side scripts\"\n",
    "    return Script(src=\"./imports/alphafold_display.js\")"
   ]
  },
  {
   "cell_type": "code",
   "execution_count": 4,
   "id": "e4ba3c6c-fb86-4019-91cd-0ed4d0fd6cf8",
   "metadata": {},
   "outputs": [],
   "source": [
    "#| export\n",
    "def pdbe_molstar():\n",
    "    \"Headers\"\n",
    "    s1 = Link(rel='stylesheet', type='text/css', href='https://cdn.jsdelivr.net/npm/pdbe-molstar@3.2.0/build/pdbe-molstar-light.css')\n",
    "    s2 = Script(type='text/javascript', src='https://cdn.jsdelivr.net/npm/pdbe-molstar@3.2.0/build/pdbe-molstar-plugin.js')\n",
    "    s3 = Style(\n",
    "        '''\n",
    "          #myViewer {\n",
    "            float: left;\n",
    "            width: 100%;\n",
    "            height: 600px;\n",
    "            position: relative;\n",
    "            margin: 0px;\n",
    "          }\n",
    "          .msp-plugin ::-webkit-scrollbar-thumb {\n",
    "            background-color: #474748 !important;\n",
    "            border-radius: 10px;\n",
    "          }\n",
    "          .msp-right-panel { \n",
    "            display: none !important; \n",
    "          }\n",
    "          #protein-form {\n",
    "            margin: 20px;\n",
    "          }\n",
    "          \n",
    "        '''\n",
    "    )\n",
    "    return [s1, s2, s3]"
   ]
  },
  {
   "cell_type": "code",
   "execution_count": 5,
   "id": "eee455f0-6cfb-497d-80fc-5afc38b2a926",
   "metadata": {},
   "outputs": [],
   "source": [
    "hdrs = bootstrap_hdrs() + pdbe_molstar()"
   ]
  },
  {
   "cell_type": "code",
   "execution_count": 6,
   "id": "e3d12176-49bb-4a87-b3c8-f70be1a141a8",
   "metadata": {},
   "outputs": [
    {
     "data": {
      "text/html": [
       "<link href=\"https://cdn.jsdelivr.net/npm/bootstrap@5.3.3/dist/css/bootstrap.min.css\" rel=\"stylesheet\">\n",
       "<script src=\"https://cdn.jsdelivr.net/npm/bootstrap@5.3.3/dist/js/bootstrap.bundle.min.js\"></script><link href=\"https://cdn.jsdelivr.net/npm/bootstrap-icons@1.11.3/font/bootstrap-icons.min.css\" rel=\"stylesheet\">\n",
       "<script>\n",
       "            document.addEventListener('htmx:load', function() {\n",
       "                var tooltipTriggerList = document.querySelectorAll('[data-bs-toggle=\"tooltip\"]');\n",
       "                var tooltipList = [...tooltipTriggerList].map(tooltipTriggerEl => new bootstrap.Tooltip(tooltipTriggerEl));\n",
       "            });\n",
       "        </script><link rel=\"stylesheet\" type=\"text/css\" href=\"https://cdn.jsdelivr.net/npm/pdbe-molstar@3.2.0/build/pdbe-molstar-light.css\">\n",
       "<script type=\"text/javascript\" src=\"https://cdn.jsdelivr.net/npm/pdbe-molstar@3.2.0/build/pdbe-molstar-plugin.js\"></script><style>\n",
       "          #myViewer {\n",
       "            float: left;\n",
       "            width: 100%;\n",
       "            height: 600px;\n",
       "            position: relative;\n",
       "            margin: 0px;\n",
       "          }\n",
       "          .msp-plugin ::-webkit-scrollbar-thumb {\n",
       "            background-color: #474748 !important;\n",
       "            border-radius: 10px;\n",
       "          }\n",
       "          .msp-right-panel { \n",
       "            display: none !important; \n",
       "          }\n",
       "          #protein-form {\n",
       "            margin: 20px;\n",
       "          }\n",
       "          \n",
       "        </style>\n",
       "<script>if (window.htmx) htmx.process(document.body)</script>"
      ],
      "text/plain": [
       "<IPython.core.display.HTML object>"
      ]
     },
     "metadata": {},
     "output_type": "display_data"
    }
   ],
   "source": [
    "show(*hdrs)"
   ]
  },
  {
   "cell_type": "code",
   "execution_count": 7,
   "id": "e8c6b509-b0f4-4a0f-bcb9-5d00ab37d095",
   "metadata": {},
   "outputs": [
    {
     "name": "stdout",
     "output_type": "stream",
     "text": [
      "ngrok tunnel opened at: https://9771-3-91-16-70.ngrok-free.app\n"
     ]
    }
   ],
   "source": [
    "#| eval: False\n",
    "from ngrok_token import *\n",
    "url = start_ngrok(token)"
   ]
  },
  {
   "cell_type": "code",
   "execution_count": 8,
   "id": "ec7cadbe-26cb-4945-85b6-3672c501ff36",
   "metadata": {
    "scrolled": true
   },
   "outputs": [
    {
     "data": {
      "text/html": [
       "\n",
       "<script>\n",
       "document.body.addEventListener('htmx:configRequest', (event) => {\n",
       "    if(event.detail.path.includes('://')) return;\n",
       "    htmx.config.selfRequestsOnly=false;\n",
       "    event.detail.path = `${location.protocol}//${location.hostname}:8000${event.detail.path}`;\n",
       "});\n",
       "</script>"
      ],
      "text/plain": [
       "<IPython.core.display.HTML object>"
      ]
     },
     "metadata": {},
     "output_type": "display_data"
    }
   ],
   "source": [
    "app,rt = fast_app(pico=False,hdrs=hdrs)\n",
    "server = JupyUvi(app)"
   ]
  },
  {
   "cell_type": "markdown",
   "id": "4063a0b4-e5e1-4508-be85-11397457bb27",
   "metadata": {},
   "source": [
    "## Check output format"
   ]
  },
  {
   "cell_type": "code",
   "execution_count": 9,
   "id": "dbb749b6-2061-4ac9-9e77-8f3319915cf4",
   "metadata": {},
   "outputs": [],
   "source": [
    "df = pd.read_parquet('data/AM.parquet')"
   ]
  },
  {
   "cell_type": "code",
   "execution_count": 10,
   "id": "1d4bb745-179d-4763-8a24-c46daf21de83",
   "metadata": {},
   "outputs": [],
   "source": [
    "@rt\n",
    "def test():\n",
    "    form = Form(Input(id='uniprot_id'),Button('load'),hx_get='/sdf',target_id='result')\n",
    "    result = Div(id='result')\n",
    "    return Div(form, result)\n",
    "\n",
    "@rt\n",
    "def sdf(uniprot_id:str):\n",
    "    protein_data = df[df['uniprot'] == uniprot_id].copy()\n",
    "\n",
    "    if protein_data.empty:\n",
    "        return Div('Uniprot id not found in the phosphosite database')\n",
    "\n",
    "    protein_data['residue'] = protein_data.site.str[1:].astype(int)\n",
    "    protein_data['CDDM_kinases'] = protein_data['CDDM'].str.split(',').str[:5]\n",
    "    protein_data['PSPA_kinases'] = protein_data['PSPA'].str.split(',').str[:5]\n",
    "    protein_data['AM_pathogenicity'] = protein_data['AM_pathogenicity'].round(4)\n",
    "\n",
    "    # Convert the filtered data to a list of dictionaries\n",
    "    # It needs to include residue, as it uses residue number to highlight\n",
    "    out = protein_data[['residue', 'AM_pathogenicity','site_seq','source','CDDM_kinases','PSPA_kinases']]\n",
    "\n",
    "    return Container(df2html(out))"
   ]
  },
  {
   "cell_type": "code",
   "execution_count": 11,
   "id": "c1649c31-9fca-4ed9-a7c4-6994116f3b31",
   "metadata": {
    "scrolled": true
   },
   "outputs": [
    {
     "data": {
      "text/html": [
       "<iframe src=\"https://9771-3-91-16-70.ngrok-free.app/sdf?uniprot_id=P10398\" style=\"width: 100%; height: auto; border: none;\" onload=\"{\n",
       "        let frame = this;\n",
       "        window.addEventListener('message', function(e) {\n",
       "            if (e.data.height) frame.style.height = (e.data.height+1) + 'px';\n",
       "        }, false);\n",
       "    }\" allow=\"accelerometer; autoplay; camera; clipboard-read; clipboard-write; display-capture; encrypted-media; fullscreen; gamepad; geolocation; gyroscope; hid; identity-credentials-get; idle-detection; magnetometer; microphone; midi; payment; picture-in-picture; publickey-credentials-get; screen-wake-lock; serial; usb; web-share; xr-spatial-tracking\"></iframe> "
      ],
      "text/plain": [
       "<IPython.core.display.HTML object>"
      ]
     },
     "execution_count": 11,
     "metadata": {},
     "output_type": "execute_result"
    }
   ],
   "source": [
    "htmx(url,'/sdf?uniprot_id=P10398')"
   ]
  },
  {
   "cell_type": "markdown",
   "id": "6b8a8aeb-9d2c-4ecb-afd5-9aa7d9dc21fe",
   "metadata": {},
   "source": [
    "## Protein Display"
   ]
  },
  {
   "cell_type": "code",
   "execution_count": 16,
   "id": "70e64ef7-769c-460a-a7c8-207fda6fd7f6",
   "metadata": {},
   "outputs": [],
   "source": [
    "#| export\n",
    "AF_script = Script(\n",
    "    '''\n",
    "// Global state variables\n",
    "let isAlphaFoldView = false;\n",
    "let currentProteinId = null;\n",
    "let currentSiteData = null;\n",
    "\n",
    "// Function to load protein\n",
    "function loadProtein(proteinId, siteData) {\n",
    "  // Create a new plugin instance each time the function is called\n",
    "  const viewerInstance = new PDBeMolstarPlugin();\n",
    "\n",
    "  // Set options with dynamic alphafoldView\n",
    "  const options = {\n",
    "    customData: {\n",
    "      url: `https://alphafold.ebi.ac.uk/files/AF-${proteinId}-F1-model_v1.cif`,\n",
    "      format: 'cif',\n",
    "    },\n",
    "    alphafoldView: isAlphaFoldView,  // Use the dynamic state variable here\n",
    "    bgColor: { r: 255, g: 255, b: 255 },\n",
    "    hideCanvasControls: [\n",
    "      'animation',\n",
    "      'controlToggle',\n",
    "      'controlInfo',\n",
    "      'expand',\n",
    "      'selection',\n",
    "      'orientation',\n",
    "      'zoom',\n",
    "    ],\n",
    "    sequencePanel: true,\n",
    "    hideControls: false,\n",
    "    landscape: true,\n",
    "  };\n",
    "\n",
    "  // Get element from HTML/Template to place the viewer\n",
    "  const viewerContainer = document.getElementById('myViewer');\n",
    "\n",
    "  // Render the new instance\n",
    "  viewerInstance.render(viewerContainer, options);\n",
    "\n",
    "  // Add tooltips for AM_pathogenicity scores\n",
    "  viewerInstance.events.loadComplete.subscribe(() => {\n",
    "    const tooltipData = siteData.map(site => {\n",
    "      const tooltipContent = Object.keys(site).map(key => {\n",
    "        return `${key}: ${site[key] || 'N/A'}`;\n",
    "      }).join('<br>');\n",
    "      return {\n",
    "        residue_number: site.residue,\n",
    "        tooltip: tooltipContent,\n",
    "        color: { r: 255, g: 0, b: 150 },\n",
    "      };\n",
    "    });\n",
    "\n",
    "    viewerInstance.visual.select({ data: tooltipData });\n",
    "    viewerInstance.visual.tooltips({ data: tooltipData });\n",
    "  });\n",
    "}\n",
    "\n",
    "// Toggle alphafoldView on button click\n",
    "document.getElementById('AF_view').addEventListener('click', function() {\n",
    "  // Toggle the value of isAlphaFoldView\n",
    "  isAlphaFoldView = !isAlphaFoldView;\n",
    "\n",
    "  // Reload the viewer with the current protein data if available\n",
    "  if (currentProteinId && currentSiteData) {\n",
    "    loadProtein(currentProteinId, currentSiteData);\n",
    "  }\n",
    "});\n",
    "\n",
    "// Add event listener to the load protein button\n",
    "document.addEventListener('DOMContentLoaded', function() {\n",
    "  const loadButton = document.getElementById('load-protein-btn');\n",
    "  const proteinInput = document.getElementById('uniprot_id');\n",
    "\n",
    "  loadButton.addEventListener('click', function() {\n",
    "    const proteinId = proteinInput.value.trim();\n",
    "    if (proteinId) {\n",
    "      fetch(`./api/protein/${proteinId}`)\n",
    "        .then(response => response.json())\n",
    "        .then(data => {\n",
    "          if (data.error) {\n",
    "            alert(data.error);\n",
    "          } else {\n",
    "            // Save the current protein data\n",
    "            currentProteinId = proteinId;\n",
    "            currentSiteData = data.site_data;\n",
    "            loadProtein(proteinId, data.site_data);\n",
    "          }\n",
    "        })\n",
    "        .catch(error => {\n",
    "          console.error('Error:', error);\n",
    "          alert('An error occurred while fetching protein data');\n",
    "        });\n",
    "    } else {\n",
    "      alert('Please enter a valid Protein ID');\n",
    "    }\n",
    "  });\n",
    "\n",
    "  // Load a default protein on page load\n",
    "  fetch('./api/protein/P35222')\n",
    "    .then(response => response.json())\n",
    "    .then(data => {\n",
    "      if (!data.error) {\n",
    "        // Save the default protein data\n",
    "        currentProteinId = 'P35222';\n",
    "        currentSiteData = data.site_data;\n",
    "        loadProtein('P35222', data.site_data);\n",
    "      }\n",
    "    });\n",
    "});\n",
    "\n",
    "    '''\n",
    ")"
   ]
  },
  {
   "cell_type": "markdown",
   "id": "8a9ecf30-f444-46de-a1aa-96db20592928",
   "metadata": {},
   "source": [
    "P10398\n",
    "P35222"
   ]
  },
  {
   "cell_type": "markdown",
   "id": "30002fcc-a132-46f6-8351-26ac20d3518d",
   "metadata": {},
   "source": [
    "Key listeners:\n",
    "\n",
    "- uniprot_id: input text\n",
    "- load-protein-btn: click to load new protein\n",
    "- myViewer: display protein\n",
    "- AF_view: control alphafold color on or off"
   ]
  },
  {
   "cell_type": "code",
   "execution_count": 17,
   "id": "770fef5e-797b-4f85-8522-b3203f2b8c18",
   "metadata": {},
   "outputs": [],
   "source": [
    "@rt('/')\n",
    "def get():\n",
    "    form = Form(\n",
    "        Input(type='text', id = 'uniprot_id', placeholder='Enter Uniprot ID (e.g., P10398)'),\n",
    "        Button('Load Protein', type='button',id='load-protein-btn'),\n",
    "        id='protein-form',\n",
    "    )\n",
    "    viewer = Div(id='myViewer')\n",
    "    # script = Script(src=\"./imports/alphafold_display.js\")\n",
    "    AF_button = Button('Turn On/Off Alphafold Color', type='button',id='AF_view'),\n",
    "    blank=Div(style='height: 600px;')\n",
    "\n",
    "    return Titled('PDBe Mol* JS Plugin Demo - AlphaFold View', form, AF_button, viewer, AF_script, blank)\n",
    "\n",
    "\n",
    "@rt('/api/protein/{uniprot_id}')\n",
    "def get(uniprot_id: str):\n",
    "    # Filter the dataframe for the given UniProt ID\n",
    "    protein_data = df[df['uniprot'] == uniprot_id].copy()\n",
    "\n",
    "    if protein_data.empty:\n",
    "        return {'error': 'Uniprot id not found in the phosphosite database'}\n",
    "\n",
    "    protein_data['residue'] = protein_data.site.str[1:].astype(int)\n",
    "    protein_data['CDDM_kinases'] = protein_data['CDDM'].str.split(',').str[:5]\n",
    "    protein_data['PSPA_kinases'] = protein_data['PSPA'].str.split(',').str[:5]\n",
    "    protein_data['AM_pathogenicity'] = protein_data['AM_pathogenicity'].round(4)\n",
    "\n",
    "    # Convert the filtered data to a list of dictionaries\n",
    "    # It needs to include residue, as it uses residue number to highlight\n",
    "    site_data = protein_data[['residue', 'AM_pathogenicity','site_seq','source','CDDM_kinases','PSPA_kinases']].to_dict('records')\n",
    "\n",
    "    return {'site_data': site_data}"
   ]
  },
  {
   "cell_type": "code",
   "execution_count": 18,
   "id": "a918ce2a-27db-43b4-9506-afd3ee4a9fd4",
   "metadata": {},
   "outputs": [
    {
     "data": {
      "text/html": [
       "<iframe src=\"https://9771-3-91-16-70.ngrok-free.app/\" style=\"width: 100%; height: auto; border: none;\" onload=\"{\n",
       "        let frame = this;\n",
       "        window.addEventListener('message', function(e) {\n",
       "            if (e.data.height) frame.style.height = (e.data.height+1) + 'px';\n",
       "        }, false);\n",
       "    }\" allow=\"accelerometer; autoplay; camera; clipboard-read; clipboard-write; display-capture; encrypted-media; fullscreen; gamepad; geolocation; gyroscope; hid; identity-credentials-get; idle-detection; magnetometer; microphone; midi; payment; picture-in-picture; publickey-credentials-get; screen-wake-lock; serial; usb; web-share; xr-spatial-tracking\"></iframe> "
      ],
      "text/plain": [
       "<IPython.core.display.HTML object>"
      ]
     },
     "execution_count": 18,
     "metadata": {},
     "output_type": "execute_result"
    }
   ],
   "source": [
    "htmx(url,'/')"
   ]
  },
  {
   "cell_type": "markdown",
   "id": "a8846d43-0ae6-487a-b721-9cc2b1cf0399",
   "metadata": {},
   "source": [
    "## End"
   ]
  },
  {
   "cell_type": "code",
   "execution_count": 1,
   "id": "68d7ad46-7574-4e92-9606-022f26db9cf3",
   "metadata": {},
   "outputs": [],
   "source": [
    "#| hide\n",
    "import nbdev; nbdev.nbdev_export()"
   ]
  },
  {
   "cell_type": "code",
   "execution_count": 14,
   "id": "2a4fd795-d0c6-4712-be9f-5010562a2d76",
   "metadata": {},
   "outputs": [
    {
     "name": "stdout",
     "output_type": "stream",
     "text": [
      "ngrok tunnel killed\n"
     ]
    }
   ],
   "source": [
    "server.stop()\n",
    "kill_ngrok()"
   ]
  },
  {
   "cell_type": "code",
   "execution_count": null,
   "id": "4667a299-7870-4989-8a9f-995141805ef2",
   "metadata": {},
   "outputs": [],
   "source": []
  }
 ],
 "metadata": {
  "kernelspec": {
   "display_name": "Python 3",
   "language": "python",
   "name": "python3"
  },
  "language_info": {
   "codemirror_mode": {
    "name": "ipython",
    "version": 3
   },
   "file_extension": ".py",
   "mimetype": "text/x-python",
   "name": "python",
   "nbconvert_exporter": "python",
   "pygments_lexer": "ipython3",
   "version": "3.10.10"
  }
 },
 "nbformat": 4,
 "nbformat_minor": 5
}
