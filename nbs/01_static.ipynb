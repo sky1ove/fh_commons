{
 "cells": [
  {
   "cell_type": "markdown",
   "id": "43e3762c-d51c-427b-a43f-fcdfdc5ee468",
   "metadata": {},
   "source": [
    "# Static components"
   ]
  },
  {
   "cell_type": "markdown",
   "id": "9a0e6f0d-a489-4ba8-80ea-25ff4e10eace",
   "metadata": {},
   "source": [
    "## Setup"
   ]
  },
  {
   "cell_type": "code",
   "execution_count": 1,
   "id": "a7035ce1-7b0a-47b7-beb0-ee1c4b12f4fa",
   "metadata": {},
   "outputs": [],
   "source": [
    "#| default_exp static"
   ]
  },
  {
   "cell_type": "code",
   "execution_count": 2,
   "id": "12b8e553-87f5-47fb-89ab-7b1d57cbb63d",
   "metadata": {},
   "outputs": [],
   "source": [
    "#| export\n",
    "from fasthtml.common import *\n",
    "from fasthtml.jupyter import *\n",
    "import pandas as pd\n",
    "from fh_commons.core import *"
   ]
  },
  {
   "cell_type": "code",
   "execution_count": 3,
   "id": "f02716c7-7058-46f3-bb9e-54e672b6a6c2",
   "metadata": {},
   "outputs": [],
   "source": [
    "hdrs = cond_pico_hdrs()+bootstrap_hdrs()"
   ]
  },
  {
   "cell_type": "code",
   "execution_count": 4,
   "id": "5010eb33-0663-4241-822c-31d58faffc77",
   "metadata": {},
   "outputs": [
    {
     "data": {
      "text/html": [
       "<link rel=\"stylesheet\" href=\"https://cdn.jsdelivr.net/npm/@picocss/pico@2/css/pico.conditional.min.css\">\n",
       "<link href=\"https://cdn.jsdelivr.net/npm/bootstrap@5.3.3/dist/css/bootstrap.min.css\" rel=\"stylesheet\">\n",
       "<script src=\"https://cdn.jsdelivr.net/npm/bootstrap@5.3.3/dist/js/bootstrap.bundle.min.js\"></script><link href=\"https://cdn.jsdelivr.net/npm/bootstrap-icons@1.11.3/font/bootstrap-icons.min.css\" rel=\"stylesheet\">\n",
       "<script>if (window.htmx) htmx.process(document.body)</script>"
      ],
      "text/plain": [
       "<IPython.core.display.HTML object>"
      ]
     },
     "metadata": {},
     "output_type": "display_data"
    }
   ],
   "source": [
    "show(*hdrs)"
   ]
  },
  {
   "cell_type": "markdown",
   "id": "a43849c5-a967-40b1-95c2-6160b22e008c",
   "metadata": {},
   "source": [
    "## Blank"
   ]
  },
  {
   "cell_type": "code",
   "execution_count": 8,
   "id": "aef79168-019f-4b4b-a07b-a306079abafb",
   "metadata": {},
   "outputs": [],
   "source": [
    "#| export\n",
    "def blank(height=50):\n",
    "  return Div(style=f'height:{height}px')"
   ]
  },
  {
   "cell_type": "markdown",
   "id": "98b87e12-bdf3-48d3-9acd-861afb98e6be",
   "metadata": {},
   "source": [
    "For styles"
   ]
  },
  {
   "cell_type": "code",
   "execution_count": 12,
   "id": "314971e1-f8e6-4744-8294-3f9f11d685aa",
   "metadata": {},
   "outputs": [
    {
     "data": {
      "text/html": [
       "<div id=\"_gIPXsyP0Rmq9M48-rCPeRA\" style=\"height:50px\"></div>\n",
       "<script id=\"_zwX5OhEvSPiPGQy2wDYrVg\">if (window.htmx) htmx.process(document.body)</script>"
      ],
      "text/plain": [
       "<IPython.core.display.HTML object>"
      ]
     },
     "metadata": {},
     "output_type": "display_data"
    }
   ],
   "source": [
    "%%s\n",
    "blank(50)"
   ]
  },
  {
   "cell_type": "markdown",
   "id": "ca15e027-8425-4573-a2bb-615559fbbf0c",
   "metadata": {},
   "source": [
    "## Border"
   ]
  },
  {
   "cell_type": "code",
   "execution_count": 14,
   "id": "96608daa-2e43-4d7d-adf2-c3311b53de6b",
   "metadata": {},
   "outputs": [],
   "source": [
    "#| export\n",
    "def border(height=None):\n",
    "    style = f'height:{height}px' if height else ''\n",
    "    return Div(cls='border-bottom', style=style)"
   ]
  },
  {
   "cell_type": "code",
   "execution_count": 15,
   "id": "e0382ffa-4e07-4a8f-b639-46edbf09e9dd",
   "metadata": {},
   "outputs": [
    {
     "data": {
      "text/html": [
       "<div id=\"_WT2kVlxSTRy0rFgw25CzoA\" class=\"border-bottom\"></div>\n",
       "<script id=\"_PdoYg5m_QeKOwP6i-_ArYA\">if (window.htmx) htmx.process(document.body)</script>"
      ],
      "text/plain": [
       "<IPython.core.display.HTML object>"
      ]
     },
     "metadata": {},
     "output_type": "display_data"
    }
   ],
   "source": [
    "%%s\n",
    "border()"
   ]
  },
  {
   "cell_type": "markdown",
   "id": "76b27996-9243-4bc4-b6a6-9e1b42a58e3c",
   "metadata": {},
   "source": [
    "## Dataframe"
   ]
  },
  {
   "cell_type": "code",
   "execution_count": 11,
   "id": "8b8c6dbd-533b-4db1-9d24-38cdca7f4553",
   "metadata": {},
   "outputs": [],
   "source": [
    "#| export\n",
    "def df2html(df,cls='table table-striped',id = None,**kwargs):\n",
    "    \"bootstrap striped tables\"\n",
    "    return NotStr(df.to_html(index=False,border=0,classes=cls,justify='left',table_id=id,**kwargs))"
   ]
  },
  {
   "cell_type": "code",
   "execution_count": 14,
   "id": "f1223197-788f-4f45-833c-93960df82028",
   "metadata": {},
   "outputs": [],
   "source": [
    "df = pd.read_csv('data/example.csv')"
   ]
  },
  {
   "cell_type": "code",
   "execution_count": 15,
   "id": "7c791c7b-42bd-4d78-8839-716c91741fc2",
   "metadata": {},
   "outputs": [
    {
     "data": {
      "text/html": [
       "<table class=\"dataframe table table-striped\">\n",
       "  <thead>\n",
       "    <tr style=\"text-align: left;\">\n",
       "      <th>ID</th>\n",
       "      <th>Number</th>\n",
       "    </tr>\n",
       "  </thead>\n",
       "  <tbody>\n",
       "    <tr>\n",
       "      <td>aa</td>\n",
       "      <td>1</td>\n",
       "    </tr>\n",
       "    <tr>\n",
       "      <td>bb</td>\n",
       "      <td>2</td>\n",
       "    </tr>\n",
       "    <tr>\n",
       "      <td>cc</td>\n",
       "      <td>3</td>\n",
       "    </tr>\n",
       "  </tbody>\n",
       "</table><script>htmx.process(document.body)</script>"
      ],
      "text/plain": [
       "<IPython.core.display.HTML object>"
      ]
     },
     "execution_count": 15,
     "metadata": {},
     "output_type": "execute_result"
    }
   ],
   "source": [
    "%%s\n",
    "df2html(df)"
   ]
  },
  {
   "cell_type": "markdown",
   "id": "12c0640d-a730-4765-b76d-0206a5d2624f",
   "metadata": {},
   "source": [
    "## Remove blanks in input"
   ]
  },
  {
   "cell_type": "code",
   "execution_count": 16,
   "id": "e5e71193-4d86-4d75-b892-b62ef9307f71",
   "metadata": {},
   "outputs": [],
   "source": [
    "#| export\n",
    "def format_input(txt,upper=True):\n",
    "    return txt.replace(\" \", \"\").upper() if upper else txt.replace(\" \", \"\")"
   ]
  },
  {
   "cell_type": "code",
   "execution_count": 17,
   "id": "cebe0005-9188-4f4b-86c1-b1fd88a7d6ed",
   "metadata": {},
   "outputs": [
    {
     "data": {
      "text/plain": [
       "'SSK'"
      ]
     },
     "execution_count": 17,
     "metadata": {},
     "output_type": "execute_result"
    }
   ],
   "source": [
    "format_input('s s k')"
   ]
  },
  {
   "cell_type": "markdown",
   "id": "8a190d32-8173-4fa9-83c3-142aac27be43",
   "metadata": {},
   "source": [
    "## Conditional Pico"
   ]
  },
  {
   "cell_type": "code",
   "execution_count": 18,
   "id": "94be0b2e-11e7-4253-bad0-ced6a9cf522c",
   "metadata": {},
   "outputs": [],
   "source": [
    "#| export\n",
    "def Pico(*args,cls='pico',**kwargs):\n",
    "    \"Pico conditional Div\"\n",
    "    return Div(*args,cls=cls,**kwargs)"
   ]
  },
  {
   "cell_type": "code",
   "execution_count": 20,
   "id": "ed689753-a25d-43e5-a66e-7e57f43ffb61",
   "metadata": {},
   "outputs": [
    {
     "data": {
      "text/html": [
       "<div id=\"_k1OhUm2tQFir1uwGkh-1MQ\" class=\"pico\">\n",
       "  <h5 id=\"_sbJiG2ANRMW-R4_D4Kg3YA\">hi</h5>\n",
       "</div>\n",
       "<script id=\"_u1d633JdSVi1bKswbKtfpg\">if (window.htmx) htmx.process(document.body)</script>"
      ],
      "text/plain": [
       "<IPython.core.display.HTML object>"
      ]
     },
     "metadata": {},
     "output_type": "display_data"
    }
   ],
   "source": [
    "%%s\n",
    "Pico(H5('hi'))"
   ]
  },
  {
   "cell_type": "markdown",
   "id": "e5005e7d-eb26-4f38-b0bb-cfec430d2a67",
   "metadata": {},
   "source": [
    "## Pico_Titled\n",
    "> Pico titled with everything else unPico"
   ]
  },
  {
   "cell_type": "code",
   "execution_count": 25,
   "id": "4dab5e60-e5c8-457d-9f38-f6626c08f09a",
   "metadata": {},
   "outputs": [],
   "source": [
    "#| export\n",
    "def Pico_Titled(title, *args,cls=\"container\",**kwargs):\n",
    "    \"Pico titled with everything else unPico\"\n",
    "    return Title(title), Main(Pico(H2(title)), *args, cls=cls, **kwargs)"
   ]
  },
  {
   "cell_type": "code",
   "execution_count": 26,
   "id": "33f29c0e-40b8-45f0-a2e4-87972d0ac504",
   "metadata": {},
   "outputs": [
    {
     "data": {
      "text/html": [
       "<title>hello</title>\n",
       "<main class=\"container\">  <div class=\"pico\">\n",
       "    <h2>hello</h2>\n",
       "  </div>\n",
       "  <p>sdf</p>\n",
       "</main><script>htmx.process(document.body)</script>"
      ],
      "text/plain": [
       "<IPython.core.display.HTML object>"
      ]
     },
     "execution_count": 26,
     "metadata": {},
     "output_type": "execute_result"
    }
   ],
   "source": [
    "%%s\n",
    "Pico_Titled('hello',P('sdf'))"
   ]
  },
  {
   "cell_type": "markdown",
   "id": "e4a2b1ee-66f9-4cbe-a855-5aa0380b7c79",
   "metadata": {},
   "source": [
    "## Navigation bar"
   ]
  },
  {
   "cell_type": "code",
   "execution_count": 21,
   "id": "533de1bd-1b2a-4540-a322-4cadf954ad35",
   "metadata": {},
   "outputs": [],
   "source": [
    "#| export\n",
    "def get_nav(title,href='#'):\n",
    "    return Nav(\n",
    "        Div(\n",
    "            A(title, href=href, cls='navbar-brand'),\n",
    "            cls='container-fluid'),\n",
    "        cls='navbar bg-body-tertiary')"
   ]
  },
  {
   "cell_type": "code",
   "execution_count": 22,
   "id": "c7a7de87-f830-4a82-b83d-d6747a60c307",
   "metadata": {},
   "outputs": [
    {
     "data": {
      "text/html": [
       "<nav id=\"_fmU9aRvlRYuca2-_yoYYOw\" class=\"navbar bg-body-tertiary\">\n",
       "  <div id=\"_mImkLDVrTryKl6l53ER_Yw\" class=\"container-fluid\">\n",
       "<a href=\"#\" id=\"_bV25ZPJuTfymEeK6xxOUfA\" class=\"navbar-brand\" name=\"_bV25ZPJuTfymEeK6xxOUfA\">Home</a>  </div>\n",
       "</nav>\n",
       "<script id=\"_DiSY2w7OQDW1E8csy2xXWA\">if (window.htmx) htmx.process(document.body)</script>"
      ],
      "text/plain": [
       "<IPython.core.display.HTML object>"
      ]
     },
     "metadata": {},
     "output_type": "display_data"
    }
   ],
   "source": [
    "%%s\n",
    "nav = get_nav('Home')\n",
    "nav"
   ]
  },
  {
   "cell_type": "markdown",
   "id": "17f0544d-16c8-4f09-bb12-0642c7578632",
   "metadata": {},
   "source": [
    "## Navigation + titled"
   ]
  },
  {
   "cell_type": "code",
   "execution_count": 23,
   "id": "fae31ea8-cb1a-4ebf-b523-04711bc233be",
   "metadata": {},
   "outputs": [],
   "source": [
    "#| export\n",
    "def NavTitled(navbar, title, *args,cls=\"container\", **kwargs):\n",
    "    \"Navbar + Pico titled with everything else unPico\"\n",
    "    return Title(title), Main(navbar,Div(blank(30),Pico(H2(title)), *args, cls=cls), **kwargs)"
   ]
  },
  {
   "cell_type": "code",
   "execution_count": 24,
   "id": "40faec43-4cff-447a-97e9-454d19d4668d",
   "metadata": {},
   "outputs": [
    {
     "data": {
      "text/html": [
       "<title id=\"_FphqUwZlTpqD0L1fLMAVGA\">sdf</title>\n",
       "<main id=\"_FnUHrrAPTNeAlnjeHskHXw\">  <nav id=\"_fmU9aRvlRYuca2-_yoYYOw\" class=\"navbar bg-body-tertiary\">\n",
       "    <div id=\"_mImkLDVrTryKl6l53ER_Yw\" class=\"container-fluid\">\n",
       "<a href=\"#\" id=\"_bV25ZPJuTfymEeK6xxOUfA\" class=\"navbar-brand\" name=\"_bV25ZPJuTfymEeK6xxOUfA\">Home</a>    </div>\n",
       "  </nav>\n",
       "  <div id=\"_7gMJc8JvS6e9CpbZIIkcZw\" class=\"container\">\n",
       "    <div id=\"_TAPYKmeJQaKEuSGqggASAw\" style=\"height:30px\"></div>\n",
       "    <div id=\"_AS2EQrotRsO_4wmy01Gv4Q\" class=\"pico\">\n",
       "      <h2 id=\"_zilFGRFZR32Txu2LG1jO8g\">sdf</h2>\n",
       "    </div>\n",
       "  </div>\n",
       "</main><script id=\"_7SWfgCR6Siy9btsm-Vqevw\">if (window.htmx) htmx.process(document.body)</script>"
      ],
      "text/plain": [
       "<IPython.core.display.HTML object>"
      ]
     },
     "metadata": {},
     "output_type": "display_data"
    }
   ],
   "source": [
    "%%s\n",
    "NavTitled(nav,'sdf')"
   ]
  },
  {
   "cell_type": "markdown",
   "id": "657d2922-3452-4a18-b953-08d008e68dce",
   "metadata": {},
   "source": [
    "## Tabs"
   ]
  },
  {
   "cell_type": "code",
   "execution_count": 25,
   "id": "85cf0806-a826-44fe-8030-d082389eb623",
   "metadata": {},
   "outputs": [],
   "source": [
    "#| export\n",
    "def get_tab(data_dict, prefix=''):\n",
    "    \"\"\"Create a bootstrap tab structure with optional prefix for unique IDs and handle spaces in tab names\"\"\"\n",
    "    lis = []\n",
    "    divs = []\n",
    "    for i, (tab_name, tab_content) in enumerate(data_dict.items()):\n",
    "        # Replace spaces with hyphens and remove any non-alphanumeric characters for the ID\n",
    "        safe_name = ''.join(c if c.isalnum() or c in '-_' else '-' for c in tab_name.lower()).strip('-')\n",
    "        unique_id = f\"{prefix}-{safe_name}\" if prefix else safe_name\n",
    "\n",
    "        # tab\n",
    "        li = Li(\n",
    "            Button(tab_name,  # Use original tab_name for display\n",
    "                   id=f'{unique_id}-tab', \n",
    "                   data_bs_toggle='tab', \n",
    "                   data_bs_target=f'#{unique_id}-tab-pane', \n",
    "                   type='button', \n",
    "                   role='tab', \n",
    "                   aria_controls=f'{unique_id}-tab-pane', \n",
    "                   aria_selected='true' if i==0 else 'false', \n",
    "                   cls='nav-link active' if i==0 else 'nav-link'),\n",
    "            role='presentation',\n",
    "            cls='nav-item',\n",
    "            style='list-style: none'\n",
    "        )\n",
    "        lis.append(li)\n",
    "\n",
    "        # tab content\n",
    "        div = Div(blank(15),tab_content, \n",
    "                  id=f'{unique_id}-tab-pane', \n",
    "                  role='tabpanel', \n",
    "                  aria_labelledby=f'{unique_id}-tab', \n",
    "                  tabindex='0', \n",
    "                  cls='tab-pane fade show active' if i == 0 else 'tab-pane fade')\n",
    "        divs.append(div)\n",
    "\n",
    "    tab = Ul(*lis, id=f'{prefix}-myTab' if prefix else 'myTab', role='tablist', cls='nav nav-tabs')\n",
    "    content = Div(*divs, id=f'{prefix}-myTabContent' if prefix else 'myTabContent', cls='tab-content')\n",
    "\n",
    "    return Div(tab, content, cls='tab-container')"
   ]
  },
  {
   "cell_type": "code",
   "execution_count": 33,
   "id": "17a742a1-b32d-41ab-852c-3c2609728937",
   "metadata": {},
   "outputs": [
    {
     "data": {
      "text/html": [
       "<div class=\"tab-container\">\n",
       "  <ul role=\"tablist\" id=\"myTab\" class=\"nav nav-tabs\">\n",
       "    <li role=\"presentation\" class=\"nav-item\" style=\"list-style: none\">\n",
       "<button data-bs-toggle=\"tab\" data-bs-target=\"#tab1-tab-pane\" type=\"button\" role=\"tab\" aria-controls=\"tab1-tab-pane\" aria-selected=\"true\" id=\"tab1-tab\" class=\"nav-link active\" name=\"tab1-tab\">Tab1</button>    </li>\n",
       "    <li role=\"presentation\" class=\"nav-item\" style=\"list-style: none\">\n",
       "<button data-bs-toggle=\"tab\" data-bs-target=\"#tab2-tab-pane\" type=\"button\" role=\"tab\" aria-controls=\"tab2-tab-pane\" aria-selected=\"false\" id=\"tab2-tab\" class=\"nav-link\" name=\"tab2-tab\">Tab2</button>    </li>\n",
       "  </ul>\n",
       "  <div id=\"myTabContent\" class=\"tab-content\">\n",
       "    <div role=\"tabpanel\" aria-labelledby=\"tab1-tab\" tabindex=\"0\" id=\"tab1-tab-pane\" class=\"tab-pane fade show active\">\n",
       "      <div style=\"height:15px\"></div>\n",
       "      <p>content</p>\n",
       "    </div>\n",
       "    <div role=\"tabpanel\" aria-labelledby=\"tab2-tab\" tabindex=\"0\" id=\"tab2-tab-pane\" class=\"tab-pane fade\">\n",
       "      <div style=\"height:15px\"></div>\n",
       "      <p>content</p>\n",
       "    </div>\n",
       "  </div>\n",
       "</div>\n",
       "<script>htmx.process(document.body)</script>"
      ],
      "text/plain": [
       "<IPython.core.display.HTML object>"
      ]
     },
     "execution_count": 33,
     "metadata": {},
     "output_type": "execute_result"
    }
   ],
   "source": [
    "%%s\n",
    "get_tab({'Tab1':P('content'),\n",
    "         'Tab2':P('content')})"
   ]
  },
  {
   "cell_type": "markdown",
   "id": "a945a7cd-7c4b-4797-9012-6d6995cd0d34",
   "metadata": {},
   "source": [
    "## Accordian"
   ]
  },
  {
   "cell_type": "code",
   "execution_count": 34,
   "id": "4fb3e87c-d59e-44ab-96ba-0ee5af3b1ab5",
   "metadata": {},
   "outputs": [],
   "source": [
    "#| export\n",
    "def get_accordian(data_dict):\n",
    "    \"Bootstrap accordian\"\n",
    "    accordians=[]\n",
    "    for i, (accordion_title,accordion_content) in enumerate(data_dict.items()):\n",
    "        accordian = Div(\n",
    "            H2(\n",
    "                Button(accordion_title, type='button', data_bs_toggle='collapse', data_bs_target=f'#collapse{i}', aria_expanded='false', aria_controls=f'collapse{i}', cls='accordion-button collapsed'),\n",
    "                cls='accordion-header'\n",
    "            ),\n",
    "            Div(\n",
    "                Div(\n",
    "                    accordion_content,\n",
    "                    cls='accordion-body',\n",
    "                ),\n",
    "                id=f'collapse{i}',\n",
    "                data_bs_parent='#accordionExample',\n",
    "                cls='accordion-collapse collapse'\n",
    "            ),\n",
    "            cls='accordion-item')\n",
    "        accordians.append(accordian)\n",
    "    return Div(*accordians, id='accordionExample', cls='accordion')"
   ]
  },
  {
   "cell_type": "code",
   "execution_count": 35,
   "id": "e3197032-4fe0-4105-b09f-63507ff93969",
   "metadata": {},
   "outputs": [
    {
     "data": {
      "text/html": [
       "<div id=\"accordionExample\" class=\"accordion\">\n",
       "  <div class=\"accordion-item\">\n",
       "    <h2 class=\"accordion-header\">\n",
       "<button type=\"button\" data-bs-toggle=\"collapse\" data-bs-target=\"#collapse0\" aria-expanded=\"false\" aria-controls=\"collapse0\" class=\"accordion-button collapsed\">Tab1</button>    </h2>\n",
       "    <div data-bs-parent=\"#accordionExample\" id=\"collapse0\" class=\"accordion-collapse collapse\">\n",
       "      <div class=\"accordion-body\">\n",
       "        <p>content</p>\n",
       "      </div>\n",
       "    </div>\n",
       "  </div>\n",
       "  <div class=\"accordion-item\">\n",
       "    <h2 class=\"accordion-header\">\n",
       "<button type=\"button\" data-bs-toggle=\"collapse\" data-bs-target=\"#collapse1\" aria-expanded=\"false\" aria-controls=\"collapse1\" class=\"accordion-button collapsed\">Tab2</button>    </h2>\n",
       "    <div data-bs-parent=\"#accordionExample\" id=\"collapse1\" class=\"accordion-collapse collapse\">\n",
       "      <div class=\"accordion-body\">\n",
       "        <p>content</p>\n",
       "      </div>\n",
       "    </div>\n",
       "  </div>\n",
       "</div>\n",
       "<script>htmx.process(document.body)</script>"
      ],
      "text/plain": [
       "<IPython.core.display.HTML object>"
      ]
     },
     "execution_count": 35,
     "metadata": {},
     "output_type": "execute_result"
    }
   ],
   "source": [
    "%%s\n",
    "get_accordian({'Tab1':P('content'),\n",
    "               'Tab2':P('content')})"
   ]
  },
  {
   "cell_type": "markdown",
   "id": "d5f8fb57-d0ed-4e33-af2b-a1ef1c04dd5b",
   "metadata": {},
   "source": [
    "## Download Button"
   ]
  },
  {
   "cell_type": "code",
   "execution_count": 26,
   "id": "2207a085-071c-48e6-9853-561aaf8ffa4b",
   "metadata": {},
   "outputs": [],
   "source": [
    "#| export\n",
    "def download_button(*args, **kwargs):\n",
    "    return Button(\n",
    "          I(cls='bi bi-download'),\n",
    "          *args,\n",
    "          cls='btn btn-outline-secondary btn-sm',\n",
    "          **kwargs)"
   ]
  },
  {
   "cell_type": "code",
   "execution_count": 30,
   "id": "cde1bc2a-a223-429e-8301-85049cd844ec",
   "metadata": {},
   "outputs": [
    {
     "data": {
      "text/html": [
       "<button id=\"_oVD5T6qeTpyB4MWKgmIHNw\" class=\"btn btn-outline-secondary btn-sm\" name=\"_oVD5T6qeTpyB4MWKgmIHNw\"><i id=\"_z7RanV3lSiaUbcQIf3Andg\" class=\"bi bi-download\"></i> Download</button><script id=\"_ZXsLlSvFR7ekKkc19bB19Q\">if (window.htmx) htmx.process(document.body)</script>"
      ],
      "text/plain": [
       "<IPython.core.display.HTML object>"
      ]
     },
     "metadata": {},
     "output_type": "display_data"
    }
   ],
   "source": [
    "%%s\n",
    "download_button(' Download')"
   ]
  },
  {
   "cell_type": "markdown",
   "id": "76bd1db9-a27c-4f89-bfc1-67bb6043469d",
   "metadata": {},
   "source": [
    "## Card"
   ]
  },
  {
   "cell_type": "code",
   "execution_count": 31,
   "id": "178c149c-612f-4cf6-a8b4-42c5bd221b83",
   "metadata": {},
   "outputs": [],
   "source": [
    "#| export\n",
    "def get_card(img_pth,title,description,link=\"#\",img_height=200,txt_height=150,card_width=22):\n",
    "    \"Card with link; make sure outside Div has cls = 'row'\"\n",
    "\n",
    "    img = Div(\n",
    "        Img(src=img_pth, loading='lazy',cls='card-img-top'),\n",
    "        style=f\"height: {img_height}px; overflow: hidden;\", #image size\n",
    "    )\n",
    "    txt = Div(\n",
    "        H5(title, cls=\"card-title\"),\n",
    "        P(description, cls='card-text text-muted'), # text-muted make the text looks gray\n",
    "        cls='card-body',\n",
    "        style=f\"height: {txt_height}px;\", # text size\n",
    "    )\n",
    "    card = Div(img,txt,style=f'width: {card_width}rem;',cls='card')\n",
    "\n",
    "    # grid arrange the card, and add link\n",
    "    card_arrange = Div(card,\n",
    "                       A(href=link, cls='stretched-link'),\n",
    "                       # p-3 is for padding margin, make sure outside cls='row'\n",
    "                       cls='col-xs-12 col-sm-6 col-md-6 col-lg-4 p-3',\n",
    "                       # amplify the card when mouse over it\n",
    "                       style=\"transform: rotate(0); transition: transform 0.3s ease;\",\n",
    "                       onmouseover=\"this.style.transform='scale(1.05)';\",\n",
    "                       onmouseout=\"this.style.transform='scale(1)';\") \n",
    "\n",
    "    return card_arrange"
   ]
  },
  {
   "cell_type": "code",
   "execution_count": 40,
   "id": "e0fc99ac-0894-40cd-a016-372147f11a4b",
   "metadata": {
    "scrolled": true
   },
   "outputs": [
    {
     "data": {
      "text/html": [
       "<div onmouseover=\"this.style.transform='scale(1.05)';\" onmouseout=\"this.style.transform='scale(1)';\" class=\"col-xs-12 col-sm-6 col-md-6 col-lg-4 p-3\" style=\"transform: rotate(0); transition: transform 0.3s ease;\">\n",
       "  <div class=\"card\" style=\"width: 22rem;\">\n",
       "    <div style=\"height: 200px; overflow: hidden;\">\n",
       "<img src=\"./data/card_plot.png\" loading=\"lazy\" class=\"card-img-top\">    </div>\n",
       "    <div class=\"card-body\" style=\"height: 150px;\">\n",
       "      <h5 class=\"card-title\">Universe</h5>\n",
       "      <p class=\"card-text text-muted\">sdfsdfsdf</p>\n",
       "    </div>\n",
       "  </div>\n",
       "<a href=\"#\" class=\"stretched-link\"></a></div>\n",
       "<script>htmx.process(document.body)</script>"
      ],
      "text/plain": [
       "<IPython.core.display.HTML object>"
      ]
     },
     "execution_count": 40,
     "metadata": {},
     "output_type": "execute_result"
    }
   ],
   "source": [
    "%%s\n",
    "get_card('./data/card_plot.png','Universe','sdfsdfsdf',link='#')"
   ]
  },
  {
   "cell_type": "markdown",
   "id": "a8846d43-0ae6-487a-b721-9cc2b1cf0399",
   "metadata": {},
   "source": [
    "## End"
   ]
  },
  {
   "cell_type": "code",
   "execution_count": 1,
   "id": "68d7ad46-7574-4e92-9606-022f26db9cf3",
   "metadata": {},
   "outputs": [],
   "source": [
    "#| hide\n",
    "import nbdev; nbdev.nbdev_export()"
   ]
  }
 ],
 "metadata": {
  "kernelspec": {
   "display_name": "Python 3",
   "language": "python",
   "name": "python3"
  },
  "language_info": {
   "codemirror_mode": {
    "name": "ipython",
    "version": 3
   },
   "file_extension": ".py",
   "mimetype": "text/x-python",
   "name": "python",
   "nbconvert_exporter": "python",
   "pygments_lexer": "ipython3",
   "version": "3.10.10"
  }
 },
 "nbformat": 4,
 "nbformat_minor": 5
}
