{
 "cells": [
  {
   "cell_type": "code",
   "execution_count": 1,
   "id": "eb63840f-551e-4b67-85a7-4f9b05d040f3",
   "metadata": {},
   "outputs": [],
   "source": [
    "from fh_commons.static import *"
   ]
  },
  {
   "cell_type": "code",
   "execution_count": 3,
   "id": "dde3157d-8169-4f7a-9ba2-31351e4514be",
   "metadata": {},
   "outputs": [],
   "source": [
    "from fasthtml.jupyter import *"
   ]
  },
  {
   "cell_type": "code",
   "execution_count": 4,
   "id": "26344b76-5c85-4eb9-9f51-9ca32b876c11",
   "metadata": {},
   "outputs": [
    {
     "data": {
      "text/markdown": [
       "```html\n",
       "<div style=\"height:50px\"></div>\n",
       "\n",
       "```"
      ],
      "text/plain": [
       "div((),{'style': 'height:50px'})"
      ]
     },
     "execution_count": 4,
     "metadata": {},
     "output_type": "execute_result"
    }
   ],
   "source": [
    "blank()"
   ]
  },
  {
   "cell_type": "code",
   "execution_count": null,
   "id": "afa2e80f-f7d8-4f05-a9db-687add71bf2c",
   "metadata": {},
   "outputs": [],
   "source": []
  }
 ],
 "metadata": {
  "kernelspec": {
   "display_name": "Python 3",
   "language": "python",
   "name": "python3"
  },
  "language_info": {
   "codemirror_mode": {
    "name": "ipython",
    "version": 3
   },
   "file_extension": ".py",
   "mimetype": "text/x-python",
   "name": "python",
   "nbconvert_exporter": "python",
   "pygments_lexer": "ipython3",
   "version": "3.10.10"
  }
 },
 "nbformat": 4,
 "nbformat_minor": 5
}
