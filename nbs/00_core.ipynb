{
 "cells": [
  {
   "cell_type": "raw",
   "metadata": {},
   "source": [
    "---\n",
    "skip_showdoc: true\n",
    "skip_exec: true\n",
    "---"
   ]
  },
  {
   "cell_type": "markdown",
   "metadata": {},
   "source": [
    "# core\n",
    "\n",
    "> Fill in a module description here"
   ]
  },
  {
   "cell_type": "markdown",
   "metadata": {},
   "source": [
    "## Setup"
   ]
  },
  {
   "cell_type": "code",
   "execution_count": 1,
   "metadata": {},
   "outputs": [],
   "source": [
    "#| default_exp core"
   ]
  },
  {
   "cell_type": "code",
   "execution_count": 2,
   "metadata": {},
   "outputs": [],
   "source": [
    "#| export\n",
    "from fasthtml.common import *\n",
    "from fasthtml.jupyter import *\n",
    "from IPython.display import HTML\n",
    "\n",
    "from pyngrok import ngrok\n",
    "\n",
    "# for magic\n",
    "from IPython import get_ipython\n",
    "from IPython.core.magic import register_cell_magic\n",
    "import ast"
   ]
  },
  {
   "cell_type": "markdown",
   "metadata": {},
   "source": [
    "## Headers\n",
    "> css, javascripts"
   ]
  },
  {
   "cell_type": "markdown",
   "metadata": {},
   "source": [
    "### Bootstrap"
   ]
  },
  {
   "cell_type": "code",
   "execution_count": 3,
   "metadata": {},
   "outputs": [],
   "source": [
    "#| export\n",
    "def bootstrap_hdrs(include_icon=True):\n",
    "    css = Link(href='https://cdn.jsdelivr.net/npm/bootstrap@5.3.3/dist/css/bootstrap.min.css', rel='stylesheet')\n",
    "    js = Script(src='https://cdn.jsdelivr.net/npm/bootstrap@5.3.3/dist/js/bootstrap.bundle.min.js')\n",
    "    icon = Link(href='https://cdn.jsdelivr.net/npm/bootstrap-icons@1.11.3/font/bootstrap-icons.min.css', rel='stylesheet')\n",
    "    return [css,js,icon] if include_icon else [css,js]"
   ]
  },
  {
   "cell_type": "markdown",
   "metadata": {},
   "source": [
    "### Datatables for dynamic table"
   ]
  },
  {
   "cell_type": "code",
   "execution_count": 4,
   "metadata": {},
   "outputs": [],
   "source": [
    "#| export\n",
    "def datatable_hdrs():\n",
    "    dt_s1 = Script(src='https://code.jquery.com/jquery-3.7.1.js')\n",
    "    dt_s2 = Script(src='https://cdn.datatables.net/2.1.5/js/dataTables.js')\n",
    "    dt_s3=Script(src='https://cdn.datatables.net/2.1.5/js/dataTables.bootstrap5.js')\n",
    "    dt_c1 = Link(rel='stylesheet',href='https://cdnjs.cloudflare.com/ajax/libs/twitter-bootstrap/5.3.0/css/bootstrap.min.css')\n",
    "    dt_c2 = Link(rel='stylesheet',href='https://cdn.datatables.net/2.1.5/css/dataTables.bootstrap5.css')\n",
    "    return [dt_s1,dt_s2,dt_s3,dt_c1,dt_c2]"
   ]
  },
  {
   "cell_type": "markdown",
   "metadata": {},
   "source": [
    "### Conditional Pico"
   ]
  },
  {
   "cell_type": "code",
   "execution_count": 5,
   "metadata": {},
   "outputs": [],
   "source": [
    "#| export\n",
    "def cond_pico_hdrs():\n",
    "    conditional_pico = Link(rel='stylesheet', href='https://cdn.jsdelivr.net/npm/@picocss/pico@2/css/pico.conditional.min.css')\n",
    "    return [conditional_pico]"
   ]
  },
  {
   "cell_type": "markdown",
   "metadata": {},
   "source": [
    "### Copy TextArea js"
   ]
  },
  {
   "cell_type": "code",
   "execution_count": 6,
   "metadata": {},
   "outputs": [],
   "source": [
    "#| export\n",
    "def copy_js():\n",
    "    script_copy_button=Script(src=\"./imports/copy_button.js\")\n",
    "    return [script_copy_button]"
   ]
  },
  {
   "cell_type": "markdown",
   "metadata": {},
   "source": [
    "### Autocomplete js"
   ]
  },
  {
   "cell_type": "code",
   "execution_count": null,
   "metadata": {},
   "outputs": [],
   "source": [
    "#| export\n",
    "def autocomplete_js():\n",
    "    jquery = Script(src='https://code.jquery.com/jquery-3.6.0.min.js')\n",
    "    script_autocomplete = Script(src='./imports/autocomplete.js')\n",
    "    return [jquery,script_autocomplete]"
   ]
  },
  {
   "cell_type": "markdown",
   "metadata": {},
   "source": [
    "### Download csv/svg js"
   ]
  },
  {
   "cell_type": "code",
   "execution_count": 8,
   "metadata": {},
   "outputs": [],
   "source": [
    "#| export\n",
    "def download_js():\n",
    "    download_script = Script(src='./imports/download_csv_svg.js')\n",
    "    return [download_script]"
   ]
  },
  {
   "cell_type": "markdown",
   "metadata": {},
   "source": [
    "## show() in cell magic"
   ]
  },
  {
   "cell_type": "markdown",
   "metadata": {},
   "source": [
    "Fasthtml updates in the latest version that in jupyter notebook, no need to use show() when importing fasthtml.jupyter"
   ]
  },
  {
   "cell_type": "code",
   "execution_count": 4,
   "metadata": {},
   "outputs": [],
   "source": [
    "#| export\n",
    "@register_cell_magic\n",
    "def s(line, cell):\n",
    "    # Parse the line argument to check for a 'debug' flag\n",
    "    debug = 'debug' in line.lower()\n",
    "    \n",
    "    # Parse the cell content into an AST\n",
    "    tree = ast.parse(cell)\n",
    "    \n",
    "    # Collect all expressions\n",
    "    expressions = [node.value for node in tree.body if isinstance(node, ast.Expr)]\n",
    "    \n",
    "    # If there are expressions, wrap them all in a single show() call\n",
    "    if expressions:\n",
    "        show_call = ast.Expr(\n",
    "            ast.Call(\n",
    "                func=ast.Name(id='show', ctx=ast.Load()),\n",
    "                args=expressions,\n",
    "                keywords=[]\n",
    "            )\n",
    "        )\n",
    "        # Replace the original expressions with the single show() call\n",
    "        tree.body = [node for node in tree.body if not isinstance(node, ast.Expr)] + [show_call]\n",
    "    \n",
    "    # Convert the modified AST back to source code\n",
    "    modified_code = ast.unparse(tree)\n",
    "    \n",
    "    # If debug is True, print the modified code\n",
    "    if debug:\n",
    "        print(\"Modified code:\")\n",
    "        print(modified_code)\n",
    "    \n",
    "    # Execute the modified code\n",
    "    get_ipython().run_cell(modified_code)"
   ]
  },
  {
   "cell_type": "markdown",
   "metadata": {},
   "source": [
    "Use %%s in a cell, so that you don't have to wrap everything in show()"
   ]
  },
  {
   "cell_type": "code",
   "execution_count": 5,
   "metadata": {},
   "outputs": [
    {
     "data": {
      "text/html": [
       "<p>sdf</p>\n"
      ],
      "text/plain": [
       "<IPython.core.display.HTML object>"
      ]
     },
     "execution_count": 5,
     "metadata": {},
     "output_type": "execute_result"
    }
   ],
   "source": [
    "%%s\n",
    "P('sdf')"
   ]
  },
  {
   "cell_type": "markdown",
   "metadata": {},
   "source": [
    "## Jupyter live on colab"
   ]
  },
  {
   "cell_type": "markdown",
   "metadata": {},
   "source": [
    "### Initiate ngrok tunnel\n",
    "> get public url that connect to localhost:8000"
   ]
  },
  {
   "cell_type": "code",
   "execution_count": 6,
   "metadata": {},
   "outputs": [],
   "source": [
    "#| export\n",
    "def start_ngrok(token,port=8000):\n",
    "    \n",
    "    # Get token from ngrok.com --> login --> Your Authtoken\n",
    "    ngrok.set_auth_token(token)\n",
    "    \n",
    "    # Start a tunnel on port\n",
    "    ngrok_tunnel = ngrok.connect(port)\n",
    "    \n",
    "    # Return the public URL\n",
    "    return ngrok_tunnel.public_url"
   ]
  },
  {
   "cell_type": "markdown",
   "metadata": {},
   "source": [
    "Find ngrok token in https://dashboard.ngrok.com/get-started/your-authtoken"
   ]
  },
  {
   "cell_type": "code",
   "execution_count": 9,
   "metadata": {},
   "outputs": [
    {
     "name": "stdout",
     "output_type": "stream",
     "text": [
      "Type your token:  ········\n"
     ]
    }
   ],
   "source": [
    "from getpass import getpass\n",
    "\n",
    "token = getpass(\"Type your token: \")"
   ]
  },
  {
   "cell_type": "code",
   "execution_count": 15,
   "metadata": {},
   "outputs": [
    {
     "data": {
      "text/plain": [
       "'https://acbd-18-208-186-214.ngrok-free.app'"
      ]
     },
     "execution_count": 15,
     "metadata": {},
     "output_type": "execute_result"
    }
   ],
   "source": [
    "url = start_ngrok(token)\n",
    "url"
   ]
  },
  {
   "cell_type": "markdown",
   "metadata": {},
   "source": [
    "### Show Live page in jupyter cell"
   ]
  },
  {
   "cell_type": "code",
   "execution_count": 18,
   "metadata": {},
   "outputs": [],
   "source": [
    "#| export\n",
    "def htmx(url,path='',height='auto'):\n",
    "    \"An iframe which displays the HTMX application in a notebook.\"\n",
    "    return HTML(f'<iframe src=\"{url}{str(path)}\" style=\"width: 100%; height: {height}; border: none;\" ' + \"\"\"onload=\"{\n",
    "        let frame = this;\n",
    "        window.addEventListener('message', function(e) {\n",
    "            if (e.data.height) frame.style.height = (e.data.height+1) + 'px';\n",
    "        }, false);\n",
    "    }\" allow=\"accelerometer; autoplay; camera; clipboard-read; clipboard-write; display-capture; encrypted-media; fullscreen; gamepad; geolocation; gyroscope; hid; identity-credentials-get; idle-detection; magnetometer; microphone; midi; payment; picture-in-picture; publickey-credentials-get; screen-wake-lock; serial; usb; web-share; xr-spatial-tracking\"></iframe> \"\"\")"
   ]
  },
  {
   "cell_type": "markdown",
   "metadata": {},
   "source": [
    "Example with websocket:"
   ]
  },
  {
   "cell_type": "code",
   "execution_count": null,
   "metadata": {},
   "outputs": [],
   "source": [
    "# url = start_ngrok(YOUR_NGROK_TOKEN)\n",
    "app,rt = fast_app(exts='ws', live=True)\n",
    "server = JupyUvi(app)\n",
    "push = Pusher(app)"
   ]
  },
  {
   "cell_type": "code",
   "execution_count": null,
   "metadata": {},
   "outputs": [],
   "source": [
    "@app.get\n",
    "def click():\n",
    "    return P('hi')"
   ]
  },
  {
   "cell_type": "code",
   "execution_count": null,
   "metadata": {},
   "outputs": [],
   "source": [
    "push(A('click',hx_get='/click',hx_target='#dest'),Div(id='dest'))"
   ]
  },
  {
   "cell_type": "code",
   "execution_count": null,
   "metadata": {},
   "outputs": [],
   "source": [
    "HTMX_public(url) # click `visit site` for initial page"
   ]
  },
  {
   "cell_type": "code",
   "execution_count": null,
   "metadata": {},
   "outputs": [],
   "source": [
    "server.stop()"
   ]
  },
  {
   "cell_type": "markdown",
   "metadata": {},
   "source": [
    "Normal example:"
   ]
  },
  {
   "cell_type": "code",
   "execution_count": 11,
   "metadata": {},
   "outputs": [],
   "source": [
    "# url = start_ngrok(YOUR_NGROK_TOKEN)\n",
    "app,rt = fast_app(live=True)\n",
    "server = JupyUvi(app)"
   ]
  },
  {
   "cell_type": "code",
   "execution_count": 12,
   "metadata": {},
   "outputs": [],
   "source": [
    "@rt\n",
    "def index():\n",
    "    return Titled('Hello, Jupyter',\n",
    "           P('Welcome to the FastHTML + Jupyter example'),\n",
    "           Button('Click', hx_get='/click', hx_target='#dest'),\n",
    "           Div(id='dest')\n",
    "    )\n",
    "\n",
    "@app.get\n",
    "def click():\n",
    "    return P('Hi')"
   ]
  },
  {
   "cell_type": "code",
   "execution_count": 19,
   "metadata": {},
   "outputs": [
    {
     "data": {
      "text/html": [
       "<iframe src=\"https://acbd-18-208-186-214.ngrok-free.app\" style=\"width: 100%; height: auto; border: none;\" onload=\"{\n",
       "        let frame = this;\n",
       "        window.addEventListener('message', function(e) {\n",
       "            if (e.data.height) frame.style.height = (e.data.height+1) + 'px';\n",
       "        }, false);\n",
       "    }\" allow=\"accelerometer; autoplay; camera; clipboard-read; clipboard-write; display-capture; encrypted-media; fullscreen; gamepad; geolocation; gyroscope; hid; identity-credentials-get; idle-detection; magnetometer; microphone; midi; payment; picture-in-picture; publickey-credentials-get; screen-wake-lock; serial; usb; web-share; xr-spatial-tracking\"></iframe> "
      ],
      "text/plain": [
       "<IPython.core.display.HTML object>"
      ]
     },
     "execution_count": 19,
     "metadata": {},
     "output_type": "execute_result"
    }
   ],
   "source": [
    "HTMX_public(url) # click `visit site`"
   ]
  },
  {
   "cell_type": "code",
   "execution_count": null,
   "metadata": {},
   "outputs": [],
   "source": [
    "server.stop()"
   ]
  },
  {
   "cell_type": "markdown",
   "metadata": {},
   "source": [
    "### push() in cell magic"
   ]
  },
  {
   "cell_type": "code",
   "execution_count": null,
   "metadata": {},
   "outputs": [],
   "source": [
    "#| export\n",
    "@register_cell_magic\n",
    "def p(line, cell):\n",
    "    # Parse the line argument to check for a 'debug' flag\n",
    "    debug = 'debug' in line.lower()\n",
    "    \n",
    "    # Parse the cell content into an AST\n",
    "    tree = ast.parse(cell)\n",
    "    \n",
    "    # Collect all expressions\n",
    "    expressions = [node.value for node in tree.body if isinstance(node, ast.Expr)]\n",
    "    \n",
    "    # If there are expressions, wrap them all in a single show() call\n",
    "    if expressions:\n",
    "        show_call = ast.Expr(\n",
    "            ast.Call(\n",
    "                func=ast.Name(id='push', ctx=ast.Load()),\n",
    "                args=expressions,\n",
    "                keywords=[]\n",
    "            )\n",
    "        )\n",
    "        # Replace the original expressions with the single show() call\n",
    "        tree.body = [node for node in tree.body if not isinstance(node, ast.Expr)] + [show_call]\n",
    "    \n",
    "    # Convert the modified AST back to source code\n",
    "    modified_code = ast.unparse(tree)\n",
    "    \n",
    "    # If debug is True, print the modified code\n",
    "    if debug:\n",
    "        print(\"Modified code:\")\n",
    "        print(modified_code)\n",
    "    \n",
    "    # Execute the modified code\n",
    "    get_ipython().run_cell(modified_code)"
   ]
  },
  {
   "cell_type": "markdown",
   "metadata": {},
   "source": [
    "Instead of wrapping everything in push, use %%p in a cell to do the same thing"
   ]
  },
  {
   "cell_type": "code",
   "execution_count": null,
   "metadata": {},
   "outputs": [],
   "source": [
    "url = start_ngrok(YOUR_NGROK_TOKEN)\n",
    "app,rt = fast_app(exts='ws', live=True)\n",
    "server = JupyUvi(app) # JupyUvi is replaced with ws_client and setup_ws in the latest version\n",
    "push = Pusher(app)\n",
    "\n",
    "@app.get\n",
    "def click():\n",
    "    return P('hi')"
   ]
  },
  {
   "cell_type": "code",
   "execution_count": null,
   "metadata": {},
   "outputs": [],
   "source": [
    "%%p\n",
    "A('click',hx_get='/click',hx_target='#dest'),Div(id='dest')"
   ]
  },
  {
   "cell_type": "code",
   "execution_count": null,
   "metadata": {},
   "outputs": [],
   "source": [
    "HTMX_public(url)"
   ]
  },
  {
   "cell_type": "code",
   "execution_count": null,
   "metadata": {},
   "outputs": [],
   "source": [
    "server.stop()"
   ]
  },
  {
   "cell_type": "code",
   "execution_count": 1,
   "metadata": {},
   "outputs": [],
   "source": [
    "#| hide\n",
    "import nbdev; nbdev.nbdev_export()"
   ]
  },
  {
   "cell_type": "code",
   "execution_count": null,
   "metadata": {},
   "outputs": [],
   "source": []
  }
 ],
 "metadata": {
  "kernelspec": {
   "display_name": "Python 3",
   "language": "python",
   "name": "python3"
  },
  "language_info": {
   "codemirror_mode": {
    "name": "ipython",
    "version": 3
   },
   "file_extension": ".py",
   "mimetype": "text/x-python",
   "name": "python",
   "nbconvert_exporter": "python",
   "pygments_lexer": "ipython3",
   "version": "3.10.10"
  }
 },
 "nbformat": 4,
 "nbformat_minor": 4
}
