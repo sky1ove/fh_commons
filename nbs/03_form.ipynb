{
 "cells": [
  {
   "cell_type": "markdown",
   "id": "43e3762c-d51c-427b-a43f-fcdfdc5ee468",
   "metadata": {},
   "source": [
    "# Form"
   ]
  },
  {
   "cell_type": "markdown",
   "id": "9a0e6f0d-a489-4ba8-80ea-25ff4e10eace",
   "metadata": {},
   "source": [
    "## Setup"
   ]
  },
  {
   "cell_type": "code",
   "execution_count": 1,
   "id": "a7035ce1-7b0a-47b7-beb0-ee1c4b12f4fa",
   "metadata": {},
   "outputs": [],
   "source": [
    "#| default_exp form"
   ]
  },
  {
   "cell_type": "code",
   "execution_count": 3,
   "id": "12b8e553-87f5-47fb-89ab-7b1d57cbb63d",
   "metadata": {},
   "outputs": [],
   "source": [
    "#| export\n",
    "from fasthtml.common import *\n",
    "from fasthtml.jupyter import *\n",
    "\n",
    "from fh_commons.core import *\n",
    "from fh_commons.static import *\n",
    "\n",
    "import json\n",
    "import pandas as pd\n",
    "from math import ceil"
   ]
  },
  {
   "cell_type": "code",
   "execution_count": 4,
   "id": "67e380e6-f435-4141-8ac2-1b0f07d631b1",
   "metadata": {},
   "outputs": [],
   "source": [
    "hdrs = bootstrap_hdrs()+download_js()+datatable_hdrs()"
   ]
  },
  {
   "cell_type": "code",
   "execution_count": 5,
   "id": "e3d12176-49bb-4a87-b3c8-f70be1a141a8",
   "metadata": {},
   "outputs": [
    {
     "data": {
      "text/html": [
       "<link href=\"https://cdn.jsdelivr.net/npm/bootstrap@5.3.3/dist/css/bootstrap.min.css\" rel=\"stylesheet\">\n",
       "<script src=\"https://cdn.jsdelivr.net/npm/bootstrap@5.3.3/dist/js/bootstrap.bundle.min.js\"></script><link href=\"https://cdn.jsdelivr.net/npm/bootstrap-icons@1.11.3/font/bootstrap-icons.min.css\" rel=\"stylesheet\">\n",
       "<script>\n",
       "            document.addEventListener('htmx:load', function() {\n",
       "                var tooltipTriggerList = document.querySelectorAll('[data-bs-toggle=\"tooltip\"]');\n",
       "                var tooltipList = [...tooltipTriggerList].map(tooltipTriggerEl => new bootstrap.Tooltip(tooltipTriggerEl));\n",
       "            });\n",
       "        </script><script src=\"./imports/download_csv_svg.js\"></script><script src=\"https://code.jquery.com/jquery-3.7.1.js\"></script><script src=\"https://cdn.datatables.net/2.1.5/js/dataTables.js\"></script><script src=\"https://cdn.datatables.net/2.1.5/js/dataTables.bootstrap5.js\"></script><link rel=\"stylesheet\" href=\"https://cdnjs.cloudflare.com/ajax/libs/twitter-bootstrap/5.3.0/css/bootstrap.min.css\">\n",
       "<link rel=\"stylesheet\" href=\"https://cdn.datatables.net/2.1.5/css/dataTables.bootstrap5.css\">\n",
       "<script>if (window.htmx) htmx.process(document.body)</script>"
      ],
      "text/plain": [
       "<IPython.core.display.HTML object>"
      ]
     },
     "metadata": {},
     "output_type": "display_data"
    }
   ],
   "source": [
    "show(*hdrs)"
   ]
  },
  {
   "cell_type": "code",
   "execution_count": 6,
   "id": "e8c6b509-b0f4-4a0f-bcb9-5d00ab37d095",
   "metadata": {},
   "outputs": [
    {
     "name": "stdout",
     "output_type": "stream",
     "text": [
      "ngrok tunnel opened at: https://a223-3-238-95-91.ngrok-free.app\n"
     ]
    }
   ],
   "source": [
    "#| eval: False\n",
    "from ngrok_token import *\n",
    "url = start_ngrok(token)"
   ]
  },
  {
   "cell_type": "code",
   "execution_count": 7,
   "id": "ec7cadbe-26cb-4945-85b6-3672c501ff36",
   "metadata": {},
   "outputs": [
    {
     "data": {
      "text/html": [
       "\n",
       "<script>\n",
       "document.body.addEventListener('htmx:configRequest', (event) => {\n",
       "    if(event.detail.path.includes('://')) return;\n",
       "    htmx.config.selfRequestsOnly=false;\n",
       "    event.detail.path = `${location.protocol}//${location.hostname}:8000${event.detail.path}`;\n",
       "});\n",
       "</script>"
      ],
      "text/plain": [
       "<IPython.core.display.HTML object>"
      ]
     },
     "metadata": {},
     "output_type": "display_data"
    }
   ],
   "source": [
    "app,rt = fast_app(pico=False,hdrs=hdrs)\n",
    "server = JupyUvi(app)"
   ]
  },
  {
   "cell_type": "markdown",
   "id": "c5cd963c-9029-4216-a9a1-fc632f94a4e8",
   "metadata": {
    "jp-MarkdownHeadingCollapsed": true
   },
   "source": [
    "## File upload & receive"
   ]
  },
  {
   "cell_type": "markdown",
   "id": "840e16dd-9564-4693-a941-da312e78041b",
   "metadata": {
    "jp-MarkdownHeadingCollapsed": true
   },
   "source": [
    "### Upload csv/excel file "
   ]
  },
  {
   "cell_type": "code",
   "execution_count": 32,
   "id": "97da0a58-9ba9-4995-85ba-3743ab23b24d",
   "metadata": {},
   "outputs": [],
   "source": [
    "#| export\n",
    "def get_file_input(label_text,id,**kwargs):\n",
    "    return Form(\n",
    "        Label(label_text, fr=id, cls='form-label'),\n",
    "        Input(type='file', id=id, cls='form-control'),\n",
    "        **kwargs\n",
    "    )"
   ]
  },
  {
   "cell_type": "code",
   "execution_count": 33,
   "id": "7c138f8d-6446-4bd4-a986-51a7c9463317",
   "metadata": {},
   "outputs": [
    {
     "data": {
      "text/html": [
       "<form enctype=\"multipart/form-data\"><label for=\"sdf\" class=\"form-label\">Select csv/excel for upload</label>  <input type=\"file\" id=\"sdf\" class=\"form-control\" name=\"sdf\">\n",
       "</form><script>if (window.htmx) htmx.process(document.body)</script>"
      ],
      "text/plain": [
       "<IPython.core.display.HTML object>"
      ]
     },
     "metadata": {},
     "output_type": "display_data"
    }
   ],
   "source": [
    "%%s\n",
    "get_file_input('Select csv/excel for upload',id='sdf')"
   ]
  },
  {
   "cell_type": "markdown",
   "id": "28a05ce6-4cd0-4ba9-8ce7-f3dfc3473f2a",
   "metadata": {},
   "source": [
    "### Receive file"
   ]
  },
  {
   "cell_type": "code",
   "execution_count": 34,
   "id": "fc74b917-df39-4b67-a510-1a2be858508f",
   "metadata": {},
   "outputs": [],
   "source": [
    "#| export\n",
    "def bytes2df(bytes_data,file_type):\n",
    "    if file_type == \"csv\":\n",
    "        data_io = StringIO(bytes_data.decode(\"utf-8\"))\n",
    "        return pd.read_csv(data_io)\n",
    "    elif file_type == \"excel\":\n",
    "        data_io = BytesIO(bytes_data)\n",
    "        return pd.read_excel(data_io)"
   ]
  },
  {
   "cell_type": "markdown",
   "id": "22b20ffd-6715-466e-9ee6-c38f46161099",
   "metadata": {},
   "source": [
    "### Example"
   ]
  },
  {
   "cell_type": "code",
   "execution_count": 35,
   "id": "3f09a844-0d69-46fe-8ecc-5b5c2c5d6caf",
   "metadata": {},
   "outputs": [],
   "source": [
    "@rt\n",
    "def file_upload(req):\n",
    "    add = get_file_input(\n",
    "        'Upload your csv or excel',\n",
    "        id='myFile',post=preview, target_id='content',hx_trigger='change')\n",
    "    \n",
    "    example_file = A(Small('Download Example File'), href=req.url_for('download_example'),download='example.csv')\n",
    "    \n",
    "    return Group(add,example_file), Div(id='content')\n",
    "\n",
    "@app.get\n",
    "def download_example():\n",
    "    return FileResponse('data/example.csv')\n",
    "\n",
    "@app.post\n",
    "async def preview(sess, myFile:UploadFile):\n",
    "    filename = myFile.filename\n",
    "\n",
    "    if filename.endswith('.csv'):\n",
    "        file_type = 'csv'\n",
    "    elif filename.endswith(('.xls', '.xlsx')):\n",
    "        file_type = 'excel'\n",
    "    else:\n",
    "        return add_toast(sess, \"Please upload a csv or excel file\", \"error\")\n",
    "        \n",
    "    # Data as byte string\n",
    "    bytes_data = await myFile.read()\n",
    "    df = bytes2df(bytes_data,file_type)\n",
    "    \n",
    "    if len(df)>100_000:\n",
    "        return add_toast(sess, \"Exceed 100,000 lines, please use python api for large file\", \"warning\")\n",
    "    \n",
    "    return df2html(df.head())"
   ]
  },
  {
   "cell_type": "code",
   "execution_count": 36,
   "id": "96e9a47e-fa0f-4482-a2b2-6c59b3b71914",
   "metadata": {},
   "outputs": [
    {
     "data": {
      "text/html": [
       "<iframe src=\"https://4687-3-81-185-19.ngrok-free.app/file_upload\" style=\"width: 100%; height: auto; border: none;\" onload=\"{\n",
       "        let frame = this;\n",
       "        window.addEventListener('message', function(e) {\n",
       "            if (e.data.height) frame.style.height = (e.data.height+1) + 'px';\n",
       "        }, false);\n",
       "    }\" allow=\"accelerometer; autoplay; camera; clipboard-read; clipboard-write; display-capture; encrypted-media; fullscreen; gamepad; geolocation; gyroscope; hid; identity-credentials-get; idle-detection; magnetometer; microphone; midi; payment; picture-in-picture; publickey-credentials-get; screen-wake-lock; serial; usb; web-share; xr-spatial-tracking\"></iframe> "
      ],
      "text/plain": [
       "<IPython.core.display.HTML object>"
      ]
     },
     "execution_count": 36,
     "metadata": {},
     "output_type": "execute_result"
    }
   ],
   "source": [
    "htmx(url,'/file_upload')"
   ]
  },
  {
   "cell_type": "markdown",
   "id": "9645746b-90e7-46cd-9b46-d7c8db2a8000",
   "metadata": {
    "jp-MarkdownHeadingCollapsed": true
   },
   "source": [
    "## Input text"
   ]
  },
  {
   "cell_type": "code",
   "execution_count": 11,
   "id": "c2d03f17-bae8-4ee4-a1da-0f351328db5b",
   "metadata": {},
   "outputs": [],
   "source": [
    "#| export\n",
    "def get_input(label_text,id,cls=None, type='text',**kwargs):\n",
    "    return Span(\n",
    "        Input(type=type, id=id, cls='form-control',placeholder=label_text,**kwargs),\n",
    "        Label(label_text, fr=id),\n",
    "        cls=f'form-floating {cls}')"
   ]
  },
  {
   "cell_type": "code",
   "execution_count": 12,
   "id": "04c6909b-90d3-4c9b-ac7d-3b3a618bf5b7",
   "metadata": {},
   "outputs": [
    {
     "data": {
      "text/html": [
       "<span class=\"form-floating None\">  <input type=\"text\" placeholder=\"Gene ID\" id=\"aa\" class=\"form-control\" name=\"aa\">\n",
       "<label for=\"aa\">Gene ID</label></span><script>if (window.htmx) htmx.process(document.body)</script>"
      ],
      "text/plain": [
       "<IPython.core.display.HTML object>"
      ]
     },
     "metadata": {},
     "output_type": "display_data"
    }
   ],
   "source": [
    "%%s\n",
    "get_input('Gene ID',id='aa')"
   ]
  },
  {
   "cell_type": "code",
   "execution_count": 16,
   "id": "6e8aad9a-5fde-412f-ba76-b0732ff21424",
   "metadata": {},
   "outputs": [],
   "source": [
    "#| export\n",
    "def get_button(text,cls,**kwargs):\n",
    "    return Button(text,cls=f\"btn btn-primary {cls}\",type='button',**kwargs)"
   ]
  },
  {
   "cell_type": "code",
   "execution_count": 21,
   "id": "fab0e7ad-aa08-4977-b8df-9d3da6f5d8e2",
   "metadata": {},
   "outputs": [
    {
     "data": {
      "text/html": [
       "<form enctype=\"multipart/form-data\" class=\"row g-2\"><span class=\"form-floating col-3\">    <input type=\"text\" placeholder=\"sdf\" id=\"a\" class=\"form-control\" name=\"a\">\n",
       "<label for=\"a\">sdf</label></span><button type=\"button\" class=\"btn btn-primary col-1\">aaa</button></form><script>if (window.htmx) htmx.process(document.body)</script>"
      ],
      "text/plain": [
       "<IPython.core.display.HTML object>"
      ]
     },
     "metadata": {},
     "output_type": "display_data"
    }
   ],
   "source": [
    "%%s\n",
    "Form(get_input('sdf','a',cls='col-3'),get_button('aaa',cls='col-1'),cls='row g-2')"
   ]
  },
  {
   "cell_type": "code",
   "execution_count": 62,
   "id": "8998ed8c-b6af-4493-9f3f-351a0e9b3130",
   "metadata": {},
   "outputs": [],
   "source": [
    "#| export\n",
    "def get_input_list(label_text, input_list, id, cls=None, type='text', **kwargs):\n",
    "    input_div = Div(\n",
    "        Input(type=type, id=id, cls='form-control', placeholder=label_text, autocomplete=\"off\", **kwargs),\n",
    "        Label(label_text, fr=id),\n",
    "        Div(\n",
    "            *[Div(item, cls='dropdown-item', data_value=item) for item in input_list],\n",
    "            id=f'{id}-dropdown',\n",
    "            cls='dropdown-menu'\n",
    "        ),\n",
    "        cls=f'form-floating position-relative {cls}'\n",
    "    )\n",
    "\n",
    "    script = Script(f\"\"\"\n",
    "    document.addEventListener('DOMContentLoaded', function() {{\n",
    "        setupAutocomplete('#{id}', '#{id}-dropdown');\n",
    "    }});\n",
    "    \"\"\")\n",
    "\n",
    "    return input_div, script"
   ]
  },
  {
   "cell_type": "code",
   "execution_count": 64,
   "id": "09123978-02f4-4d11-b272-a30f7e6f8b50",
   "metadata": {
    "scrolled": true
   },
   "outputs": [
    {
     "data": {
      "text/html": [
       "<div class=\"form-floating position-relative None\">\n",
       "  <input type=\"text\" placeholder=\"Select item\" autocomplete=\"off\" id=\"select\" class=\"form-control\" name=\"select\">\n",
       "<label for=\"select\">Select item</label>  <div id=\"select-dropdown\" class=\"dropdown-menu\">\n",
       "    <div data-value=\"a\" class=\"dropdown-item\">a</div>\n",
       "    <div data-value=\"b\" class=\"dropdown-item\">b</div>\n",
       "    <div data-value=\"c\" class=\"dropdown-item\">c</div>\n",
       "    <div data-value=\"d\" class=\"dropdown-item\">d</div>\n",
       "  </div>\n",
       "</div>\n",
       "<script>\n",
       "    document.addEventListener('DOMContentLoaded', function() {\n",
       "        setupAutocomplete('#select', '#select-dropdown');\n",
       "    });\n",
       "    </script><script>if (window.htmx) htmx.process(document.body)</script>"
      ],
      "text/plain": [
       "<IPython.core.display.HTML object>"
      ]
     },
     "metadata": {},
     "output_type": "display_data"
    }
   ],
   "source": [
    "%%s\n",
    "get_input_list('Select item', ['a','b','c','d'],id='select')"
   ]
  },
  {
   "cell_type": "markdown",
   "id": "534a2002-4d90-48ec-8415-b9096761d9be",
   "metadata": {
    "jp-MarkdownHeadingCollapsed": true
   },
   "source": [
    "## TextArea"
   ]
  },
  {
   "cell_type": "code",
   "execution_count": 65,
   "id": "85b22ed6-bc71-4117-9fd1-ceacd8346988",
   "metadata": {},
   "outputs": [
    {
     "data": {
      "text/html": [
       "<textarea placeholder=\"sdf\" rows=\"10\" id=\"s\" class=\"form-control\" name=\"s\"></textarea><script>if (window.htmx) htmx.process(document.body)</script>"
      ],
      "text/plain": [
       "<IPython.core.display.HTML object>"
      ]
     },
     "metadata": {},
     "output_type": "display_data"
    }
   ],
   "source": [
    "%%s\n",
    "Textarea(id='s', placeholder='sdf', cls='form-control',rows=10)"
   ]
  },
  {
   "cell_type": "markdown",
   "id": "584d8939-14ef-4e41-adec-8db6a2ad446f",
   "metadata": {
    "jp-MarkdownHeadingCollapsed": true
   },
   "source": [
    "## Select (default is first)"
   ]
  },
  {
   "cell_type": "code",
   "execution_count": 66,
   "id": "c4cac615-546c-40af-a135-4212c090f723",
   "metadata": {},
   "outputs": [],
   "source": [
    "#| export\n",
    "def get_select(label_text,option_list,id,cls=None, **kwargs):\n",
    "    \"The first item in the option_list is the default\"\n",
    "    return Div(\n",
    "        Select(\n",
    "            Option(option_list[0], value=option_list[0],selected=True),\n",
    "            *[Option(i, value=i) for i in option_list[1:]],\n",
    "            id = id,\n",
    "            cls='form-select',\n",
    "            **kwargs\n",
    "        ),\n",
    "        Label(label_text, fr=id),\n",
    "        cls=f'form-floating {cls}')\n"
   ]
  },
  {
   "cell_type": "markdown",
   "id": "c8c44a1f-a3fd-41ea-8b2a-d727e601ce9a",
   "metadata": {
    "jp-MarkdownHeadingCollapsed": true
   },
   "source": [
    "## Select"
   ]
  },
  {
   "cell_type": "code",
   "execution_count": 67,
   "id": "314f3b1b-1888-477a-be6b-968e33e9318f",
   "metadata": {},
   "outputs": [],
   "source": [
    "#| export\n",
    "def get_select_simple(label_text, select_list,id,cls=None):\n",
    "    return Div(Select(\n",
    "        Option(label_text, selected=True,disabled=True),\n",
    "        *[Option(i,value=i) for i in select_list],\n",
    "        cls='form-select',\n",
    "        id = id), cls=cls)"
   ]
  },
  {
   "cell_type": "code",
   "execution_count": 68,
   "id": "3592e40e-be14-4224-a5a2-127d7aa51ceb",
   "metadata": {},
   "outputs": [
    {
     "data": {
      "text/html": [
       "<div>\n",
       "<select id=\"ssdf\" class=\"form-select\" name=\"ssdf\"><option selected disabled>select one</option><option value=\"a\">a</option><option value=\"b\">b</option><option value=\"c\">c</option></select></div>\n",
       "<script>if (window.htmx) htmx.process(document.body)</script>"
      ],
      "text/plain": [
       "<IPython.core.display.HTML object>"
      ]
     },
     "metadata": {},
     "output_type": "display_data"
    }
   ],
   "source": [
    "%%s\n",
    "get_select_simple('select one', ['a','b','c'],id='ssdf')"
   ]
  },
  {
   "cell_type": "markdown",
   "id": "616bc044-7331-4f11-a50c-1c8cce028b4a",
   "metadata": {
    "jp-MarkdownHeadingCollapsed": true
   },
   "source": [
    "## Select multiple"
   ]
  },
  {
   "cell_type": "code",
   "execution_count": 71,
   "id": "b347fb70-1611-4a28-919c-488793700334",
   "metadata": {},
   "outputs": [],
   "source": [
    "#| export\n",
    "def get_select_simple_multiple(label_text, select_list,id,cls=None):\n",
    "    return Div(Select(\n",
    "        Option(label_text, selected=True,disabled=True),\n",
    "        *[Option(i,value=i) for i in select_list],\n",
    "        cls='form-select',\n",
    "        multiple=True,\n",
    "        id = id), cls=cls)"
   ]
  },
  {
   "cell_type": "code",
   "execution_count": 72,
   "id": "a247f262-1f0b-43a5-978b-1a34699a1421",
   "metadata": {
    "scrolled": true
   },
   "outputs": [
    {
     "data": {
      "text/html": [
       "<div>\n",
       "<select multiple id=\"ssss\" class=\"form-select\" name=\"ssss\"><option selected disabled>select one</option><option value=\"a\">a</option><option value=\"b\">b</option><option value=\"c\">c</option></select></div>\n",
       "<script>if (window.htmx) htmx.process(document.body)</script>"
      ],
      "text/plain": [
       "<IPython.core.display.HTML object>"
      ]
     },
     "metadata": {},
     "output_type": "display_data"
    }
   ],
   "source": [
    "%%s\n",
    "get_select_simple_multiple('select one', ['a','b','c'],id='ssss')"
   ]
  },
  {
   "cell_type": "markdown",
   "id": "87ffed47-cb9a-45c8-97d6-70a4ee2aa379",
   "metadata": {
    "jp-MarkdownHeadingCollapsed": true
   },
   "source": [
    "## Spinner"
   ]
  },
  {
   "cell_type": "code",
   "execution_count": 73,
   "id": "67d10b91-dd72-4900-976e-45b48872f6a5",
   "metadata": {},
   "outputs": [],
   "source": [
    "#| export\n",
    "def get_spinner(id, cls='d-flex justify-content-center'):\n",
    "    return Div(Div(\n",
    "        Span('Loading...', cls='visually-hidden'),\n",
    "        role='status',\n",
    "        cls='htmx-indicator spinner-border',\n",
    "        id=id,\n",
    "    ),cls=cls)"
   ]
  },
  {
   "cell_type": "code",
   "execution_count": 75,
   "id": "3c5dfb49-1f55-4677-b60d-635cbda71fc5",
   "metadata": {},
   "outputs": [
    {
     "data": {
      "text/html": [
       "<div class=\"d-flex justify-content-center\">\n",
       "  <div role=\"status\" id=\"sdf\" class=\"htmx-indicator spinner-border\">\n",
       "<span class=\"visually-hidden\">Loading...</span>  </div>\n",
       "</div>\n",
       "<script>if (window.htmx) htmx.process(document.body)</script>"
      ],
      "text/plain": [
       "<IPython.core.display.HTML object>"
      ]
     },
     "metadata": {},
     "output_type": "display_data"
    }
   ],
   "source": [
    "%%s\n",
    "get_spinner(id='sdf')"
   ]
  },
  {
   "cell_type": "markdown",
   "id": "5a1f2e62-479b-4e98-ae85-4305a80a3c94",
   "metadata": {},
   "source": [
    "Example:"
   ]
  },
  {
   "cell_type": "code",
   "execution_count": 74,
   "id": "b7e80165-eb26-456b-b775-f3964a1bd552",
   "metadata": {},
   "outputs": [],
   "source": [
    "# @app.post\n",
    "# def example():\n",
    "#     ...\n",
    "#     send_select = Form(\n",
    "#             Hidden(value=df.to_json(),id='upload_df'),\n",
    "#             Div(select_list,button,cls='row g-2 align-items-center'),\n",
    "#             post=calculate,\n",
    "#             target_id='result',\n",
    "#             hx_indicator='#spinner',\n",
    "#         )\n",
    "    \n",
    "#     spinner=get_spinner(id='spinner')\n",
    "    \n",
    "#     return send_select, spinner, ...\n"
   ]
  },
  {
   "cell_type": "markdown",
   "id": "a8846d43-0ae6-487a-b721-9cc2b1cf0399",
   "metadata": {},
   "source": [
    "## End"
   ]
  },
  {
   "cell_type": "code",
   "execution_count": 29,
   "id": "68d7ad46-7574-4e92-9606-022f26db9cf3",
   "metadata": {},
   "outputs": [],
   "source": [
    "#| hide\n",
    "import nbdev; nbdev.nbdev_export()"
   ]
  },
  {
   "cell_type": "code",
   "execution_count": 78,
   "id": "2a4fd795-d0c6-4712-be9f-5010562a2d76",
   "metadata": {},
   "outputs": [
    {
     "name": "stdout",
     "output_type": "stream",
     "text": [
      "ngrok tunnel killed\n"
     ]
    }
   ],
   "source": [
    "server.stop()\n",
    "kill_ngrok()"
   ]
  }
 ],
 "metadata": {
  "kernelspec": {
   "display_name": "Python 3",
   "language": "python",
   "name": "python3"
  },
  "language_info": {
   "codemirror_mode": {
    "name": "ipython",
    "version": 3
   },
   "file_extension": ".py",
   "mimetype": "text/x-python",
   "name": "python",
   "nbconvert_exporter": "python",
   "pygments_lexer": "ipython3",
   "version": "3.10.10"
  }
 },
 "nbformat": 4,
 "nbformat_minor": 5
}
