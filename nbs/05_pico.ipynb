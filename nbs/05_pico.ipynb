{
 "cells": [
  {
   "cell_type": "markdown",
   "id": "43e3762c-d51c-427b-a43f-fcdfdc5ee468",
   "metadata": {},
   "source": [
    "# Pico FT"
   ]
  },
  {
   "cell_type": "markdown",
   "id": "af62c107-2d54-4c9d-9e2e-346634f1a635",
   "metadata": {},
   "source": [
    "PicoCSS: https://picocss.com/docs"
   ]
  },
  {
   "cell_type": "markdown",
   "id": "9a0e6f0d-a489-4ba8-80ea-25ff4e10eace",
   "metadata": {},
   "source": [
    "## Setup"
   ]
  },
  {
   "cell_type": "code",
   "execution_count": 1,
   "id": "a7035ce1-7b0a-47b7-beb0-ee1c4b12f4fa",
   "metadata": {},
   "outputs": [],
   "source": [
    "#| default_exp pico"
   ]
  },
  {
   "cell_type": "code",
   "execution_count": 2,
   "id": "999748de-3a62-4c15-a231-d7d132ec2c69",
   "metadata": {},
   "outputs": [],
   "source": [
    "#| export\n",
    "from fasthtml.common import *\n",
    "from fh_commons.core import *"
   ]
  },
  {
   "cell_type": "code",
   "execution_count": 3,
   "id": "046e64c4-6b6a-4dd0-82da-a3d4103b6f85",
   "metadata": {},
   "outputs": [],
   "source": [
    "pico_hdrs = Link(rel='stylesheet', href='https://cdn.jsdelivr.net/npm/@picocss/pico@2/css/pico.min.css')"
   ]
  },
  {
   "cell_type": "code",
   "execution_count": 22,
   "id": "cd161ec0-e012-4bad-90f5-07c4bdec12b7",
   "metadata": {},
   "outputs": [
    {
     "data": {
      "text/html": [
       "<link rel=\"stylesheet\" href=\"https://cdn.jsdelivr.net/npm/@picocss/pico@2/css/pico.min.css\">\n"
      ],
      "text/plain": [
       "<IPython.core.display.HTML object>"
      ]
     },
     "execution_count": 22,
     "metadata": {},
     "output_type": "execute_result"
    }
   ],
   "source": [
    "show(pico_hdrs)"
   ]
  },
  {
   "cell_type": "markdown",
   "id": "10b8d949-c388-4c3a-a472-46b175528122",
   "metadata": {},
   "source": [
    "## Navigation bar"
   ]
  },
  {
   "cell_type": "code",
   "execution_count": 3,
   "id": "22d8cfc6-5a8e-4ed3-bb65-ef46066d8b12",
   "metadata": {},
   "outputs": [],
   "source": [
    "#| export\n",
    "def Navbar(page):\n",
    "    \"Pico nav bar\"\n",
    "    return Nav(\n",
    "        Ul(\n",
    "          Li(A('Home', href='/')),\n",
    "          Li(A(page, href='#'))),\n",
    "        aria_label='breadcrumb')"
   ]
  },
  {
   "cell_type": "code",
   "execution_count": 4,
   "id": "5a18c270-99fb-47cb-99e2-28853d03d16b",
   "metadata": {},
   "outputs": [
    {
     "data": {
      "text/html": [
       "<nav aria-label=\"breadcrumb\">\n",
       "  <ul>\n",
       "    <li>\n",
       "<a href=\"/\">Home</a>    </li>\n",
       "    <li>\n",
       "<a href=\"#\">subpage</a>    </li>\n",
       "  </ul>\n",
       "</nav>\n"
      ],
      "text/plain": [
       "<IPython.core.display.HTML object>"
      ]
     },
     "metadata": {},
     "output_type": "display_data"
    }
   ],
   "source": [
    "%%s\n",
    "Navbar('subpage')"
   ]
  },
  {
   "cell_type": "markdown",
   "id": "42298320-203b-4a1d-b56f-141b67c89f57",
   "metadata": {},
   "source": [
    "## Accordian"
   ]
  },
  {
   "cell_type": "code",
   "execution_count": 5,
   "id": "e54b450a-287d-43f6-9be6-ff4cf53c9e25",
   "metadata": {},
   "outputs": [],
   "source": [
    "#| export\n",
    "def get_accordian(title,context):\n",
    "    \"clickable expand\"\n",
    "    return Details(Summary(title),P(context))"
   ]
  },
  {
   "cell_type": "code",
   "execution_count": 6,
   "id": "fe34ee41-1adc-4b8d-a84e-35a6804fdc1d",
   "metadata": {},
   "outputs": [
    {
     "data": {
      "text/html": [
       "<details><summary>Check details</summary>  <p>\n",
       "    <p>sdfwef</p>\n",
       "  </p>\n",
       "</details>"
      ],
      "text/plain": [
       "<IPython.core.display.HTML object>"
      ]
     },
     "metadata": {},
     "output_type": "display_data"
    }
   ],
   "source": [
    "%%s\n",
    "get_accordian('Check details', P('sdfwef'))"
   ]
  },
  {
   "cell_type": "markdown",
   "id": "cd88e9f7-88a8-4a18-96a0-dd4800cddadb",
   "metadata": {},
   "source": [
    "## Card"
   ]
  },
  {
   "cell_type": "code",
   "execution_count": 7,
   "id": "a97ad96c-4120-402c-9b7b-0e8e7e7e179b",
   "metadata": {},
   "outputs": [
    {
     "data": {
      "text/html": [
       "<article>\n",
       "  <header>sdf</header>\n",
       "body  <p>sdf</p>\n",
       "  <footer>sdfdsf</footer>\n",
       "</article>\n"
      ],
      "text/plain": [
       "<IPython.core.display.HTML object>"
      ]
     },
     "metadata": {},
     "output_type": "display_data"
    }
   ],
   "source": [
    "%%s\n",
    "Card('body', P('sdf'),header='sdf',footer='sdfdsf')"
   ]
  },
  {
   "cell_type": "markdown",
   "id": "a8846d43-0ae6-487a-b721-9cc2b1cf0399",
   "metadata": {},
   "source": [
    "## End"
   ]
  },
  {
   "cell_type": "code",
   "execution_count": 9,
   "id": "68d7ad46-7574-4e92-9606-022f26db9cf3",
   "metadata": {},
   "outputs": [],
   "source": [
    "#| hide\n",
    "import nbdev; nbdev.nbdev_export()"
   ]
  },
  {
   "cell_type": "code",
   "execution_count": null,
   "id": "816641a1-2a32-40cf-9469-6a1298d4764b",
   "metadata": {},
   "outputs": [],
   "source": []
  }
 ],
 "metadata": {
  "kernelspec": {
   "display_name": "Python 3",
   "language": "python",
   "name": "python3"
  },
  "language_info": {
   "codemirror_mode": {
    "name": "ipython",
    "version": 3
   },
   "file_extension": ".py",
   "mimetype": "text/x-python",
   "name": "python",
   "nbconvert_exporter": "python",
   "pygments_lexer": "ipython3",
   "version": "3.10.10"
  }
 },
 "nbformat": 4,
 "nbformat_minor": 5
}
