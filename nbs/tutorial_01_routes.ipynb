{
 "cells": [
  {
   "cell_type": "markdown",
   "id": "4585acf8-926f-480b-a2c1-6055ce61ced7",
   "metadata": {},
   "source": [
    "# Routes"
   ]
  },
  {
   "cell_type": "markdown",
   "id": "7e5f04b6-633e-4192-8ecf-066f71d193f9",
   "metadata": {},
   "source": [
    "## Setup"
   ]
  },
  {
   "cell_type": "code",
   "execution_count": null,
   "id": "61f0e930-1693-4cb6-b6ef-9860371aeea9",
   "metadata": {},
   "outputs": [],
   "source": [
    "from fasthtml.common import *\n",
    "from fasthtml.jupyter import *\n",
    "\n",
    "from fh_commons.core import *\n",
    "from fh_commons.static import *\n",
    "\n",
    "import json\n",
    "import pandas as pd\n",
    "from math import ceil"
   ]
  },
  {
   "cell_type": "code",
   "execution_count": null,
   "id": "e42e58ad-f72d-4356-aca1-04f26443fb5a",
   "metadata": {},
   "outputs": [],
   "source": [
    "from ngrok_token import *\n",
    "url = start_ngrok(token)\n",
    "\n",
    "app,rt = fast_app(pico=False,hdrs=hdrs)\n",
    "server = JupyUvi(app)"
   ]
  },
  {
   "cell_type": "markdown",
   "id": "87e30afa-0a00-49e7-903e-21434d40df48",
   "metadata": {},
   "source": [
    "## Routes"
   ]
  },
  {
   "cell_type": "markdown",
   "id": "7c616d77-a208-4f77-a781-c5a456fe5851",
   "metadata": {},
   "source": [
    "### @rt"
   ]
  },
  {
   "cell_type": "markdown",
   "id": "70f3d1ed-8e41-4ebe-a914-ff1a2aaad291",
   "metadata": {},
   "source": [
    "Both get and post method, function name is the route's name"
   ]
  },
  {
   "cell_type": "code",
   "execution_count": 7,
   "id": "4de6db6e-8ddf-4952-802d-beb56ef5cb4e",
   "metadata": {},
   "outputs": [],
   "source": [
    "@rt\n",
    "def test():\n",
    "    return P('hi')"
   ]
  },
  {
   "cell_type": "markdown",
   "id": "081669ac-b1b9-447e-86fe-3fcc75b256d6",
   "metadata": {},
   "source": [
    "### @rt('/sth')"
   ]
  },
  {
   "cell_type": "markdown",
   "id": "997c84cf-959c-4a45-95d4-fc1870c5acf2",
   "metadata": {},
   "source": [
    "If function name is get or post, then would be either of the method.\n",
    "\n",
    "If function name is something else, would not change the route, but specify the route name"
   ]
  },
  {
   "cell_type": "code",
   "execution_count": 8,
   "id": "e0614e29-0c8e-4212-b27a-af0bbbf857ce",
   "metadata": {},
   "outputs": [],
   "source": [
    "@rt('/something')\n",
    "def get(): return P('hi')"
   ]
  },
  {
   "cell_type": "markdown",
   "id": "e1758a95-8d8a-4d8d-928e-a759f8425d5f",
   "metadata": {},
   "source": [
    "With params:"
   ]
  },
  {
   "cell_type": "code",
   "execution_count": 9,
   "id": "86c0ffa9-1e8a-4486-948b-fb399f94be50",
   "metadata": {},
   "outputs": [],
   "source": [
    "@rt('/something/{data}')\n",
    "def get(data:str): return P(data)"
   ]
  },
  {
   "cell_type": "code",
   "execution_count": 10,
   "id": "52bd5314-edd4-405b-b3ff-1fdf580048b8",
   "metadata": {},
   "outputs": [
    {
     "data": {
      "text/html": [
       "<iframe src=\"https://4687-3-81-185-19.ngrok-free.app/something/sdf\" style=\"width: 100%; height: auto; border: none;\" onload=\"{\n",
       "        let frame = this;\n",
       "        window.addEventListener('message', function(e) {\n",
       "            if (e.data.height) frame.style.height = (e.data.height+1) + 'px';\n",
       "        }, false);\n",
       "    }\" allow=\"accelerometer; autoplay; camera; clipboard-read; clipboard-write; display-capture; encrypted-media; fullscreen; gamepad; geolocation; gyroscope; hid; identity-credentials-get; idle-detection; magnetometer; microphone; midi; payment; picture-in-picture; publickey-credentials-get; screen-wake-lock; serial; usb; web-share; xr-spatial-tracking\"></iframe> "
      ],
      "text/plain": [
       "<IPython.core.display.HTML object>"
      ]
     },
     "execution_count": 10,
     "metadata": {},
     "output_type": "execute_result"
    }
   ],
   "source": [
    "htmx(url,'/something/sdf')"
   ]
  },
  {
   "cell_type": "markdown",
   "id": "a7c139e2-cb74-4cdb-af9d-ec20e4aa36f4",
   "metadata": {},
   "source": [
    "Use function to indicate route's name"
   ]
  },
  {
   "cell_type": "code",
   "execution_count": 11,
   "id": "e4c23d67-8966-46c2-af0d-f3187624cc44",
   "metadata": {},
   "outputs": [],
   "source": [
    "@rt('/something')\n",
    "def sdfsdf(req): \n",
    "    return P(req.url_for('sdfsdf'))"
   ]
  },
  {
   "cell_type": "markdown",
   "id": "20f5e5a3-159f-41c5-933b-9b343583c681",
   "metadata": {},
   "source": [
    "With route's name"
   ]
  },
  {
   "cell_type": "code",
   "execution_count": 12,
   "id": "75bd8e69-e731-4f19-9c67-c277715bc94c",
   "metadata": {},
   "outputs": [],
   "source": [
    "@rt('/something',name='aaa')\n",
    "def get(req): \n",
    "    return P(req.url_for('aaa'))"
   ]
  },
  {
   "cell_type": "markdown",
   "id": "b8af2cec-f0a5-49ae-9229-78b49bd9ab25",
   "metadata": {},
   "source": [
    "### @app.get/post"
   ]
  },
  {
   "cell_type": "markdown",
   "id": "6b451e1c-9548-4166-8e8c-d6c72f09e48f",
   "metadata": {},
   "source": [
    "Similar to @rt, the function name indicates route"
   ]
  },
  {
   "cell_type": "code",
   "execution_count": 13,
   "id": "fd6cafca-fe4e-431e-8ae6-5dc5b7bb3595",
   "metadata": {},
   "outputs": [],
   "source": [
    "@app.get\n",
    "def asdf():\n",
    "    return P('hi')"
   ]
  },
  {
   "cell_type": "markdown",
   "id": "f7740551-a8b8-46e9-88cc-005f0b13db5c",
   "metadata": {},
   "source": [
    "### @app.get('/something')"
   ]
  },
  {
   "cell_type": "code",
   "execution_count": 14,
   "id": "703e172e-3750-4525-8e46-9b4af2114c5b",
   "metadata": {},
   "outputs": [],
   "source": [
    "@app.get('/user/{nm}')\n",
    "def get_nm(nm:str): return f\"Good day to you, {nm}!\""
   ]
  },
  {
   "cell_type": "markdown",
   "id": "e019ce1b-dbf3-4d60-84e7-dd014fd6a6bd",
   "metadata": {},
   "source": [
    "## End"
   ]
  },
  {
   "cell_type": "code",
   "execution_count": null,
   "id": "bfc1669a-a14b-4f35-b9e5-4fca5b02f4d2",
   "metadata": {},
   "outputs": [],
   "source": [
    "server.stop()\n",
    "kill_ngrok()"
   ]
  }
 ],
 "metadata": {
  "kernelspec": {
   "display_name": "Python 3",
   "language": "python",
   "name": "python3"
  },
  "language_info": {
   "codemirror_mode": {
    "name": "ipython",
    "version": 3
   },
   "file_extension": ".py",
   "mimetype": "text/x-python",
   "name": "python",
   "nbconvert_exporter": "python",
   "pygments_lexer": "ipython3",
   "version": "3.10.10"
  }
 },
 "nbformat": 4,
 "nbformat_minor": 5
}
